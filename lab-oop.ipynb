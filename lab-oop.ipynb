{
 "cells": [
  {
   "cell_type": "markdown",
   "metadata": {},
   "source": [
    "# OOP\n",
    "\n",
    "In this lab we will put into practice what we have seen in class.\n",
    "\n",
    "`NOTE: It is split in two different Exercise: Do NOT try to change the order as the idea is to build a class from scratch using all the steps on each exercise` \n",
    "\n",
    "Good Luck! "
   ]
  },
  {
   "cell_type": "markdown",
   "metadata": {},
   "source": [
    "## Exercise 1: Car Class\n",
    "\n",
    "Use the origina code below to start with the exercise: "
   ]
  },
  {
   "cell_type": "code",
   "execution_count": 1,
   "metadata": {},
   "outputs": [],
   "source": [
    "class Car:\n",
    "    def __init__(self, color): \n",
    "        self.color = color"
   ]
  },
  {
   "cell_type": "markdown",
   "metadata": {},
   "source": [
    "### 1.1: Basic Info\n",
    "\n",
    "- This class Car is incomplete. We need to have more attributes, in this case we will need the user to add the Brand of the car (p.e. Fiat, Volvo, etc\") and the number of wheels (always 4). Build the first function called info, where it should print all the information of the car.\n",
    "- Try using the upper, capitalize or lower methods of strings to make the print look realistic. "
   ]
  },
  {
   "cell_type": "code",
   "execution_count": 4,
   "metadata": {},
   "outputs": [
    {
     "name": "stdout",
     "output_type": "stream",
     "text": [
      "Informacion del auto:\n",
      "Marca: Fiat\n",
      "Color: Azul\n",
      "Numero de ruedas: 4\n"
     ]
    }
   ],
   "source": [
    "class Car:\n",
    "    def __init__(self, color, brand): \n",
    "        self.color = color\n",
    "        self.brand = brand\n",
    "        self.num_wheels = 4\n",
    "\n",
    "    def info(self):\n",
    "        print(f\"Informacion del auto:\\n\"\n",
    "              f\"Marca: {self.brand.capitalize()}\\n\"\n",
    "              f\"Color: {self.color.capitalize()}\\n\"\n",
    "              f\"Numero de ruedas: {self.num_wheels}\")\n",
    "\n",
    "my_car = Car(color=\"azul\", brand=\"Fiat\")\n",
    "my_car.info()\n"
   ]
  },
  {
   "cell_type": "code",
   "execution_count": 5,
   "metadata": {},
   "outputs": [
    {
     "name": "stdout",
     "output_type": "stream",
     "text": [
      "Informacion del auto:\n",
      "Marca: Bmw\n",
      "Color: Red\n",
      "Numero de ruedas: 4\n"
     ]
    }
   ],
   "source": [
    "# try your code with this example\n",
    "bmw=Car(\"red\", \"BMW\")\n",
    "bmw.info()"
   ]
  },
  {
   "cell_type": "markdown",
   "metadata": {},
   "source": [
    "### 1.2: Turn On/Off\n",
    "\n",
    "- Set a new attribute called `engine`. In it there will only be two options, ON and OFF. Originally, this new attribute will be OFF as the car engine will be OFF. \n",
    "- Create two more methods called `encender` and `apagar`. Take into consideration that if the car is ON and you try the encender, a message should be printed: \"No se puede encender "
   ]
  },
  {
   "cell_type": "code",
   "execution_count": 7,
   "metadata": {},
   "outputs": [
    {
     "name": "stdout",
     "output_type": "stream",
     "text": [
      "Informacion del auto:\n",
      "Marca: Fiat\n",
      "Color: Blue\n",
      "Numero de ruedas: 4\n",
      "Motor: OFF\n",
      "Turning the engine ON.\n",
      "Turning the engine OFF.\n",
      "Turning the engine ON.\n",
      "No se puede encender. The engine is already ON.\n",
      "Informacion del auto:\n",
      "Marca: Fiat\n",
      "Color: Blue\n",
      "Numero de ruedas: 4\n",
      "Motor: ON\n"
     ]
    }
   ],
   "source": [
    "class Car:\n",
    "    def __init__(self, color, brand): \n",
    "        self.color = color\n",
    "        self.brand = brand\n",
    "        self.num_wheels = 4\n",
    "        self.engine = \"OFF\"\n",
    "\n",
    "    def info(self):\n",
    "        print(f\"Informacion del auto:\\n\"\n",
    "              f\"Marca: {self.brand.capitalize()}\\n\"\n",
    "              f\"Color: {self.color.capitalize()}\\n\"\n",
    "              f\"Numero de ruedas: {self.num_wheels}\\n\"\n",
    "              f\"Motor: {self.engine}\")\n",
    "\n",
    "    def encender(self):\n",
    "        if self.engine == \"OFF\":\n",
    "            print(\"Turning the engine ON.\")\n",
    "            self.engine = \"ON\"\n",
    "        else:\n",
    "            print(\"No se puede encender. The engine is already ON.\")\n",
    "\n",
    "    def apagar(self):\n",
    "        if self.engine == \"ON\":\n",
    "            print(\"Turning the engine OFF.\")\n",
    "            self.engine = \"OFF\"\n",
    "        else:\n",
    "            print(\"No se puede apagar. The engine is already OFF.\")\n",
    "\n",
    "my_car = Car(color=\"blue\", brand=\"Fiat\")\n",
    "my_car.info()\n",
    "\n",
    "my_car.encender()\n",
    "my_car.apagar()\n",
    "my_car.encender()\n",
    "my_car.encender()\n",
    "my_car.info()\n"
   ]
  },
  {
   "cell_type": "code",
   "execution_count": 10,
   "metadata": {},
   "outputs": [
    {
     "name": "stdout",
     "output_type": "stream",
     "text": [
      "Turning the engine OFF.\n"
     ]
    }
   ],
   "source": [
    "#Try the method a couple of times to see if the behaviour of the car is working well (p.e. dos veces función encendida o 2 veces función apagada)\n",
    "my_car.apagar()"
   ]
  },
  {
   "cell_type": "code",
   "execution_count": 11,
   "metadata": {
    "tags": []
   },
   "outputs": [
    {
     "name": "stdout",
     "output_type": "stream",
     "text": [
      "No se puede apagar. The engine is already OFF.\n"
     ]
    }
   ],
   "source": [
    "my_car.apagar()"
   ]
  },
  {
   "cell_type": "markdown",
   "metadata": {},
   "source": [
    "### 1.3 Accelerate/reduce/break\n",
    "\n",
    "Here we are going to set a new attribute: `speed`. The original speed of each vehicle must be 0. We will then add three methods: acelerar, reducir and frenar. `acelerar` will increase the speed, `reducir` will reduce it and `frenar` will take it back to 0 again. \n",
    "Extra conditions: \n",
    "\n",
    "Try tu use the logic to know some basic interactions between this methods and the methods seen in 1.2. First try it yourself before revealing the hidden information!\n",
    "\n",
    "\n",
    "<details>\n",
    "    <summary> Expand the box to see the logic between methods </summary>\n",
    "    \n",
    "- The engine must be ON to use this 3 new method\n",
    "\n",
    "- If the speed is different to 0, you can not use the `apagar` method\n",
    "\n",
    "- If you use `reducir` to a number that makes the speed in negative numbers, you can not use reducir.  \n",
    "\n",
    "- To avoid using the `__dict__`, add the speed and the engine state as new info in the `info` method\n",
    "\n",
    "- For both `acelerar` and `reducir`, everytime you use this method you must send an argument (how much is the car accelerating and reducing everytime you call this function)\n",
    "\n",
    "</details>\n"
   ]
  },
  {
   "cell_type": "code",
   "execution_count": 35,
   "metadata": {},
   "outputs": [
    {
     "name": "stdout",
     "output_type": "stream",
     "text": [
      "Informacion del auto:\n",
      "Marca: Fiat\n",
      "Color: Blue\n",
      "Numero de ruedas: 4\n",
      "Motor: OFF\n",
      "Velocidad: 0 km/h\n",
      "Turning the engine ON.\n",
      "Velocidad: 20 km/h\n",
      "Auto parado. la velocidad ahora es de 0 km/h\n",
      "Velocidad: 30 km/h\n",
      "Auto parado. la velocidad ahora es de 0 km/h\n",
      "Turning the engine OFF.\n",
      "Informacion del auto:\n",
      "Marca: Fiat\n",
      "Color: Blue\n",
      "Numero de ruedas: 4\n",
      "Motor: OFF\n",
      "Velocidad: 0 km/h\n"
     ]
    }
   ],
   "source": [
    "class Car:\n",
    "    def __init__(self, color, brand): \n",
    "        self.color = color\n",
    "        self.brand = brand\n",
    "        self.num_wheels = 4\n",
    "        self.engine = \"OFF\"\n",
    "        self.speed = 0\n",
    "\n",
    "    def info(self):\n",
    "        print(f\"Informacion del auto:\\n\"\n",
    "              f\"Marca: {self.brand.capitalize()}\\n\"\n",
    "              f\"Color: {self.color.capitalize()}\\n\"\n",
    "              f\"Numero de ruedas: {self.num_wheels}\\n\"\n",
    "              f\"Motor: {self.engine}\\n\"\n",
    "              f\"Velocidad: {self.speed} km/h\")\n",
    "\n",
    "    def encender(self):\n",
    "        if self.engine == \"OFF\":\n",
    "            print(\"Turning the engine ON.\")\n",
    "            self.engine = \"ON\"\n",
    "        else:\n",
    "            print(\"No se puede encender. The engine is already ON.\")\n",
    "\n",
    "    def apagar(self):\n",
    "        if self.engine == \"ON\":\n",
    "            print(\"Turning the engine OFF.\")\n",
    "            self.engine = \"OFF\"\n",
    "            self.speed = 0 \n",
    "        else:\n",
    "            print(\"No se puede apagar. The engine is already OFF.\")\n",
    "\n",
    "    def acelerar(self, increment):\n",
    "        if self.engine == \"ON\":\n",
    "            self.speed += increment\n",
    "            print(f\"Velocidad: {self.speed} km/h\")\n",
    "        else:\n",
    "            print(\"No se puede acelerar. Turn the engine ON first.\")\n",
    "\n",
    "    def frenar(self):\n",
    "        if self.engine == \"ON\":\n",
    "            self.speed = 0\n",
    "            print(\"Auto parado. la velocidad ahora es de 0 km/h\")\n",
    "        else:\n",
    "            print(\"No se puede frenar. Turn the engine ON first.\")\n",
    "\n",
    "my_car = Car(color=\"blue\", brand=\"Fiat\")\n",
    "my_car.info()\n",
    "my_car.encender()\n",
    "my_car.acelerar(20)\n",
    "my_car.frenar()\n",
    "my_car.acelerar(30)\n",
    "my_car.frenar()\n",
    "my_car.apagar()\n",
    "my_car.info()\n"
   ]
  },
  {
   "cell_type": "code",
   "execution_count": 13,
   "metadata": {},
   "outputs": [],
   "source": [
    "#Try combos with this same car!\n",
    "bmw=Car(\"rojo\", \"BMW\")"
   ]
  },
  {
   "cell_type": "code",
   "execution_count": 34,
   "metadata": {},
   "outputs": [
    {
     "name": "stdout",
     "output_type": "stream",
     "text": [
      "Informacion del auto:\n",
      "Marca: Bmw\n",
      "Color: Rojo\n",
      "Numero de ruedas: 4\n",
      "Motor: OFF\n",
      "Velocidad: 0 km/h\n",
      "Velocidad maxima 120 km/h\n",
      "Turning the engine ON.\n",
      "Accelerating. Current speed: 20 km/h\n",
      "Bringing the car to a stop. Speed is now 0 km/h\n",
      "Accelerating. Current speed: 30 km/h\n",
      "Bringing the car to a stop. Speed is now 0 km/h\n",
      "Turning the engine OFF.\n",
      "Informacion del auto:\n",
      "Marca: Bmw\n",
      "Color: Rojo\n",
      "Numero de ruedas: 4\n",
      "Motor: OFF\n",
      "Velocidad: 0 km/h\n",
      "Velocidad maxima 120 km/h\n"
     ]
    }
   ],
   "source": [
    "#Try all the combinations you like and see if it works!\n",
    "\n",
    "#bmw.info()\n",
    "#bmw.encender()\n",
    "#bmw.acelerar(5)\n",
    "#bmw.reducir(4)\n",
    "#bmw.info()\n",
    "#bmw.apagar()\n",
    "#bmw.frenar()\n",
    "#bmw.apagar()\n",
    "\n",
    "my_car = Car(color=\"rojo\", brand=\"BMW\")\n",
    "\n",
    "\n",
    "my_car.info()\n",
    "my_car.encender()\n",
    "my_car.acelerar(20)\n",
    "my_car.frenar()\n",
    "my_car.acelerar(30)\n",
    "my_car.frenar()\n",
    "my_car.apagar()\n",
    "my_car.info()\n",
    "\n",
    "# al intentar realizar la funcion de reducir me daba error en los dos ejemplos."
   ]
  },
  {
   "cell_type": "markdown",
   "metadata": {},
   "source": [
    "### 1.4 Maximum Speed\n",
    "\n",
    "We will now set a new parameter the user should introduce: `max_speed`. If the user do NOT set this parameter, the **default value** should be 120\n",
    "\n",
    "(the code should work for both Car(\"blue\", \"FIAT\") and Car(\"purple\", \"Mini\", 130) )\n",
    "\n",
    "The only thing that must change from the previous code is that your speed can NEVER be over the limit of the car. If you try to accelerate more, the speed of the car will be max_speed. "
   ]
  },
  {
   "cell_type": "code",
   "execution_count": null,
   "metadata": {},
   "outputs": [],
   "source": [
    "# Your Code here: "
   ]
  },
  {
   "cell_type": "code",
   "execution_count": 36,
   "metadata": {},
   "outputs": [
    {
     "name": "stdout",
     "output_type": "stream",
     "text": [
      "Informacion del auto:\n",
      "Marca: Fiat\n",
      "Color: Blue\n",
      "Numero de ruedas: 4\n",
      "Motor: OFF\n",
      "Velocidad: 0 km/h\n",
      "Velocidad maxima 120 km/h\n",
      "Informacion del auto:\n",
      "Marca: Mini\n",
      "Color: Purple\n",
      "Numero de ruedas: 4\n",
      "Motor: OFF\n",
      "Velocidad: 0 km/h\n",
      "Velocidad maxima 130 km/h\n",
      "Turning the engine ON.\n",
      "Turning the engine ON.\n",
      "Accelerating. Current speed: 120 km/h\n",
      "Accelerating. Current speed: 130 km/h\n",
      "Informacion del auto:\n",
      "Marca: Fiat\n",
      "Color: Blue\n",
      "Numero de ruedas: 4\n",
      "Motor: ON\n",
      "Velocidad: 120 km/h\n",
      "Velocidad maxima 120 km/h\n",
      "Informacion del auto:\n",
      "Marca: Mini\n",
      "Color: Purple\n",
      "Numero de ruedas: 4\n",
      "Motor: ON\n",
      "Velocidad: 130 km/h\n",
      "Velocidad maxima 130 km/h\n"
     ]
    }
   ],
   "source": [
    "class Car:\n",
    "    def __init__(self, color, brand, max_speed=120): \n",
    "        self.color = color\n",
    "        self.brand = brand\n",
    "        self.num_wheels = 4\n",
    "        self.engine = \"OFF\"\n",
    "        self.speed = 0\n",
    "        self.max_speed = max_speed\n",
    "\n",
    "    def info(self):\n",
    "        print(f\"Informacion del auto:\\n\"\n",
    "              f\"Marca: {self.brand.capitalize()}\\n\"\n",
    "              f\"Color: {self.color.capitalize()}\\n\"\n",
    "              f\"Numero de ruedas: {self.num_wheels}\\n\"\n",
    "              f\"Motor: {self.engine}\\n\"\n",
    "              f\"Velocidad: {self.speed} km/h\\n\"\n",
    "              f\"Velocidad maxima {self.max_speed} km/h\")\n",
    "\n",
    "    def encender(self):\n",
    "        if self.engine == \"OFF\":\n",
    "            print(\"Turning the engine ON.\")\n",
    "            self.engine = \"ON\"\n",
    "        else:\n",
    "            print(\"No se puede encender. The engine is already ON.\")\n",
    "\n",
    "    def apagar(self):\n",
    "        if self.engine == \"ON\":\n",
    "            print(\"Turning the engine OFF.\")\n",
    "            self.engine = \"OFF\"\n",
    "            self.speed = 0 \n",
    "        else:\n",
    "            print(\"No se puede apagar. The engine is already OFF.\")\n",
    "\n",
    "    def acelerar(self, increment):\n",
    "        if self.engine == \"ON\":\n",
    "            self.speed += increment\n",
    "            self.speed = min(self.speed, self.max_speed) \n",
    "            print(f\"Accelerating. Current speed: {self.speed} km/h\")\n",
    "        else:\n",
    "            print(\"No se puede acelerar. Turn the engine ON first.\")\n",
    "\n",
    "    def frenar(self):\n",
    "        if self.engine == \"ON\":\n",
    "            self.speed = 0\n",
    "            print(\"Bringing the car to a stop. Speed is now 0 km/h\")\n",
    "        else:\n",
    "            print(\"No se puede frenar. Turn the engine ON first.\")\n",
    "\n",
    "\n",
    "car1 = Car(color=\"blue\", brand=\"FIAT\")\n",
    "car2 = Car(color=\"purple\", brand=\"Mini\", max_speed=130)\n",
    "\n",
    "car1.info()\n",
    "car2.info()\n",
    "car1.encender()\n",
    "car2.encender()\n",
    "car1.acelerar(220)\n",
    "car2.acelerar(180)  \n",
    "\n",
    "car1.info()\n",
    "car2.info()\n"
   ]
  },
  {
   "cell_type": "markdown",
   "metadata": {},
   "source": [
    "## Exercise 2: Inheritance\n",
    "\n",
    "Let's recover this example set in our class: "
   ]
  },
  {
   "cell_type": "code",
   "execution_count": 43,
   "metadata": {},
   "outputs": [],
   "source": [
    "class Staff ():\n",
    "        \n",
    "    def __init__ (self, name, fname):\n",
    "        self.name = name.capitalize()\n",
    "        self.fname = fname\n",
    "        \n",
    "        # Default\n",
    "        self.time_off = 20\n",
    "        \n",
    "        #Default: as a result\n",
    "        self.email = self.name.lower() + \".\" + self.fname.lower() + \"@ironhack.com\"\n",
    "        \n",
    "        self.hobbies = []\n",
    "        \n",
    "    \n",
    "    def introduce (self):\n",
    "        return f\"Hello, my name is {self.name}!\"\n",
    "    \n",
    "    def takes_days_off (self, number):\n",
    "        if self.time_off-number >= 0:\n",
    "            self.time_off -= number\n",
    "            return f\"Now you have {self.time_off} days off available\"\n",
    "        else:\n",
    "            return f\"Sorry, you ran out of days. Your total time_off available is {self.time_off}\"\n",
    "    \n",
    "    def hobbies_function (self, *hob): #passing an optional argument\n",
    "        if hob:\n",
    "            for i in hob:\n",
    "                self.hobbies.append(i)\n",
    "                print(f\"We added: {self.hobbies[-1]}\")\n",
    "            return self.hobbies_function()\n",
    "        else:\n",
    "            new = \", \".join([i for i in self.hobbies])\n",
    "            return f\"My hobbies are: {new}\""
   ]
  },
  {
   "cell_type": "markdown",
   "metadata": {},
   "source": [
    "### 2.1 Class Variable\n",
    "\n",
    "Create a class variable (attribute shared by everybody in the organization). This class variable will `company`, and it should be always **Ironhack**"
   ]
  },
  {
   "cell_type": "code",
   "execution_count": 48,
   "metadata": {},
   "outputs": [
    {
     "name": "stdout",
     "output_type": "stream",
     "text": [
      "Company: Ironhack\n"
     ]
    }
   ],
   "source": [
    "# Your code here: \n",
    "class Staff:\n",
    "    company = \"Ironhack\"\n",
    "    \n",
    "    def __init__(self, name, fname):\n",
    "        self.name = name.capitalize()\n",
    "        self.fname = fname\n",
    "        self.time_off = 20\n",
    "        self.email = self.name.lower() + \".\" + self.fname.lower() + \"@ironhack.com\"\n",
    "        self.hobbies = []\n",
    "\n",
    "    def introduce(self):\n",
    "        return f\"Hello, my name is {self.name}!\"\n",
    "\n",
    "    def takes_days_off(self, number):\n",
    "        if self.time_off - number >= 0:\n",
    "            self.time_off -= number\n",
    "            return f\"Now you have {self.time_off} days off available\"\n",
    "        else:\n",
    "            return f\"Sorry, you ran out of days. Your total time_off available is {self.time_off}\"\n",
    "\n",
    "    def hobbies_function(self, *hob):\n",
    "        if hob:\n",
    "            for i in hob:\n",
    "                self.hobbies.append(i)\n",
    "                print(f\"We added: {self.hobbies[-1]}\")\n",
    "            return self.hobbies_function()\n",
    "        else:\n",
    "            new = \", \".join([i for i in self.hobbies])\n",
    "            return f\"My hobbies are: {new}\"\n",
    "\n",
    "        \n",
    "\n",
    "staff_member = Staff(name=\"John\", fname=\"Doe\")\n",
    "print(f\"Company: {staff_member.company}\")\n",
    "\n"
   ]
  },
  {
   "cell_type": "markdown",
   "metadata": {},
   "source": [
    "### 1.2 Info Method\n",
    "\n",
    "As in the previous exercise, set a method to know all the information related with each person: Name, Surname, Time_Off Available, Mail, hobbies and Company"
   ]
  },
  {
   "cell_type": "code",
   "execution_count": 51,
   "metadata": {},
   "outputs": [],
   "source": [
    "class Staff:\n",
    "    company = \"Ironhack\"\n",
    "    \n",
    "    def __init__(self, name, fname):\n",
    "        self.name = name.capitalize()\n",
    "        self.fname = fname\n",
    "        self.time_off = 20\n",
    "        self.email = self.name.lower() + \".\" + self.fname.lower() + \"@ironhack.com\"\n",
    "        self.hobbies = []\n",
    "\n",
    "    def introduce(self):\n",
    "        return f\"Hello, my name is {self.name}!\"\n",
    "\n",
    "    def takes_days_off(self, number):\n",
    "        if self.time_off - number >= 0:\n",
    "            self.time_off -= number\n",
    "            return f\"Now you have {self.time_off} days off available\"\n",
    "        else:\n",
    "            return f\"Sorry, you ran out of days. Your total time_off available is {self.time_off}\"\n",
    "\n",
    "    def hobbies_function(self, *hob):\n",
    "        if hob:\n",
    "            for i in hob:\n",
    "                self.hobbies.append(i)\n",
    "                print(f\"We added: {self.hobbies[-1]}\")\n",
    "            return self.hobbies_function()\n",
    "        else:\n",
    "            new = \", \".join([i for i in self.hobbies])\n",
    "            return f\"My hobbies are: {new}\"\n",
    "\n",
    "    def info(self):\n",
    "        print(f\"Information:\\n\"\n",
    "              f\"Name: {self.name}\\n\"\n",
    "              f\"Last Name: {self.fname}\\n\"\n",
    "              f\"Days Off Available: {self.time_off}\\n\"\n",
    "              f\"Email: {self.email}\\n\"\n",
    "              f\"Hobbies: {', '.join(self.hobbies)}\\n\"\n",
    "              f\"Company: {self.company}\")\n"
   ]
  },
  {
   "cell_type": "code",
   "execution_count": 52,
   "metadata": {},
   "outputs": [
    {
     "name": "stdout",
     "output_type": "stream",
     "text": [
      "We added: Basketball\n",
      "We added: Board Games\n",
      "We added: Coding\n",
      "Information:\n",
      "Name: Gonzalo\n",
      "Last Name: Quesada\n",
      "Days Off Available: 15\n",
      "Email: gonzalo.quesada@ironhack.com\n",
      "Hobbies: Basketball, Board Games, Coding\n",
      "Company: Ironhack\n"
     ]
    }
   ],
   "source": [
    "bestteacherever=Staff(\"Gonzalo\", \"Quesada\")\n",
    "bestteacherever.hobbies_function(\"Basketball\", \"Board Games\", \"Coding\")\n",
    "bestteacherever.takes_days_off(5)\n",
    "bestteacherever.info()"
   ]
  },
  {
   "cell_type": "markdown",
   "metadata": {},
   "source": [
    "### 1.3 Inheritance\n",
    "\n",
    "Now suppose the Marketing department works differently, but inside the organization. In other words, Staff will be the Parent Class and Marketing the Child. The differences are: \n",
    "\n",
    "- The mail must end with .mktg (for example, instead of laura.molas@ironhack.com it should be laura.molas.mktg@ironhack.com)\n",
    "- The total days they have of time_off is 30 (Lucky them...)\n",
    "- In addition, in the `introduce` method, they should salute the same as in Staff BUT adding that they are from the Marketing dpt. "
   ]
  },
  {
   "cell_type": "code",
   "execution_count": 61,
   "metadata": {},
   "outputs": [],
   "source": [
    "class Marketing(Staff):\n",
    "    def __init__(self, name, fname):\n",
    "        super().__init__(name, fname)\n",
    "\n",
    "        self.email = self.name.lower() + \".\" + self.fname.lower() + \".mktg@ironhack.com\"\n",
    "        self.time_off = 30 \n",
    "\n",
    "    def introduce(self):\n",
    "        return super().introduce() + \" I'm from the Marketing department.\""
   ]
  },
  {
   "cell_type": "code",
   "execution_count": 62,
   "metadata": {},
   "outputs": [
    {
     "name": "stdout",
     "output_type": "stream",
     "text": [
      "We added: Photography\n",
      "We added: Animals\n",
      "Information:\n",
      "Name: Laura\n",
      "Last Name: Molas\n",
      "Days Off Available: 30\n",
      "Email: laura.molas.mktg@ironhack.com\n",
      "Hobbies: Photography, Animals\n",
      "Company: Ironhack\n"
     ]
    },
    {
     "data": {
      "text/plain": [
       "\"Hello, my name is Laura! I'm from the Marketing department.\""
      ]
     },
     "execution_count": 62,
     "metadata": {},
     "output_type": "execute_result"
    }
   ],
   "source": [
    "mktg=Marketing(\"Laura\", \"Molas\")\n",
    "mktg.hobbies_function(\"Photography\", \"Animals\")\n",
    "mktg.info()\n",
    "mktg.introduce()"
   ]
  }
 ],
 "metadata": {
  "kernelspec": {
   "display_name": "Python 3 (ipykernel)",
   "language": "python",
   "name": "python3"
  },
  "language_info": {
   "codemirror_mode": {
    "name": "ipython",
    "version": 3
   },
   "file_extension": ".py",
   "mimetype": "text/x-python",
   "name": "python",
   "nbconvert_exporter": "python",
   "pygments_lexer": "ipython3",
   "version": "3.11.5"
  }
 },
 "nbformat": 4,
 "nbformat_minor": 4
}
