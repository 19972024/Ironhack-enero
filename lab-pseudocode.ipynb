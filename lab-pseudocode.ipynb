{
 "cells": [
  {
   "cell_type": "markdown",
   "metadata": {},
   "source": [
    "# PSEUDOCODE\n",
    "\n",
    "(Please dont kill me)"
   ]
  },
  {
   "cell_type": "markdown",
   "metadata": {},
   "source": [
    "In this lab, you will work to find any solution(hopefully the easiest) to complete this exercises. \n",
    "\n",
    "The second 1 is a BONUS\n",
    "\n",
    "Any further question please ask me or Sandra"
   ]
  },
  {
   "cell_type": "markdown",
   "metadata": {},
   "source": [
    "## EXERCISE 1: RANDOM GUESS OF A NUMBER\n",
    "\n",
    "The user must give you the start and final number. Your code must be developed to select a random number between this 2. If your selection is too high/low you must give a hint to the user: The number is too high/low. Finally, when the user selects the correct number you must return a \"Congratulations etc\" and the number of guesses needed to find the number. \n",
    "\n",
    "IF YOU TRY IT AND YOU FIND THE NUMBER FIRST GUESS, PLEASE SEND A SCREENSHOT VIA SLACK `(MANDATORY)`"
   ]
  },
  {
   "cell_type": "code",
   "execution_count": 19,
   "metadata": {
    "tags": []
   },
   "outputs": [
    {
     "name": "stdin",
     "output_type": "stream",
     "text": [
      "Introduzca el numero inicial:  1\n",
      "Introduzca el numero final:  10\n"
     ]
    },
    {
     "name": "stdout",
     "output_type": "stream",
     "text": [
      "Adivina un numero entre 1 y 10\n"
     ]
    },
    {
     "name": "stdin",
     "output_type": "stream",
     "text": [
      "Tu eleccion:  5\n"
     ]
    },
    {
     "name": "stdout",
     "output_type": "stream",
     "text": [
      "Muy alto! Intentalo de nuevo.\n"
     ]
    },
    {
     "name": "stdin",
     "output_type": "stream",
     "text": [
      "Tu eleccion:  4\n"
     ]
    },
    {
     "name": "stdout",
     "output_type": "stream",
     "text": [
      "Felicitaciones! Adivinaste el numero correcto 4 en 2 intentos.\n"
     ]
    }
   ],
   "source": [
    "import random\n",
    "\n",
    "def random_guess_number(start, end):\n",
    "    secret_number = random.randint(start, end)\n",
    "    guesses = 0\n",
    "    guess = None\n",
    "    \n",
    "    print(f\"Adivina un numero entre {start} y {end}\")\n",
    "    \n",
    "    while guess != secret_number:\n",
    "        try:\n",
    "         \n",
    "            guess = int(input(\"Tu eleccion: \"))\n",
    "            guesses += 1\n",
    "            \n",
    "          \n",
    "            if guess < secret_number:\n",
    "                print(\"Muy bajo! Intentalo de nuevo.\")\n",
    "            elif guess > secret_number:\n",
    "                print(\"Muy alto! Intentalo de nuevo.\")\n",
    "        except ValueError:\n",
    "            print(\"Introduzca un numero valido.\")\n",
    "    \n",
    "  \n",
    "    print(f\"Felicitaciones! Adivinaste el numero correcto {secret_number} en {guesses} intentos.\")\n",
    "\n",
    "start_number = int(input(\"Introduzca el numero inicial: \"))\n",
    "end_number = int(input(\"Introduzca el numero final: \"))\n",
    "\n",
    "random_guess_number(start_number, end_number)\n"
   ]
  },
  {
   "cell_type": "markdown",
   "metadata": {},
   "source": [
    "## EXERCISE 2 (OPTIONAL): LET'S DEVELOP R-P-S"
   ]
  },
  {
   "cell_type": "markdown",
   "metadata": {},
   "source": [
    "Let's develop the code used in class: The R-P-S (Example below)\n",
    "The main problem with this code is that whoever wins a round, wins the match: The user must select the number of rounds needed to win the match. Enjoy!"
   ]
  },
  {
   "cell_type": "code",
   "execution_count": 3,
   "metadata": {
    "tags": []
   },
   "outputs": [],
   "source": [
    "def rps(): \n",
    "    import random\n",
    "    opciones=[\"tijera\", \"piedra\", \"papel\"]\n",
    "    user=input(\"Un dos tres, piedra papel tijera un dos tres YA: \").lower()\n",
    "    cpu=random.choice(opciones)\n",
    "\n",
    "    while True:\n",
    "        if user in opciones: \n",
    "            break\n",
    "        else: \n",
    "            user=input(\"ESO NO VALE. Dime otra cosa: \")\n",
    "    print(f\"Tú has elegido {user} y la máquina ha elegido {cpu}\")\n",
    "    if (user==\"tijera\" and cpu==\"papel\") or (user==\"papel\" and cpu==\"piedra\") or (user==\"piedra\" and cpu==\"tijera\"):\n",
    "        print(\"Has ganado!!\")\n",
    "        return \"Ganador\"\n",
    "    elif user==cpu:\n",
    "        print(\"Empate!\")\n",
    "        return \"Empate\"\n",
    "\n",
    "    else: \n",
    "        print(\"Has perdido!\")\n",
    "        return \"Perdedor\""
   ]
  },
  {
   "cell_type": "code",
   "execution_count": 4,
   "metadata": {
    "tags": []
   },
   "outputs": [
    {
     "name": "stdin",
     "output_type": "stream",
     "text": [
      "Un dos tres, piedra papel tijera un dos tres YA:  papel\n"
     ]
    },
    {
     "name": "stdout",
     "output_type": "stream",
     "text": [
      "Tú has elegido papel y la máquina ha elegido piedra\n",
      "Has ganado!!\n"
     ]
    },
    {
     "data": {
      "text/plain": [
       "'Ganador'"
      ]
     },
     "execution_count": 4,
     "metadata": {},
     "output_type": "execute_result"
    }
   ],
   "source": [
    "rps()"
   ]
  }
 ],
 "metadata": {
  "kernelspec": {
   "display_name": "Python 3 (ipykernel)",
   "language": "python",
   "name": "python3"
  },
  "language_info": {
   "codemirror_mode": {
    "name": "ipython",
    "version": 3
   },
   "file_extension": ".py",
   "mimetype": "text/x-python",
   "name": "python",
   "nbconvert_exporter": "python",
   "pygments_lexer": "ipython3",
   "version": "3.11.5"
  }
 },
 "nbformat": 4,
 "nbformat_minor": 4
}
