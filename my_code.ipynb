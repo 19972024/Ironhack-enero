{
 "cells": [
  {
   "cell_type": "markdown",
   "metadata": {},
   "source": [
    "# Part 1 - Getting and Knowing your Data"
   ]
  },
  {
   "cell_type": "markdown",
   "metadata": {
    "tags": []
   },
   "source": [
    "This time we are going to pull data directly from the internet.\n",
    "Special thanks to: https://github.com/justmarkham for sharing the dataset and materials.\n",
    "\n",
    "### Step 1. Import the necessary libraries"
   ]
  },
  {
   "cell_type": "code",
   "execution_count": 1,
   "metadata": {
    "collapsed": false,
    "jupyter": {
     "outputs_hidden": false
    },
    "tags": []
   },
   "outputs": [],
   "source": [
    "import numpy as np\n",
    "import pandas as pd"
   ]
  },
  {
   "cell_type": "markdown",
   "metadata": {
    "tags": []
   },
   "source": [
    "### Step 2. Import the dataset from this [address](https://raw.githubusercontent.com/justmarkham/DAT8/master/data/chipotle.tsv). "
   ]
  },
  {
   "cell_type": "code",
   "execution_count": 10,
   "metadata": {
    "tags": []
   },
   "outputs": [
    {
     "name": "stdout",
     "output_type": "stream",
     "text": [
      "<bound method DataFrame.info of       order_id  quantity                              item_name  \\\n",
      "0            1         1           Chips and Fresh Tomato Salsa   \n",
      "1            1         1                                   Izze   \n",
      "2            1         1                       Nantucket Nectar   \n",
      "3            1         1  Chips and Tomatillo-Green Chili Salsa   \n",
      "4            2         2                           Chicken Bowl   \n",
      "...        ...       ...                                    ...   \n",
      "4617      1833         1                          Steak Burrito   \n",
      "4618      1833         1                          Steak Burrito   \n",
      "4619      1834         1                     Chicken Salad Bowl   \n",
      "4620      1834         1                     Chicken Salad Bowl   \n",
      "4621      1834         1                     Chicken Salad Bowl   \n",
      "\n",
      "                                     choice_description item_price  \n",
      "0                                                   NaN     $2.39   \n",
      "1                                          [Clementine]     $3.39   \n",
      "2                                               [Apple]     $3.39   \n",
      "3                                                   NaN     $2.39   \n",
      "4     [Tomatillo-Red Chili Salsa (Hot), [Black Beans...    $16.98   \n",
      "...                                                 ...        ...  \n",
      "4617  [Fresh Tomato Salsa, [Rice, Black Beans, Sour ...    $11.75   \n",
      "4618  [Fresh Tomato Salsa, [Rice, Sour Cream, Cheese...    $11.75   \n",
      "4619  [Fresh Tomato Salsa, [Fajita Vegetables, Pinto...    $11.25   \n",
      "4620  [Fresh Tomato Salsa, [Fajita Vegetables, Lettu...     $8.75   \n",
      "4621  [Fresh Tomato Salsa, [Fajita Vegetables, Pinto...     $8.75   \n",
      "\n",
      "[4622 rows x 5 columns]>\n"
     ]
    }
   ],
   "source": [
    "import pandas as pd\n",
    "\n",
    "# URL of the dataset\n",
    "url = \"https://raw.githubusercontent.com/justmarkham/DAT8/master/data/chipotle.tsv\"\n",
    "\n",
    "# Import the dataset\n",
    "df = pd.read_csv(url, sep='\\t')\n",
    "\n",
    "# Display the first few rows of the DataFrame\n",
    "print(df.info)\n",
    "\n",
    "# estuve 30 minutos para encontrar la manera de importarlo..."
   ]
  },
  {
   "cell_type": "code",
   "execution_count": 11,
   "metadata": {
    "tags": []
   },
   "outputs": [
    {
     "data": {
      "text/html": [
       "<div>\n",
       "<style scoped>\n",
       "    .dataframe tbody tr th:only-of-type {\n",
       "        vertical-align: middle;\n",
       "    }\n",
       "\n",
       "    .dataframe tbody tr th {\n",
       "        vertical-align: top;\n",
       "    }\n",
       "\n",
       "    .dataframe thead th {\n",
       "        text-align: right;\n",
       "    }\n",
       "</style>\n",
       "<table border=\"1\" class=\"dataframe\">\n",
       "  <thead>\n",
       "    <tr style=\"text-align: right;\">\n",
       "      <th></th>\n",
       "      <th>order_id</th>\n",
       "      <th>quantity</th>\n",
       "    </tr>\n",
       "  </thead>\n",
       "  <tbody>\n",
       "    <tr>\n",
       "      <th>count</th>\n",
       "      <td>4622.000000</td>\n",
       "      <td>4622.000000</td>\n",
       "    </tr>\n",
       "    <tr>\n",
       "      <th>mean</th>\n",
       "      <td>927.254868</td>\n",
       "      <td>1.075725</td>\n",
       "    </tr>\n",
       "    <tr>\n",
       "      <th>std</th>\n",
       "      <td>528.890796</td>\n",
       "      <td>0.410186</td>\n",
       "    </tr>\n",
       "    <tr>\n",
       "      <th>min</th>\n",
       "      <td>1.000000</td>\n",
       "      <td>1.000000</td>\n",
       "    </tr>\n",
       "    <tr>\n",
       "      <th>25%</th>\n",
       "      <td>477.250000</td>\n",
       "      <td>1.000000</td>\n",
       "    </tr>\n",
       "    <tr>\n",
       "      <th>50%</th>\n",
       "      <td>926.000000</td>\n",
       "      <td>1.000000</td>\n",
       "    </tr>\n",
       "    <tr>\n",
       "      <th>75%</th>\n",
       "      <td>1393.000000</td>\n",
       "      <td>1.000000</td>\n",
       "    </tr>\n",
       "    <tr>\n",
       "      <th>max</th>\n",
       "      <td>1834.000000</td>\n",
       "      <td>15.000000</td>\n",
       "    </tr>\n",
       "  </tbody>\n",
       "</table>\n",
       "</div>"
      ],
      "text/plain": [
       "          order_id     quantity\n",
       "count  4622.000000  4622.000000\n",
       "mean    927.254868     1.075725\n",
       "std     528.890796     0.410186\n",
       "min       1.000000     1.000000\n",
       "25%     477.250000     1.000000\n",
       "50%     926.000000     1.000000\n",
       "75%    1393.000000     1.000000\n",
       "max    1834.000000    15.000000"
      ]
     },
     "execution_count": 11,
     "metadata": {},
     "output_type": "execute_result"
    }
   ],
   "source": [
    "df.describe()"
   ]
  },
  {
   "cell_type": "code",
   "execution_count": 12,
   "metadata": {
    "tags": []
   },
   "outputs": [
    {
     "data": {
      "text/html": [
       "<div>\n",
       "<style scoped>\n",
       "    .dataframe tbody tr th:only-of-type {\n",
       "        vertical-align: middle;\n",
       "    }\n",
       "\n",
       "    .dataframe tbody tr th {\n",
       "        vertical-align: top;\n",
       "    }\n",
       "\n",
       "    .dataframe thead th {\n",
       "        text-align: right;\n",
       "    }\n",
       "</style>\n",
       "<table border=\"1\" class=\"dataframe\">\n",
       "  <thead>\n",
       "    <tr style=\"text-align: right;\">\n",
       "      <th></th>\n",
       "      <th>order_id</th>\n",
       "      <th>quantity</th>\n",
       "      <th>item_name</th>\n",
       "      <th>choice_description</th>\n",
       "      <th>item_price</th>\n",
       "    </tr>\n",
       "  </thead>\n",
       "  <tbody>\n",
       "    <tr>\n",
       "      <th>3775</th>\n",
       "      <td>1511</td>\n",
       "      <td>1</td>\n",
       "      <td>Chips and Guacamole</td>\n",
       "      <td>NaN</td>\n",
       "      <td>$4.45</td>\n",
       "    </tr>\n",
       "  </tbody>\n",
       "</table>\n",
       "</div>"
      ],
      "text/plain": [
       "      order_id  quantity            item_name choice_description item_price\n",
       "3775      1511         1  Chips and Guacamole                NaN     $4.45 "
      ]
     },
     "execution_count": 12,
     "metadata": {},
     "output_type": "execute_result"
    }
   ],
   "source": [
    "df.sample()"
   ]
  },
  {
   "cell_type": "markdown",
   "metadata": {},
   "source": [
    "### Step 3. Assign it to a variable called chipo."
   ]
  },
  {
   "cell_type": "code",
   "execution_count": 16,
   "metadata": {
    "collapsed": false,
    "jupyter": {
     "outputs_hidden": false
    },
    "tags": []
   },
   "outputs": [
    {
     "name": "stdout",
     "output_type": "stream",
     "text": [
      "      order_id  quantity                              item_name  \\\n",
      "0            1         1           Chips and Fresh Tomato Salsa   \n",
      "1            1         1                                   Izze   \n",
      "2            1         1                       Nantucket Nectar   \n",
      "3            1         1  Chips and Tomatillo-Green Chili Salsa   \n",
      "4            2         2                           Chicken Bowl   \n",
      "...        ...       ...                                    ...   \n",
      "4617      1833         1                          Steak Burrito   \n",
      "4618      1833         1                          Steak Burrito   \n",
      "4619      1834         1                     Chicken Salad Bowl   \n",
      "4620      1834         1                     Chicken Salad Bowl   \n",
      "4621      1834         1                     Chicken Salad Bowl   \n",
      "\n",
      "                                     choice_description item_price  \n",
      "0                                                   NaN     $2.39   \n",
      "1                                          [Clementine]     $3.39   \n",
      "2                                               [Apple]     $3.39   \n",
      "3                                                   NaN     $2.39   \n",
      "4     [Tomatillo-Red Chili Salsa (Hot), [Black Beans...    $16.98   \n",
      "...                                                 ...        ...  \n",
      "4617  [Fresh Tomato Salsa, [Rice, Black Beans, Sour ...    $11.75   \n",
      "4618  [Fresh Tomato Salsa, [Rice, Sour Cream, Cheese...    $11.75   \n",
      "4619  [Fresh Tomato Salsa, [Fajita Vegetables, Pinto...    $11.25   \n",
      "4620  [Fresh Tomato Salsa, [Fajita Vegetables, Lettu...     $8.75   \n",
      "4621  [Fresh Tomato Salsa, [Fajita Vegetables, Pinto...     $8.75   \n",
      "\n",
      "[4622 rows x 5 columns]\n"
     ]
    }
   ],
   "source": [
    "chipo = pd.read_csv(url, sep='\\t')\n",
    "print(chipo)"
   ]
  },
  {
   "cell_type": "markdown",
   "metadata": {},
   "source": [
    "### Step 4. See the first 10 entries"
   ]
  },
  {
   "cell_type": "code",
   "execution_count": 20,
   "metadata": {
    "collapsed": false,
    "jupyter": {
     "outputs_hidden": false
    },
    "tags": []
   },
   "outputs": [
    {
     "data": {
      "text/html": [
       "<div>\n",
       "<style scoped>\n",
       "    .dataframe tbody tr th:only-of-type {\n",
       "        vertical-align: middle;\n",
       "    }\n",
       "\n",
       "    .dataframe tbody tr th {\n",
       "        vertical-align: top;\n",
       "    }\n",
       "\n",
       "    .dataframe thead th {\n",
       "        text-align: right;\n",
       "    }\n",
       "</style>\n",
       "<table border=\"1\" class=\"dataframe\">\n",
       "  <thead>\n",
       "    <tr style=\"text-align: right;\">\n",
       "      <th></th>\n",
       "      <th>order_id</th>\n",
       "      <th>quantity</th>\n",
       "      <th>item_name</th>\n",
       "      <th>choice_description</th>\n",
       "      <th>item_price</th>\n",
       "    </tr>\n",
       "  </thead>\n",
       "  <tbody>\n",
       "    <tr>\n",
       "      <th>0</th>\n",
       "      <td>1</td>\n",
       "      <td>1</td>\n",
       "      <td>Chips and Fresh Tomato Salsa</td>\n",
       "      <td>NaN</td>\n",
       "      <td>$2.39</td>\n",
       "    </tr>\n",
       "    <tr>\n",
       "      <th>1</th>\n",
       "      <td>1</td>\n",
       "      <td>1</td>\n",
       "      <td>Izze</td>\n",
       "      <td>[Clementine]</td>\n",
       "      <td>$3.39</td>\n",
       "    </tr>\n",
       "    <tr>\n",
       "      <th>2</th>\n",
       "      <td>1</td>\n",
       "      <td>1</td>\n",
       "      <td>Nantucket Nectar</td>\n",
       "      <td>[Apple]</td>\n",
       "      <td>$3.39</td>\n",
       "    </tr>\n",
       "    <tr>\n",
       "      <th>3</th>\n",
       "      <td>1</td>\n",
       "      <td>1</td>\n",
       "      <td>Chips and Tomatillo-Green Chili Salsa</td>\n",
       "      <td>NaN</td>\n",
       "      <td>$2.39</td>\n",
       "    </tr>\n",
       "    <tr>\n",
       "      <th>4</th>\n",
       "      <td>2</td>\n",
       "      <td>2</td>\n",
       "      <td>Chicken Bowl</td>\n",
       "      <td>[Tomatillo-Red Chili Salsa (Hot), [Black Beans...</td>\n",
       "      <td>$16.98</td>\n",
       "    </tr>\n",
       "    <tr>\n",
       "      <th>5</th>\n",
       "      <td>3</td>\n",
       "      <td>1</td>\n",
       "      <td>Chicken Bowl</td>\n",
       "      <td>[Fresh Tomato Salsa (Mild), [Rice, Cheese, Sou...</td>\n",
       "      <td>$10.98</td>\n",
       "    </tr>\n",
       "    <tr>\n",
       "      <th>6</th>\n",
       "      <td>3</td>\n",
       "      <td>1</td>\n",
       "      <td>Side of Chips</td>\n",
       "      <td>NaN</td>\n",
       "      <td>$1.69</td>\n",
       "    </tr>\n",
       "    <tr>\n",
       "      <th>7</th>\n",
       "      <td>4</td>\n",
       "      <td>1</td>\n",
       "      <td>Steak Burrito</td>\n",
       "      <td>[Tomatillo Red Chili Salsa, [Fajita Vegetables...</td>\n",
       "      <td>$11.75</td>\n",
       "    </tr>\n",
       "    <tr>\n",
       "      <th>8</th>\n",
       "      <td>4</td>\n",
       "      <td>1</td>\n",
       "      <td>Steak Soft Tacos</td>\n",
       "      <td>[Tomatillo Green Chili Salsa, [Pinto Beans, Ch...</td>\n",
       "      <td>$9.25</td>\n",
       "    </tr>\n",
       "    <tr>\n",
       "      <th>9</th>\n",
       "      <td>5</td>\n",
       "      <td>1</td>\n",
       "      <td>Steak Burrito</td>\n",
       "      <td>[Fresh Tomato Salsa, [Rice, Black Beans, Pinto...</td>\n",
       "      <td>$9.25</td>\n",
       "    </tr>\n",
       "  </tbody>\n",
       "</table>\n",
       "</div>"
      ],
      "text/plain": [
       "   order_id  quantity                              item_name  \\\n",
       "0         1         1           Chips and Fresh Tomato Salsa   \n",
       "1         1         1                                   Izze   \n",
       "2         1         1                       Nantucket Nectar   \n",
       "3         1         1  Chips and Tomatillo-Green Chili Salsa   \n",
       "4         2         2                           Chicken Bowl   \n",
       "5         3         1                           Chicken Bowl   \n",
       "6         3         1                          Side of Chips   \n",
       "7         4         1                          Steak Burrito   \n",
       "8         4         1                       Steak Soft Tacos   \n",
       "9         5         1                          Steak Burrito   \n",
       "\n",
       "                                  choice_description item_price  \n",
       "0                                                NaN     $2.39   \n",
       "1                                       [Clementine]     $3.39   \n",
       "2                                            [Apple]     $3.39   \n",
       "3                                                NaN     $2.39   \n",
       "4  [Tomatillo-Red Chili Salsa (Hot), [Black Beans...    $16.98   \n",
       "5  [Fresh Tomato Salsa (Mild), [Rice, Cheese, Sou...    $10.98   \n",
       "6                                                NaN     $1.69   \n",
       "7  [Tomatillo Red Chili Salsa, [Fajita Vegetables...    $11.75   \n",
       "8  [Tomatillo Green Chili Salsa, [Pinto Beans, Ch...     $9.25   \n",
       "9  [Fresh Tomato Salsa, [Rice, Black Beans, Pinto...     $9.25   "
      ]
     },
     "execution_count": 20,
     "metadata": {},
     "output_type": "execute_result"
    }
   ],
   "source": [
    "chipo.head(10)"
   ]
  },
  {
   "cell_type": "markdown",
   "metadata": {},
   "source": [
    "### Step 5. What is the number of observations in the dataset?"
   ]
  },
  {
   "cell_type": "code",
   "execution_count": 28,
   "metadata": {
    "collapsed": false,
    "jupyter": {
     "outputs_hidden": false
    },
    "tags": []
   },
   "outputs": [
    {
     "data": {
      "text/plain": [
       "4622"
      ]
     },
     "execution_count": 28,
     "metadata": {},
     "output_type": "execute_result"
    }
   ],
   "source": [
    "# Solution 1\n",
    "chipo.shape[0]"
   ]
  },
  {
   "cell_type": "code",
   "execution_count": 30,
   "metadata": {
    "collapsed": false,
    "jupyter": {
     "outputs_hidden": false
    },
    "tags": []
   },
   "outputs": [
    {
     "data": {
      "text/plain": [
       "'order_id'"
      ]
     },
     "execution_count": 30,
     "metadata": {},
     "output_type": "execute_result"
    }
   ],
   "source": [
    "# Solution 2\n",
    "chipo.columns[0]\n"
   ]
  },
  {
   "cell_type": "code",
   "execution_count": 31,
   "metadata": {
    "tags": []
   },
   "outputs": [
    {
     "data": {
      "text/plain": [
       "4622"
      ]
     },
     "execution_count": 31,
     "metadata": {},
     "output_type": "execute_result"
    }
   ],
   "source": [
    "len(chipo)"
   ]
  },
  {
   "cell_type": "markdown",
   "metadata": {},
   "source": [
    "### Step 6. What is the number of columns in the dataset?"
   ]
  },
  {
   "cell_type": "code",
   "execution_count": 32,
   "metadata": {
    "collapsed": false,
    "jupyter": {
     "outputs_hidden": false
    },
    "tags": []
   },
   "outputs": [
    {
     "data": {
      "text/plain": [
       "5"
      ]
     },
     "execution_count": 32,
     "metadata": {},
     "output_type": "execute_result"
    }
   ],
   "source": [
    "chipo.shape[1]"
   ]
  },
  {
   "cell_type": "markdown",
   "metadata": {},
   "source": [
    "### Step 7. Print the name of all the columns."
   ]
  },
  {
   "cell_type": "code",
   "execution_count": 34,
   "metadata": {
    "collapsed": false,
    "jupyter": {
     "outputs_hidden": false
    },
    "tags": []
   },
   "outputs": [
    {
     "data": {
      "text/plain": [
       "Index(['order_id', 'quantity', 'item_name', 'choice_description',\n",
       "       'item_price'],\n",
       "      dtype='object')"
      ]
     },
     "execution_count": 34,
     "metadata": {},
     "output_type": "execute_result"
    }
   ],
   "source": [
    "chipo.columns[0:5]"
   ]
  },
  {
   "cell_type": "markdown",
   "metadata": {},
   "source": [
    "### Step 8. How is the dataset indexed?"
   ]
  },
  {
   "cell_type": "code",
   "execution_count": 37,
   "metadata": {
    "collapsed": false,
    "jupyter": {
     "outputs_hidden": false
    },
    "tags": []
   },
   "outputs": [
    {
     "data": {
      "text/plain": [
       "RangeIndex(start=0, stop=4622, step=1)"
      ]
     },
     "execution_count": 37,
     "metadata": {},
     "output_type": "execute_result"
    }
   ],
   "source": [
    "chipo.index"
   ]
  },
  {
   "cell_type": "markdown",
   "metadata": {},
   "source": [
    "### Step 9. Which was the most-ordered item? "
   ]
  },
  {
   "cell_type": "code",
   "execution_count": 53,
   "metadata": {
    "collapsed": false,
    "jupyter": {
     "outputs_hidden": false
    },
    "tags": []
   },
   "outputs": [
    {
     "data": {
      "text/plain": [
       "'item_name'"
      ]
     },
     "execution_count": 53,
     "metadata": {},
     "output_type": "execute_result"
    }
   ],
   "source": [
    "chipo.columns[2]"
   ]
  },
  {
   "cell_type": "code",
   "execution_count": 55,
   "metadata": {
    "tags": []
   },
   "outputs": [
    {
     "name": "stdout",
     "output_type": "stream",
     "text": [
      "Chips and Fresh Tomato SalsaIzzeNantucket NectarChips and Tomatillo-Green Chili SalsaChicken BowlChicken BowlSide of ChipsSteak BurritoSteak Soft TacosSteak BurritoChips and GuacamoleChicken Crispy TacosChicken Soft TacosChicken BowlChips and GuacamoleChips and Tomatillo-Green Chili SalsaChicken BurritoChicken BurritoCanned SodaChicken BowlChips and GuacamoleBarbacoa BurritoNantucket NectarChicken BurritoIzzeChips and Fresh Tomato SalsaChicken BowlCarnitas BurritoCanned SodaChicken BurritoChips and Tomatillo-Green Chili SalsaSteak BurritoSide of ChipsCarnitas BowlBottled WaterChicken Soft TacosChicken Soft TacosChips and GuacamoleChips and Tomatillo Green Chili SalsaBarbacoa BowlChipsChips and GuacamoleChicken BowlSteak BurritoChicken Salad BowlChicken BurritoSteak BurritoIzzeSteak BurritoChips and GuacamoleSteak BurritoCanned SodaChicken BurritoCanned SodaSteak BowlChips and Fresh Tomato SalsaBarbacoa Soft TacosVeggie BurritoBarbacoa BowlChipsChips and GuacamoleSteak Soft TacosVeggie BowlChicken BurritoSteak BurritoSteak Soft TacosIzzeSteak BurritoChicken BurritoSteak BurritoSide of ChipsSteak BurritoChips and GuacamoleChicken BurritoChips and GuacamoleChicken Soft TacosChicken BowlChipsChicken BowlChicken Soft TacosChipsBarbacoa BurritoChicken BurritoChicken BurritoSteak Soft TacosVeggie BowlSteak BowlBottled WaterCarnitas BurritoChips and Fresh Tomato SalsaSteak BowlSteak BowlSteak Crispy TacosCarnitas BurritoChips and GuacamoleBarbacoa BowlChips and GuacamoleCarnitas BowlChicken BurritoChicken BowlChips and GuacamoleSteak BurritoSteak BowlChips and GuacamoleVeggie BurritoNantucket NectarSteak BurritoCanned SodaSteak BurritoChips and GuacamoleChicken BowlChips and Tomatillo Red Chili SalsaChips and GuacamoleChips and Tomatillo-Green Chili SalsaChicken BurritoBarbacoa BowlChicken BurritoCanned SodaSteak Soft TacosChips and GuacamoleChicken BurritoBarbacoa BurritoChips and GuacamoleChicken BowlChips and GuacamoleSteak BurritoCanned SodaBarbacoa BowlChips and Tomatillo Red Chili SalsaChips and GuacamoleBarbacoa BurritoChips and GuacamoleChicken BurritoChips and Tomatillo-Green Chili SalsaChicken BurritoChicken Salad BowlBarbacoa BowlChips and GuacamoleChicken BowlChips and GuacamoleChicken BowlChips and GuacamoleChicken BowlVeggie BowlBarbacoa BurritoCarnitas BowlChips and GuacamoleSteak BurritoSteak BurritoSide of ChipsChicken BurritoChips and GuacamoleChicken BurritoChips and Tomatillo-Green Chili SalsaChicken BowlChips and GuacamoleChips and GuacamoleVeggie BowlSteak BurritoChicken BurritoChicken BowlChicken BurritoCanned SodaCarnitas BowlVeggie BowlChips and Tomatillo-Green Chili SalsaChips and GuacamoleChicken BurritoBarbacoa Crispy TacosChicken BurritoChicken BurritoCanned SodaChicken BurritoNantucket NectarChicken BurritoSteak Soft TacosChicken BowlSteak BurritoChicken BurritoCanned SodaCanned SodaBarbacoa Soft TacosChicken BowlChips and Fresh Tomato SalsaSteak Soft TacosChips and GuacamoleVeggie Salad BowlSteak BowlChicken BurritoChicken BurritoSteak BurritoChips and Roasted Chili-Corn SalsaVeggie BowlChicken BowlChips and Fresh Tomato SalsaCanned SodaSteak BurritoChicken BurritoChips and Tomatillo-Green Chili SalsaChicken BowlCanned SodaChips and GuacamoleChicken BurritoChicken BurritoChicken BurritoNantucket NectarChicken BowlSteak BowlChipsChicken BowlVeggie BowlChicken BowlChips and GuacamoleChicken Salad BowlChips and GuacamoleSteak BowlChicken BurritoChicken Crispy TacosChicken BowlBarbacoa BowlChicken BowlChipsBarbacoa BurritoChipsChicken BowlVeggie BurritoChipsSteak BurritoCanned SodaSteak BurritoChips and GuacamoleChicken BowlChips and Tomatillo Green Chili SalsaChips and Roasted Chili Corn SalsaSteak BurritoChips and Tomatillo Green Chili SalsaSteak BurritoCarnitas Soft TacosSteak BurritoCarnitas BurritoChips and Fresh Tomato SalsaChicken BurritoChicken BurritoSteak BowlChicken BurritoSteak BurritoCanned SodaCanned SodaCanned SodaBarbacoa BurritoChicken SaladCanned SodaChicken BowlVeggie BowlBarbacoa BowlBarbacoa Crispy TacosChicken Salad BowlChicken BowlSteak BurritoSteak BowlSteak BowlCanned SodaSteak BowlCanned Soft DrinkSteak BurritoChips and Fresh Tomato SalsaSteak Soft TacosChips and Fresh Tomato SalsaBarbacoa Soft TacosChips and GuacamoleChicken BurritoChips and Tomatillo-Green Chili SalsaChicken BurritoChicken BurritoChicken BurritoSide of ChipsChicken BurritoChips and GuacamoleSteak Soft TacosSide of ChipsCanned SodaSteak Salad BowlChicken BowlChipsChicken BowlSteak BowlSteak BowlVeggie BowlChips and GuacamoleChicken BurritoChicken BowlChicken BowlCanned Soft DrinkSteak Soft TacosChips and GuacamoleVeggie Salad BowlSteak BurritoSteak Burrito6 Pack Soft DrinkSteak Soft TacosChips and Tomatillo-Red Chili SalsaChicken BowlChips and Fresh Tomato SalsaChicken BowlChicken BowlChipsSteak BowlSide of ChipsChicken BurritoChicken BurritoChipsChips and GuacamoleChicken BowlChicken Soft TacosSteak BurritoChicken Salad BowlChicken BurritoCanned SodaBottled WaterChicken BowlCanned Soft DrinkChipsSteak BurritoChicken BurritoChicken Soft TacosSteak BurritoChips and Fresh Tomato SalsaChicken BowlChipsBottled WaterChicken BurritoChipsChicken Soft TacosChicken Soft TacosBarbacoa BurritoSteak BurritoSteak BowlCanned Soft DrinkChicken BurritoChicken BurritoChips and Guacamole6 Pack Soft DrinkSteak Soft TacosChips and Fresh Tomato SalsaChicken Soft TacosChips and GuacamoleCanned Soft DrinkCanned Soft DrinkChicken BowlChips and Tomatillo-Red Chili SalsaCanned SodaChicken BurritoCanned SodaSteak BurritoChicken Soft TacosChicken BurritoChips and Tomatillo Red Chili Salsa6 Pack Soft DrinkSteak BurritoIzzeIzzeSteak BurritoChicken BurritoChicken BurritoChipsChicken Crispy TacosChips and Tomatillo Green Chili SalsaChicken BurritoCanned Soft DrinkSteak BurritoCanned SodaChicken BowlChicken BurritoCarnitas BurritoChips and Fresh Tomato SalsaBarbacoa BurritoBottled WaterSteak BurritoCanned SodaChicken BowlCanned Soft DrinkCanned Soft DrinkChicken BurritoSteak BurritoChipsBarbacoa BurritoSide of ChipsSteak Bowl6 Pack Soft DrinkChicken BurritoSteak Soft TacosChicken BurritoChips and GuacamoleCanned Soft DrinkVeggie BurritoChips and GuacamoleChicken BurritoBarbacoa BurritoChicken BurritoCarnitas BowlChicken BurritoCanned Soft DrinkSteak BurritoCanned Soft DrinkSteak BurritoCarnitas Soft TacosChips and GuacamoleChicken BowlChipsChicken BowlCanned Soft DrinkChicken BowlSteak BowlSide of ChipsCanned SodaChicken BowlChips and Guacamole6 Pack Soft DrinkBarbacoa BowlChicken Soft TacosSteak BurritoCarnitas BurritoChicken BowlChicken BurritoChipsChips and Fresh Tomato SalsaChicken Soft TacosChicken Soft TacosSteak BowlBarbacoa Crispy TacosIzzeSteak BurritoSide of ChipsCarnitas BowlCanned SodaVeggie BurritoNantucket NectarSteak Crispy TacosCanned SodaSteak BurritoChicken Soft TacosChicken BurritoChips and GuacamoleChips and Tomatillo Red Chili SalsaSteak BowlBowlChicken BurritoSteak BurritoChicken BurritoChicken BowlBarbacoa BurritoChicken BurritoChicken BurritoCarnitas Soft TacosChicken BowlVeggie Salad BowlChicken BowlChicken BurritoChips and Fresh Tomato SalsaCanned Soft DrinkChicken BowlSide of ChipsCarnitas BurritoChicken BurritoChicken BowlChicken BowlChips and GuacamoleVeggie BurritoChips and GuacamoleVeggie BurritoChips and GuacamoleBarbacoa BowlSide of ChipsCanned SodaChicken Soft TacosBottled WaterChicken BurritoSide of ChipsCarnitas BurritoVeggie BurritoChicken BowlSteak BurritoChicken BurritoChicken BowlChicken BowlBarbacoa Crispy TacosChicken BurritoChicken BurritoChicken BowlChipsChicken BowlSteak BowlCanned Soft DrinkChips and GuacamoleSteak Soft TacosChips and GuacamoleVeggie Salad BowlVeggie BurritoChips and GuacamoleSteak BowlSteak BowlChicken BowlBarbacoa BurritoSteak BurritoChicken Soft TacosCanned Soft DrinkCarnitas BowlCanned Soft DrinkSteak BurritoChicken BowlBurritoBurritoVeggie BowlCanned Soft DrinkChips and GuacamoleVeggie BowlChipsChicken BurritoChips and GuacamoleBurritoCrispy TacosCrispy TacosSteak BurritoChips and GuacamoleSteak BowlSide of ChipsChicken Salad BowlChicken BowlChicken Salad BowlChicken Salad BowlVeggie BowlChicken BurritoChips and Fresh Tomato SalsaChicken BurritoSteak BurritoVeggie BurritoChips and GuacamoleChips and Tomatillo Green Chili SalsaCarnitas BowlSteak BurritoBottled WaterCanned Soft DrinkChicken BowlBarbacoa BurritoChips and GuacamoleChicken BowlChicken BowlChips and GuacamoleChicken BowlSteak BurritoChips and GuacamoleChicken BurritoSteak Burrito6 Pack Soft DrinkCarnitas Crispy TacosVeggie BowlChicken BowlBarbacoa BurritoChipsSteak BowlChips and GuacamoleBarbacoa BurritoChips and Roasted Chili Corn SalsaSteak BurritoChicken BurritoCarnitas Soft TacosCanned Soft DrinkCanned Soft DrinkChicken Salad BowlChicken BurritoSteak Soft TacosChips and GuacamoleSteak BurritoSteak BurritoBarbacoa BurritoBarbacoa BurritoSteak BurritoChicken Soft TacosChips and Tomatillo-Green Chili SalsaIzzeIzzeSteak Crispy TacosSteak BurritoChicken BowlChipsChicken Salad BowlBarbacoa BurritoChips and GuacamoleChicken BurritoChicken BurritoCarnitas Soft TacosChicken Salad BowlBarbacoa BowlChips and Tomatillo Red Chili SalsaBottled WaterSteak BowlChicken BowlSide of ChipsChicken Crispy TacosChicken BurritoChicken Crispy TacosNantucket NectarBarbacoa BurritoChips and GuacamoleChicken BowlChips and GuacamoleSteak Salad BowlSteak Salad BowlChicken BurritoChips and Fresh Tomato SalsaCanned Soft DrinkBarbacoa Soft TacosChicken BurritoSteak Salad BowlChicken BowlBarbacoa BurritoChipsChipsCanned Soft DrinkVeggie BowlChips and GuacamoleChicken BurritoCanned SodaVeggie BurritoChips and GuacamoleChicken BowlCarnitas BurritoChips and Tomatillo Green Chili SalsaChips and GuacamoleSteak BurritoChicken Soft TacosVeggie BurritoChips and GuacamoleChicken Salad BowlChicken BurritoCanned Soft DrinkChicken BurritoChicken BowlSteak Burrito6 Pack Soft DrinkChicken BurritoChicken Soft TacosChips and GuacamoleVeggie BowlChips and GuacamoleSteak BurritoCanned SodaChicken BowlChips and Roasted Chili-Corn SalsaSteak BurritoSide of ChipsCanned Soft DrinkCarnitas BurritoBottled WaterChicken BowlChips and Tomatillo Green Chili SalsaChicken BurritoChips and GuacamoleSteak BurritoChicken BurritoChicken BowlSide of ChipsVeggie BurritoChips and GuacamoleSteak SaladSteak BowlChips and GuacamoleCarnitas Soft TacosChicken BowlChips and GuacamoleCanned Soft DrinkChips and GuacamoleChicken BurritoBowlChips and Mild Fresh Tomato SalsaBurritoChips and GuacamoleVeggie BowlChips and GuacamoleSteak BowlChips and GuacamoleChicken BurritoCanned Soft DrinkSteak BurritoCanned Soft DrinkChicken BurritoChipsChicken BowlChips and GuacamoleCanned Soft DrinkSteak BowlCarnitas BurritoChips and Tomatillo-Red Chili SalsaChicken Salad BowlChips and GuacamoleCanned Soft DrinkSteak BurritoChicken Soft TacosCanned SodaChicken BurritoCanned SodaBottled WaterChicken Salad BowlChips and Tomatillo Green Chili SalsaCanned Soft DrinkBottled WaterChicken BowlSteak BurritoChips and Roasted Chili Corn SalsaCanned Soft DrinkVeggie BurritoChips and GuacamoleSteak BurritoChips and GuacamoleVeggie BurritoChicken BurritoCanned Soft DrinkBarbacoa BurritoSide of ChipsChicken BowlCanned Soft Drink6 Pack Soft DrinkChicken BowlBarbacoa BurritoChicken BurritoChips and Fresh Tomato SalsaChicken BurritoSteak BurritoSteak BurritoSteak Crispy TacosChips and Fresh Tomato SalsaChips and GuacamoleVeggie BurritoChicken BowlChicken BurritoCanned Soft DrinkSteak BurritoVeggie BowlVeggie Soft TacosChicken BurritoCanned Soft DrinkSteak BurritoBarbacoa Burrito6 Pack Soft DrinkChips and GuacamoleVeggie BurritoChicken BurritoChipsChicken BurritoSteak Salad BowlBarbacoa BowlSide of ChipsSteak SaladSteak BowlChips and GuacamoleCarnitas Soft TacosBarbacoa BurritoSteak BowlChipsBurritoBurritoVeggie BurritoChicken Salad BowlBarbacoa Crispy TacosChips and GuacamoleChicken BowlCanned Soft DrinkCarnitas BurritoChicken Crispy TacosCanned Soft DrinkChips and GuacamoleVeggie BurritoChicken BowlChicken BowlSteak Crispy TacosChicken BowlChipsCanned Soft DrinkChicken BurritoCanned SodaBottled WaterVeggie Soft TacosChips and Tomatillo Green Chili SalsaCanned Soft DrinkSteak BowlCanned Soft DrinkChipsChicken BurritoCanned Soft DrinkChips and GuacamoleChicken BurritoCanned Soft DrinkChips and GuacamoleChicken BurritoChicken BowlChicken BowlChicken BurritoVeggie BurritoChicken BowlChips and GuacamoleChicken BurritoChips and GuacamoleSide of ChipsBarbacoa BowlBarbacoa BowlChicken BowlSteak BurritoCanned SodaSteak BurritoChips and Tomatillo Green Chili SalsaChicken BurritoSteak BurritoChips and GuacamoleVeggie BurritoChicken BurritoChicken BowlChicken Salad BowlChicken BowlBottled WaterChips and GuacamoleCarnitas Soft TacosCanned SodaCarnitas BowlChicken BurritoChips and GuacamoleSteak BowlChips and GuacamoleVeggie BurritoChipsBarbacoa Crispy TacosChicken Crispy TacosVeggie BowlVeggie BowlCarnitas BowlChicken BurritoCarnitas BurritoChicken BurritoChicken BowlChips and Tomatillo Red Chili SalsaChips and GuacamoleBarbacoa BowlChips and Roasted Chili Corn SalsaSteak BowlVeggie BowlChicken BowlChips and GuacamoleVeggie BowlVeggie BurritoChips and Fresh Tomato SalsaChicken BowlCanned Soft DrinkCarnitas BowlChips and GuacamoleBarbacoa BurritoBarbacoa BurritoChips and GuacamoleChicken BurritoBarbacoa Soft TacosChicken BurritoBarbacoa BurritoSteak BurritoSteak BurritoSteak BurritoSteak BurritoChicken Salad BowlCarnitas BurritoChicken Crispy TacosCanned Soft DrinkChicken BowlChipsCanned Soft DrinkChicken BowlChicken Soft TacosCanned Soft DrinkVeggie BurritoBottled WaterChicken Soft TacosChicken BowlBarbacoa Burrito6 Pack Soft DrinkChips and GuacamoleChicken BowlChips and GuacamoleChicken Soft TacosCanned Soft DrinkChicken Crispy TacosSteak BurritoVeggie BowlBarbacoa BurritoBottled WaterChicken BowlVeggie BurritoChicken BowlSteak SaladChips and GuacamoleChicken BurritoChips and GuacamoleSteak BurritoSide of ChipsSteak BowlChicken BowlVeggie BowlChips and GuacamoleBarbacoa BurritoCanned Soft DrinkSteak BowlChips and Roasted Chili Corn SalsaSteak BurritoSteak BurritoCanned SodaSteak BowlSteak BurritoChicken BurritoSide of ChipsSteak BurritoChicken BowlChips and Tomatillo Green Chili SalsaCanned Soft DrinkSteak Crispy TacosBarbacoa BowlChicken BowlChipsBottled WaterChicken Soft TacosChicken Soft TacosNantucket NectarSteak BowlChips and GuacamoleChicken BowlChips and GuacamoleChicken BowlVeggie BurritoChipsChicken BowlChicken BowlSide of ChipsVeggie BowlChicken BowlCanned Soft DrinkChicken BurritoSteak BurritoSteak BurritoSteak BurritoBottled WaterChicken BowlChips and GuacamoleChicken Crispy TacosChips and Fresh Tomato SalsaChicken BowlChipsChips and GuacamoleChicken BurritoSteak BowlChips and GuacamoleChicken BurritoSide of ChipsCanned SodaSteak BurritoCanned SodaCarnitas BurritoVeggie Salad BowlSteak Soft TacosChips and Fresh Tomato SalsaCanned Soft DrinkCanned Soft DrinkChicken BurritoChicken Soft TacosSteak BurritoSteak Soft TacosChicken Soft TacosBottled WaterChips and GuacamoleVeggie BurritoVeggie BurritoCarnitas BurritoChicken BowlChicken BowlChicken BowlChips and GuacamoleChicken BowlChicken BowlBarbacoa BurritoChips and Tomatillo-Green Chili SalsaChicken BurritoCarnitas BowlChipsChicken BurritoCanned Soft DrinkBarbacoa Soft TacosCanned Soft DrinkChicken BurritoSteak BurritoCanned Soft DrinkChicken BowlChicken BowlChicken BowlChicken BowlChicken BurritoCanned Soft DrinkChicken Soft TacosChicken BowlChicken BowlBottled WaterBottled WaterChicken BowlChips and GuacamoleChicken Crispy TacosCanned Soft DrinkCarnitas Crispy TacosChicken BurritoChips and Tomatillo-Green Chili SalsaSteak BowlChips and GuacamoleSteak BurritoChicken BowlSteak BurritoSide of ChipsChicken BowlChips and Tomatillo-Green Chili SalsaBarbacoa Crispy TacosSteak Crispy TacosChicken BurritoChips and GuacamoleChicken BowlChips and GuacamoleSteak Burrito6 Pack Soft DrinkChicken Crispy TacosChicken BurritoChicken BurritoCanned SodaSide of ChipsBarbacoa BowlChips and GuacamoleChicken BowlCanned Soft DrinkChips and Fresh Tomato SalsaChips and GuacamoleVeggie BurritoSteak BowlSteak BowlChipsSteak BowlChicken BowlChipsCanned Soft DrinkChicken BurritoChipsCanned Soft DrinkChicken BurritoChicken Burrito6 Pack Soft DrinkSide of ChipsSteak BowlChicken BurritoBarbacoa BurritoChicken BurritoCanned SodaChicken BowlIzzeChicken BowlChipsCanned Soft DrinkCarnitas BurritoChicken BurritoChicken SaladChicken BowlChips and Roasted Chili Corn SalsaBarbacoa BowlSteak BurritoSteak BurritoChips and GuacamoleSteak BurritoChicken BowlVeggie BurritoChips and GuacamoleSide of ChipsSteak BowlChicken BowlChips and GuacamoleBottled WaterSteak BowlChipsSteak BurritoChips and Tomatillo-Green Chili SalsaChicken BurritoChips and Fresh Tomato SalsaCanned Soft DrinkChicken BowlChipsCanned Soft DrinkCanned SodaCanned SodaSteak BurritoChicken Soft TacosChips and Fresh Tomato SalsaSteak BowlCarnitas BurritoCanned Soft DrinkChicken BurritoBarbacoa BurritoChips and Tomatillo-Red Chili SalsaSteak BurritoChips and GuacamoleChicken BowlVeggie BurritoChicken BowlChicken BurritoChicken BowlChicken Salad BowlChicken Salad BowlSteak BowlChicken BowlChips and GuacamoleSteak BurritoCanned Soft DrinkChicken BurritoChicken BurritoChips and Fresh Tomato SalsaBarbacoa BurritoSide of ChipsChicken BurritoChips and GuacamoleChicken Bowl6 Pack Soft DrinkChicken BurritoChips and GuacamoleCarnitas BurritoChips and GuacamoleBarbacoa Soft TacosSteak BurritoChips and GuacamoleCarnitas Salad BowlSteak BowlChicken BowlChips and Fresh Tomato SalsaBottled WaterChips and GuacamoleChicken BurritoSteak BurritoBottled WaterSteak BurritoCanned SodaChips and GuacamoleSteak BurritoVeggie BurritoSteak BurritoChips and GuacamoleSteak BowlBarbacoa Soft TacosChips and Roasted Chili Corn SalsaBarbacoa BurritoChicken BurritoSteak BurritoSteak BurritoChicken BurritoChicken BowlChips and Tomatillo Green Chili SalsaChips and GuacamoleSteak Salad BowlChicken BurritoChicken BurritoSide of ChipsChicken BowlChipsCanned Soft DrinkChicken Burrito6 Pack Soft DrinkSteak Crispy TacosChipsChicken BurritoChips and GuacamoleChicken BowlCanned Soft DrinkBarbacoa BowlBarbacoa BowlSteak BowlBottled WaterChicken BowlBarbacoa BowlChips and Roasted Chili-Corn SalsaChips and Tomatillo-Red Chili SalsaBottled WaterChicken BowlChips and GuacamoleChicken BurritoCarnitas Soft TacosBarbacoa BurritoChicken BowlChicken Salad BowlChips and GuacamoleChips and Tomatillo Red Chili SalsaSteak BowlVeggie BurritoChicken Soft TacosCarnitas Crispy TacosSide of ChipsCarnitas BurritoChicken BowlSteak BurritoCarnitas BowlChicken BurritoBarbacoa BurritoChicken BurritoChicken BowlChicken BowlChicken BowlChicken BowlChicken BurritoChips and GuacamoleChicken BowlChicken BurritoCarnitas BowlIzzeChips and GuacamoleSteak BurritoCanned SodaCanned SodaChips and Tomatillo-Green Chili SalsaChicken BurritoChips and GuacamoleChicken BowlChicken BowlChips and GuacamoleSteak BowlChips and GuacamoleChicken BowlChipsCanned Soft DrinkBarbacoa Salad BowlChips and Fresh Tomato SalsaSteak BurritoCanned Soft DrinkChicken BurritoChips and GuacamoleBarbacoa BowlBarbacoa BowlChips and Fresh Tomato SalsaCarnitas BurritoChicken BurritoBarbacoa Soft TacosChips and Fresh Tomato SalsaVeggie BowlCanned Soft DrinkCarnitas BowlCanned Soft DrinkSteak BowlChips and Fresh Tomato SalsaCanned Soft DrinkChicken Soft TacosCanned Soft DrinkChicken BurritoVeggie BurritoChips and GuacamoleChicken BurritoSteak BurritoVeggie BurritoChips and Fresh Tomato SalsaChips and GuacamoleChips and Tomatillo Green Chili Salsa6 Pack Soft DrinkVeggie BurritoSteak BurritoChips and Tomatillo-Green Chili SalsaBarbacoa BowlChicken BowlChipsChicken Soft TacosChips and GuacamoleChicken BurritoSide of ChipsChicken BurritoSteak BurritoChicken BurritoChips and GuacamoleSteak BurritoSteak BurritoChips and GuacamoleChicken Soft Tacos6 Pack Soft DrinkChicken BurritoChicken BowlSteak BurritoCanned Soft DrinkChips and GuacamoleChicken BurritoSide of ChipsCarnitas BurritoChips and GuacamoleSteak BurritoCanned SodaChicken BowlChips and Roasted Chili Corn SalsaSteak BowlCarnitas BowlChips and GuacamoleChicken BowlVeggie BowlChicken BowlChicken BowlBarbacoa BurritoChipsChicken BowlChicken BowlChips and GuacamoleSide of ChipsSteak BowlChicken BowlSide of ChipsSteak BurritoChicken BurritoSteak Salad BowlSteak BowlChips and Tomatillo Red Chili SalsaSteak BowlChips and Fresh Tomato SalsaVeggie Salad BowlChips and GuacamoleChips and GuacamoleVeggie BowlChicken BurritoSteak BurritoChicken BurritoSteak BurritoChips and GuacamoleSteak BurritoBarbacoa Salad BowlSteak Crispy TacosChicken BurritoChicken BowlSteak BowlChicken BurritoChicken BowlSteak BurritoBarbacoa Soft TacosChips and GuacamoleChicken BurritoCarnitas BurritoCanned Soft DrinkSteak BurritoSide of ChipsCarnitas BowlChipsCanned Soft DrinkCarnitas BowlChicken Crispy TacosChips and GuacamoleBarbacoa BowlChips and Tomatillo Red Chili SalsaVeggie BurritoChicken BurritoChips and GuacamoleChicken Salad BowlSteak Soft TacosSteak BowlSide of ChipsNantucket NectarBarbacoa BowlChips and Roasted Chili Corn SalsaCarnitas BowlSide of ChipsChicken Soft TacosChicken BurritoVeggie BowlChips and Fresh Tomato SalsaSteak Soft TacosSide of ChipsChicken BowlChipsCanned Soft DrinkChicken BowlChips and Roasted Chili Corn SalsaSteak BurritoCanned Soft DrinkVeggie BowlCanned Soft DrinkCarnitas BowlCanned Soft DrinkChicken BowlBottled WaterChicken Soft TacosCanned Soft DrinkChips and Tomatillo Red Chili SalsaBarbacoa BowlSteak BurritoChicken BowlChicken BowlChipsSteak BurritoCanned Soft DrinkCarnitas Soft TacosBarbacoa Soft Tacos6 Pack Soft DrinkCarnitas BowlVeggie BurritoVeggie Soft TacosCanned SodaChicken BowlChicken BurritoCanned Soft DrinkChipsChicken BowlBottled WaterChicken BurritoVeggie BowlChicken BowlChicken BurritoChicken BowlBottled WaterCanned Soft DrinkBottled WaterChicken BowlCanned Soft DrinkChipsSaladSaladChips and GuacamoleBarbacoa BowlBarbacoa Salad BowlBarbacoa BowlBarbacoa BowlBarbacoa Salad BowlChicken Salad BowlChips and GuacamoleChicken BurritoBottled WaterChicken Soft TacosChicken BowlVeggie BowlChicken BowlCarnitas BowlCanned SodaChicken BowlVeggie BowlChicken BurritoChicken BurritoBottled WaterCarnitas Soft TacosChicken Soft TacosChips and GuacamoleVeggie BurritoVeggie BowlChicken BowlChicken BurritoChicken BurritoChicken BurritoSteak BowlBottled WaterChicken BurritoChicken BowlChips and Roasted Chili Corn SalsaSteak Crispy TacosChicken BurritoSteak BurritoVeggie BowlChips and GuacamoleChicken BowlCanned SodaChips and Roasted Chili-Corn SalsaVeggie BurritoChicken Salad BowlSteak BowlCarnitas BurritoChicken BurritoChicken BurritoChips and Fresh Tomato SalsaChicken BurritoChicken Soft TacosChips and GuacamoleSteak BurritoChips and GuacamoleChicken Salad BowlChipsCanned Soft DrinkChicken BowlSteak BowlChicken Soft TacosBottled WaterChicken BowlChipsCanned Soft DrinkChicken BurritoSteak BowlChicken Salad BowlChicken BowlBottled WaterChicken BurritoCanned Soft DrinkChips and GuacamoleChicken Soft TacosChicken BowlChips and Tomatillo Red Chili SalsaCanned Soft DrinkChicken BurritoChips and Fresh Tomato SalsaCanned Soft DrinkChicken Soft TacosVeggie BurritoChips and Fresh Tomato SalsaChicken BowlCanned Soft DrinkChicken BurritoChicken BurritoSteak BowlChicken BowlSteak Salad BowlCanned Soft DrinkChicken BowlChipsCanned Soft DrinkSteak BurritoCanned SodaChicken BowlChips and GuacamoleChicken BowlChicken BowlChips and GuacamoleSteak BurritoChips and Tomatillo Green Chili SalsaChicken BowlChicken BurritoSteak BurritoChicken BurritoChicken BowlChicken Salad BowlChicken BowlChips and GuacamoleCanned Soft DrinkChicken BowlChicken BowlChicken BowlBarbacoa BurritoBarbacoa BurritoChips and Tomatillo-Red Chili SalsaChips and Tomatillo-Red Chili SalsaChips and GuacamoleChicken BowlChips and GuacamoleChipsSteak BowlCanned Soft DrinkChicken BurritoSteak Soft TacosChicken BowlChips and GuacamoleChicken BowlChipsChicken Salad BowlChips and GuacamoleChicken BurritoChicken BurritoCanned Soft DrinkChicken BowlChipsChicken BowlChips and Roasted Chili Corn SalsaSteak BowlCanned Soft DrinkSteak BurritoCanned Soft DrinkChicken Soft TacosCanned Soft DrinkChips and GuacamoleSteak BowlChips and GuacamoleChicken BurritoSteak BowlChicken BurritoChips and Tomatillo Green Chili SalsaChicken BurritoChicken BowlSteak Salad BowlChips and GuacamoleChips and Tomatillo Green Chili SalsaCanned Soft DrinkChicken BowlChips and GuacamoleChips and Tomatillo Green Chili SalsaCanned Soft DrinkChicken BowlChipsCanned Soft DrinkSteak BurritoChips and Tomatillo Green Chili SalsaBarbacoa BurritoNantucket NectarSteak BurritoCarnitas Soft TacosChicken BowlChips and Tomatillo Green Chili SalsaSteak Salad BowlBottled WaterChicken BowlChips and Tomatillo Green Chili SalsaCarnitas BowlChicken BurritoChicken BowlChips and Roasted Chili Corn SalsaChicken BowlBarbacoa BurritoChipsChicken Salad BowlChicken BowlChicken BowlChicken BowlChipsChicken BurritoCanned Soft DrinkChipsChicken BowlChicken BowlIzzeIzzeChicken BurritoChicken Soft TacosChips and Tomatillo-Green Chili SalsaChicken BurritoSteak Soft TacosSteak BowlCanned Soft DrinkChips and Tomatillo Red Chili SalsaChicken Salad BowlVeggie BowlSteak BowlChips and GuacamoleBottled WaterNantucket NectarCarnitas BurritoChips and Roasted Chili-Corn SalsaChicken BowlChipsVeggie BurritoCarnitas Crispy TacosSteak BurritoChips and GuacamoleSteak BurritoChips and GuacamoleSteak BurritoChicken BowlChicken BurritoSteak BurritoChicken BurritoBarbacoa Soft TacosBarbacoa BowlVeggie BowlChicken BowlChips and GuacamoleChips and GuacamoleBarbacoa BurritoChicken BowlBarbacoa BowlChicken BowlVeggie BurritoVeggie Crispy TacosChicken BurritoChipsChicken BurritoChicken Soft TacosChips and Roasted Chili Corn SalsaChicken BurritoChicken BowlChicken BurritoCanned SodaChicken BurritoChipsChips and Tomatillo Red Chili SalsaCanned Soft DrinkChicken BurritoCarnitas Soft TacosBarbacoa Soft TacosBarbacoa BowlChips and Tomatillo Red Chili SalsaChicken BowlChipsCanned Soft DrinkSteak BurritoChips and GuacamoleCarnitas BurritoChipsCarnitas BowlIzzeSteak BurritoChicken Soft TacosChicken BowlChicken BowlChips and GuacamoleChicken BowlChipsCanned Soft DrinkSteak BurritoChips and GuacamoleSteak BurritoChips and Fresh Tomato SalsaChicken BowlVeggie SaladVeggie BurritoChicken Soft TacosChips and GuacamoleChicken BurritoVeggie Soft TacosChicken BurritoChicken BowlChips and GuacamoleChicken BowlSide of ChipsChicken BowlNantucket NectarChicken BurritoChicken Salad BowlSteak BurritoChicken BurritoChicken BowlChicken BurritoSteak BurritoChicken BurritoSteak BurritoChicken BowlSteak BurritoChicken BurritoChicken BowlSide of ChipsSteak Soft TacosSteak BowlChicken BurritoSide of ChipsSteak BowlChipsBottled WaterChicken BurritoBottled WaterChicken BowlChicken BowlChips and Tomatillo Red Chili SalsaChicken BowlSide of ChipsChicken BowlChips and Tomatillo Red Chili SalsaCanned Soft DrinkChicken Salad BowlChipsCarnitas BowlChicken BowlChicken BowlChicken BowlSteak BowlCanned Soft DrinkBarbacoa BowlChicken BurritoChicken BurritoVeggie BowlChips and GuacamoleChicken BurritoBottled WaterSteak BurritoBarbacoa Soft Tacos6 Pack Soft DrinkChicken Salad BowlChips and Guacamole6 Pack Soft DrinkChicken BowlCanned Soft DrinkChipsChicken BowlChips and Tomatillo-Red Chili SalsaChicken BurritoSteak BurritoChips and GuacamoleCarnitas BowlVeggie BurritoSteak BurritoChips and Fresh Tomato SalsaSteak BurritoCarnitas Soft TacosSteak BurritoChicken BurritoChicken BurritoChicken BurritoChicken BowlVeggie BurritoSteak BowlChicken BowlChicken Soft TacosChipsChicken BowlChipsChips and GuacamoleSteak BowlChicken BowlChips and Fresh Tomato SalsaCarnitas Soft TacosCanned Soft DrinkCanned Soft DrinkCanned Soft DrinkCanned Soft DrinkChicken BowlChipsChicken BowlSide of ChipsChicken BowlBottled WaterChicken BurritoChicken Soft TacosChicken BowlChips and GuacamoleBarbacoa BowlCanned SodaChicken Salad BowlCanned Soft DrinkChicken BurritoChips and Fresh Tomato SalsaChicken Soft TacosChicken BowlBarbacoa BurritoChicken Salad BowlChips and GuacamoleChicken Salad BowlSteak Salad BowlSteak BurritoChicken Soft TacosChicken BurritoChips and GuacamoleChicken BurritoSteak BowlSteak BowlChips and GuacamoleBarbacoa Salad BowlChips and Fresh Tomato SalsaChicken BurritoChips and GuacamoleChicken BowlChipsCanned Soft DrinkChicken BowlVeggie BowlSide of ChipsChicken BurritoChips and GuacamoleChicken Soft TacosCarnitas Crispy TacosChicken BowlChips and GuacamoleVeggie BowlChicken BurritoChips and Fresh Tomato SalsaChicken Crispy TacosChicken BurritoBarbacoa BurritoChips and Tomatillo Green Chili SalsaChicken Bowl6 Pack Soft DrinkChipsChicken BowlChicken BowlChipsBottled WaterChicken BowlChicken BowlChips and Tomatillo-Red Chili SalsaSteak BurritoChips and Guacamole6 Pack Soft DrinkSteak BurritoChips and GuacamoleVeggie BowlSide of ChipsCarnitas Salad BowlBarbacoa Crispy TacosSteak BowlChips and Fresh Tomato SalsaChicken BurritoChipsCanned Soft DrinkChicken BowlCarnitas BowlChicken Soft TacosVeggie BowlChicken BowlChicken BowlCanned Soft DrinkCanned Soft DrinkBottled WaterChips and GuacamoleChips and Fresh Tomato SalsaChicken Salad BowlVeggie Salad BowlChicken BurritoChicken BurritoChicken BowlChipsBottled WaterSteak BowlCanned Soft DrinkBottled WaterChipsCanned Soft DrinkChicken BowlChips and Tomatillo Red Chili SalsaChicken Soft TacosChips and GuacamoleChicken Salad BowlChipsSteak BowlChipsBarbacoa Crispy TacosChicken BowlChips and Fresh Tomato SalsaChicken BowlChips and GuacamoleCarnitas BowlCarnitas BurritoChips and GuacamoleSteak BurritoSteak Soft TacosBottled WaterChicken BowlChips and Tomatillo Red Chili Salsa6 Pack Soft DrinkCarnitas BowlChicken BurritoSteak BurritoChicken BowlChips and Guacamole6 Pack Soft DrinkChicken Salad BowlSteak BowlChips and Roasted Chili Corn SalsaChicken BowlSide of ChipsChicken BowlChicken BowlChips and GuacamoleChicken BowlChips and Tomatillo Red Chili SalsaSteak BowlChicken BowlChips and Tomatillo-Green Chili SalsaSteak Burrito6 Pack Soft DrinkChicken Soft TacosSteak BurritoChips and Fresh Tomato SalsaSteak BowlSide of ChipsSteak BowlCanned SodaCanned SodaSteak BurritoCarnitas BurritoCanned SodaSteak BurritoSteak BurritoChicken Soft TacosChicken BowlCanned SodaSteak BurritoSteak BowlChicken Salad BowlChicken BurritoChipsVeggie BurritoChicken Soft TacosChips and GuacamoleChips and Roasted Chili Corn SalsaCarnitas Soft TacosBottled WaterSteak BurritoChicken BowlChips and Tomatillo-Green Chili SalsaChicken BurritoChipsBarbacoa BowlBottled WaterChicken BowlChipsChips and GuacamoleSteak Bowl6 Pack Soft DrinkChicken Salad BowlChips and GuacamoleSteak Soft TacosChips and GuacamoleChicken BurritoVeggie BurritoCanned Soft DrinkChicken BowlBarbacoa Soft TacosChips and GuacamoleCanned Soft DrinkBottled WaterChicken BowlChips and GuacamoleChips and GuacamoleChips and Tomatillo Red Chili SalsaSteak BurritoChicken BowlChipsChicken BowlChicken BowlChips and GuacamoleChips and Tomatillo Red Chili SalsaCarnitas Soft TacosChicken BowlCanned Soft DrinkChicken BowlChips and Tomatillo Red Chili SalsaCanned Soft DrinkChicken BowlChips and GuacamoleSteak BurritoSteak BurritoChicken BowlChips and Tomatillo-Red Chili SalsaChicken BowlBarbacoa BowlChipsBottled WaterChipsChicken BowlChicken BowlChips and GuacamoleChicken BowlChicken BowlCanned Soft DrinkChips and GuacamoleSteak BurritoSteak Crispy TacosChicken BurritoCarnitas BowlVeggie BowlChicken BurritoSteak BowlChicken Salad BowlCarnitas BurritoCarnitas BowlVeggie BowlChicken BowlChips and GuacamoleChips and Fresh Tomato SalsaChicken BowlVeggie BowlChicken BurritoChicken BurritoSteak BowlSteak BowlSteak BurritoChicken BurritoSteak BowlChips and GuacamoleChicken Soft TacosChicken BowlSide of ChipsChicken BurritoSteak BurritoChips and Roasted Chili-Corn SalsaSteak BurritoChips and Fresh Tomato SalsaCanned Soft DrinkChicken BowlChips and Tomatillo Red Chili SalsaSteak BurritoChicken Soft TacosChicken BurritoChicken BowlVeggie BowlChips and Fresh Tomato SalsaChicken BowlBottled WaterVeggie BurritoBottled WaterCanned Soft DrinkChicken BowlChips and GuacamoleSteak BowlBarbacoa BowlChips and GuacamoleChicken BowlChicken Soft TacosChips and GuacamoleChicken Soft TacosChicken Soft TacosCarnitas Soft TacosSteak BurritoChips and Fresh Tomato SalsaBarbacoa Soft TacosVeggie BurritoChicken BurritoChicken Soft TacosChips and GuacamoleIzzeSteak BowlBottled WaterChips and GuacamoleCarnitas BurritoChicken BurritoCanned Soft DrinkSteak BowlVeggie BurritoBottled WaterChicken BurritoChicken BowlChipsBottled WaterChicken BurritoChips and Tomatillo Red Chili SalsaChicken BowlChicken BurritoChicken BowlChicken Burrito6 Pack Soft DrinkChips and GuacamoleChicken BurritoChicken Salad BowlChipsChicken Salad BowlChicken BowlChips and GuacamoleSteak BurritoChips and Fresh Tomato SalsaSteak BurritoCarnitas Soft TacosSteak BurritoChips and GuacamoleSteak BurritoVeggie BowlChips and Fresh Tomato SalsaChipsChicken BurritoChicken BurritoChicken BowlChipsBottled WaterBarbacoa BurritoChips and GuacamoleChicken BurritoSteak BurritoCanned SodaChicken BurritoChips and GuacamoleCanned Soft DrinkSteak Soft TacosChips and Roasted Chili-Corn SalsaChips and GuacamoleChicken BurritoChicken BurritoSteak Soft TacosBottled WaterChicken BowlSteak BowlChicken BowlChips and GuacamoleSteak BurritoChicken Soft TacosChips and GuacamoleChicken BurritoChicken BurritoSteak BurritoVeggie Salad BowlChicken BowlChicken BurritoChicken BurritoChicken BurritoChips and Tomatillo-Green Chili SalsaNantucket NectarChicken BowlCanned Soft DrinkChips and Fresh Tomato SalsaSteak BowlBottled WaterChicken BowlSide of ChipsChips and GuacamoleChicken BurritoChicken BowlChicken BowlChicken BowlChips and GuacamoleSteak BurritoVeggie BurritoChicken BowlChicken BowlChips and GuacamoleSteak BowlChicken BurritoChicken BowlChicken BurritoChicken BurritoChips and GuacamoleChicken BowlChips and GuacamoleCanned Soft DrinkChicken BowlChicken BowlBottled WaterChipsCarnitas BowlSteak BurritoSteak BowlSteak BowlSteak BowlBottled WaterChicken BurritoCarnitas Soft TacosCanned Soft DrinkChicken BurritoChipsSteak BurritoCanned SodaChips and GuacamoleChicken BurritoSteak BowlChipsChicken BowlChicken BurritoCanned Soft DrinkSteak BowlChipsSteak BurritoChicken BurritoVeggie BurritoVeggie BurritoChips and GuacamoleChicken BurritoSide of ChipsVeggie Salad BowlChicken Salad BowlSteak BurritoChicken Soft TacosSteak Crispy TacosChicken BowlChips and Tomatillo Red Chili SalsaChips and GuacamoleSteak Crispy Tacos6 Pack Soft DrinkCarnitas BowlSteak BowlCanned SodaSteak BurritoSteak BurritoChicken BurritoCarnitas BurritoChicken BowlChipsBottled WaterBarbacoa BurritoSide of ChipsChicken BowlCanned Soft DrinkCarnitas Soft TacosBarbacoa Soft TacosChicken Soft TacosSteak Soft TacosChips and GuacamoleChipsBarbacoa BowlChicken BurritoChicken BurritoChicken BowlBarbacoa BurritoChipsBarbacoa Soft TacosChicken BowlChicken BurritoChipsCanned Soft DrinkChicken BowlCanned Soft DrinkChicken BowlChips and Fresh Tomato SalsaCarnitas BowlVeggie Salad BowlCarnitas BurritoChips and GuacamoleSteak BowlSteak BowlCanned Soft DrinkSteak BowlChipsSteak BowlBottled WaterCanned Soft DrinkVeggie BurritoChips and Tomatillo Red Chili SalsaChicken BowlChicken Soft TacosChicken Soft TacosChicken BurritoChicken BurritoChicken Soft TacosChicken BurritoChipsCanned Soft DrinkChicken BurritoChicken BowlChipsBottled WaterChicken BowlChips and Tomatillo Green Chili SalsaCanned Soft DrinkCarnitas Soft TacosCarnitas Soft TacosChicken BurritoChips and Roasted Chili-Corn SalsaChicken BurritoChips and GuacamoleSteak BurritoChicken BowlChicken BowlChicken BowlSteak BowlChicken BowlSteak BurritoChicken BurritoChicken BowlChicken BowlChicken Salad BowlSteak BowlChicken BurritoSteak BowlChicken BowlSteak BowlChicken BurritoChicken BowlChicken BowlBarbacoa BurritoChicken BurritoSteak BowlVeggie BowlSteak BurritoSteak BurritoChicken BowlChips and Tomatillo Red Chili SalsaCanned Soft DrinkSteak BowlBottled WaterChicken BowlChicken BowlChicken BowlBottled WaterChipsChicken BowlSteak BowlBottled WaterChicken BowlChipsBottled WaterChicken BurritoChips and Roasted Chili Corn SalsaCanned Soft DrinkCanned Soft DrinkSteak BurritoChips and GuacamoleChicken BowlChicken BurritoChips and GuacamoleChicken BowlChipsCanned Soft DrinkChicken BowlSide of ChipsChicken BurritoCanned Soft DrinkChicken BowlCanned Soft DrinkChicken BowlChicken BurritoChicken BowlChicken BurritoSide of ChipsCarnitas BowlSteak BurritoChicken BowlChips and Roasted Chili-Corn SalsaBarbacoa BowlChips and Roasted Chili Corn Salsa6 Pack Soft DrinkChicken Crispy TacosVeggie BowlSteak BurritoChicken BowlNantucket NectarSteak BurritoNantucket NectarCarnitas BurritoChicken BowlVeggie Soft TacosChips and GuacamoleSteak BowlSteak BowlChicken Burrito6 Pack Soft DrinkSteak BurritoChips and Fresh Tomato SalsaVeggie BowlChicken BurritoSteak BurritoChips and GuacamoleChicken BowlChipsBarbacoa BurritoBarbacoa BowlBarbacoa BurritoSteak Salad BowlSteak BowlChicken Salad BowlCarnitas BowlSteak BurritoChicken BowlChicken BowlChicken BowlSide of ChipsBottled WaterChicken BowlBottled WaterChicken BurritoChicken BurritoSteak BowlBottled WaterChicken BurritoSteak Crispy TacosChicken Salad BowlChicken BurritoChipsChicken Crispy TacosChicken Salad BowlChipsVeggie BurritoChips and Tomatillo Red Chili SalsaChips and GuacamoleChicken BowlChicken BowlNantucket NectarChips and Fresh Tomato SalsaSteak BowlChipsBarbacoa Soft TacosSteak BurritoChips and Fresh Tomato SalsaChicken BowlSteak BurritoSteak Salad BowlCanned Soft DrinkBottled WaterBarbacoa Salad BowlCanned SodaVeggie BowlChips and Fresh Tomato SalsaChicken BowlChicken BurritoChicken BowlChicken BowlSteak Soft TacosChicken BowlChicken BowlChips and GuacamoleCarnitas BurritoChicken Soft TacosChicken BurritoSteak BowlBottled WaterBottled WaterChicken BowlSteak Crispy TacosBarbacoa BurritoChicken BurritoChips and GuacamoleChicken Soft TacosChipsSteak BurritoChicken BurritoChips and GuacamoleSide of ChipsVeggie BowlSteak BowlSteak BowlSteak BurritoChips and GuacamoleChicken BowlChips and GuacamoleChicken BowlCanned Soft DrinkSteak BurritoChips and GuacamoleVeggie BurritoChicken BowlChicken BowlSteak BurritoChicken BurritoChicken BowlCarnitas BowlChips and GuacamoleCanned Soft DrinkChicken BurritoSteak BurritoCanned SodaChips and Fresh Tomato SalsaChicken BowlChipsChicken BowlChips and GuacamoleChicken BurritoSide of ChipsChicken BurritoSide of ChipsSteak BurritoChips and GuacamoleChicken BowlChicken Soft TacosChicken Crispy TacosSteak BurritoChicken Soft TacosChicken BowlChicken BowlChips and Fresh Tomato SalsaCanned Soft DrinkChicken Soft TacosChicken Crispy TacosSteak BurritoBarbacoa BowlChicken BowlSteak BurritoCanned SodaBarbacoa BurritoSide of ChipsCarnitas BurritoCanned Soft DrinkChicken BowlChicken BurritoChipsCanned Soft DrinkChicken Soft TacosVeggie BowlSteak BowlChicken BurritoChicken BowlChicken BurritoChicken BurritoChipsCarnitas BowlCanned SodaSide of ChipsChicken BowlChipsCanned Soft DrinkChicken BowlCanned SodaBottled WaterSide of ChipsCarnitas BowlChicken BowlChicken Crispy TacosChips and Tomatillo-Red Chili SalsaCarnitas Soft TacosCanned Soft DrinkCanned Soft DrinkCanned Soft DrinkChicken BowlChicken Crispy TacosCarnitas BowlChips and GuacamoleChicken BowlChips and GuacamoleSteak BurritoCanned SodaChicken Salad BowlChipsVeggie BowlSteak BowlCarnitas BowlVeggie BowlChicken BowlSteak BowlChips and Fresh Tomato SalsaChicken BurritoChips and GuacamoleChicken BowlChips and Tomatillo Red Chili SalsaChips and Tomatillo Red Chili SalsaChicken BowlBottled WaterChicken BurritoChicken BowlCarnitas BurritoChicken BowlChips and GuacamoleCanned SodaBarbacoa BurritoCarnitas BurritoChicken BurritoChips and GuacamoleChicken BurritoChicken BowlChips and GuacamoleChicken BowlCanned Soft DrinkChips and GuacamoleSteak BurritoChicken BurritoChicken BowlChicken BurritoChips and GuacamoleSteak Salad BowlCanned Soft DrinkChips and Roasted Chili Corn SalsaChicken BowlChicken Crispy TacosVeggie BurritoChicken BowlChipsChips and GuacamoleChicken BowlCarnitas Salad BowlChicken BowlChicken BurritoChips and GuacamoleChicken BowlChicken Salad BowlChicken BowlChicken BurritoChicken BurritoIzzeBarbacoa BowlChicken BowlChips and Tomatillo Red Chili SalsaBottled WaterSteak Salad BowlSteak BurritoChips and Fresh Tomato SalsaBottled WaterChicken BowlSteak Crispy TacosChicken BowlChipsBottled WaterChicken BurritoIzzeSteak BowlCanned Soft DrinkChicken BurritoVeggie BurritoCanned Soft DrinkChicken BurritoChips and Tomatillo Green Chili SalsaCanned Soft DrinkChicken BurritoSteak BowlChips and GuacamoleChicken BowlCarnitas BowlChicken BurritoChicken BurritoChips and GuacamoleChicken Crispy TacosChicken BurritoNantucket NectarSteak Soft TacosChips and Tomatillo Green Chili SalsaChips and Tomatillo-Green Chili SalsaChips and Fresh Tomato SalsaChips and GuacamoleSteak BurritoBarbacoa BurritoChicken Soft TacosChicken Soft TacosChicken BowlChicken BowlChips and Tomatillo Red Chili SalsaChips and GuacamoleBarbacoa BowlChicken Crispy TacosChips and GuacamoleChicken BurritoChicken Soft TacosChicken BowlVeggie BowlChips and GuacamoleSteak BurritoChicken BurritoSteak BowlChips and GuacamoleBottled WaterCanned Soft DrinkChicken BurritoChicken BurritoVeggie Salad BowlChicken BowlVeggie BurritoCarnitas BurritoChicken BurritoChips and Fresh Tomato SalsaCanned Soft DrinkChicken BurritoBottled WaterChicken BurritoChips and GuacamoleSteak BurritoChicken Soft TacosChicken BurritoCarnitas BurritoChicken BurritoChips and GuacamoleBottled WaterChicken BowlChicken BowlChicken BurritoSide of ChipsChicken BowlChipsBarbacoa BurritoChipsBottled WaterChicken BowlSteak BowlChips6 Pack Soft DrinkSteak BurritoCarnitas Soft TacosChicken BowlChicken BowlBarbacoa BurritoCarnitas BowlSteak BurritoChicken BurritoChicken BurritoChipsCanned Soft DrinkCarnitas BowlSteak BowlChicken BurritoChicken Salad BowlChips and Fresh Tomato SalsaChicken BurritoChips and GuacamoleSteak Soft TacosCarnitas BowlChips and GuacamoleChicken BurritoChips and GuacamoleChicken BurritoChicken BowlChipsSteak Salad BowlChicken BowlChicken BowlChips and Tomatillo Red Chili SalsaBottled WaterChicken BurritoChipsChicken BowlChicken BowlBarbacoa BowlSteak BowlChipsChicken BurritoSteak BowlBottled WaterVeggie BurritoVeggie SaladChicken BurritoIzzeSteak BurritoChicken BowlChips and GuacamoleBarbacoa BowlChipsChicken Soft TacosChips and GuacamoleCanned Soft DrinkSteak BurritoCanned SodaChicken BurritoChicken BurritoChicken BowlChips and GuacamoleVeggie BowlCanned SodaChicken BurritoChips and Fresh Tomato SalsaChicken BowlChicken BurritoChips and Fresh Tomato SalsaBarbacoa Soft TacosChicken BowlChipsSteak BurritoChips and GuacamoleChips and GuacamoleBarbacoa BurritoBarbacoa Crispy TacosSteak BowlChipsCarnitas BurritoChicken BurritoChicken Burrito6 Pack Soft DrinkChicken BowlVeggie BowlChips and Fresh Tomato SalsaChicken BurritoChips and GuacamoleBottled WaterBarbacoa BowlChipsChicken Soft TacosVeggie BowlSteak Salad BowlChips and GuacamoleBottled WaterCanned Soft DrinkChicken BowlChicken BowlChips and GuacamoleChicken BowlSteak Crispy TacosChicken BowlCanned SodaBottled WaterSide of ChipsSteak BurritoNantucket NectarSteak BurritoSide of ChipsChicken BurritoSteak BurritoBottled WaterSteak BurritoSteak BurritoCanned SodaChicken BowlSide of ChipsChips and GuacamoleChicken Soft TacosCanned SodaChicken BurritoChicken BurritoSteak BurritoChicken BurritoSteak BurritoChicken BowlNantucket NectarSteak BurritoSteak Soft TacosChips and Fresh Tomato SalsaSteak Crispy TacosChicken BowlSteak Soft TacosSteak BurritoSteak BurritoChips and GuacamoleChips and Tomatillo-Green Chili SalsaVeggie BurritoCanned SodaVeggie Soft TacosSteak BurritoNantucket NectarChicken Soft TacosCanned Soft DrinkSteak BowlChips and GuacamoleChicken Salad BowlChips and Guacamole6 Pack Soft DrinkChicken BurritoSteak Crispy TacosChicken Salad BowlChicken BowlChicken BurritoCanned Soft DrinkChicken BowlSteak BowlChips and GuacamoleCanned Soft DrinkChicken BurritoCanned Soft DrinkChipsSteak Crispy TacosSteak BurritoChicken BowlChips and Tomatillo Red Chili SalsaCanned Soft DrinkSteak Soft TacosBottled WaterBottled WaterChicken BurritoChicken Salad BowlCarnitas BurritoSteak BurritoSide of ChipsCarnitas BowlSide of ChipsChicken BurritoChips and GuacamoleIzzeSteak BowlChipsSteak BurritoChips and Fresh Tomato SalsaChicken BowlChicken Salad BowlCarnitas Soft TacosChicken BowlSteak BurritoChicken BurritoChips and GuacamoleVeggie BowlCanned Soft DrinkCanned SodaCanned SodaChips and Roasted Chili-Corn SalsaChicken Crispy TacosSteak BurritoChips and Fresh Tomato SalsaVeggie BurritoChicken Crispy TacosCarnitas BowlCarnitas BowlChicken BowlChips and GuacamoleChipsChicken BowlChicken BowlChips and GuacamoleSteak BowlBottled WaterSteak BowlChicken BurritoBottled WaterCarnitas BowlChips and GuacamoleChips and GuacamoleSteak BowlChipsChicken BowlChicken Soft TacosChips and GuacamoleChicken BurritoBarbacoa BurritoChipsChicken BowlChicken Salad BowlVeggie BowlChicken BowlSteak BowlChicken BowlSteak BurritoSide of ChipsChicken BowlSteak BurritoChicken BurritoChips and GuacamoleNantucket NectarChicken BurritoCarnitas BurritoChicken BowlChicken BurritoSteak BurritoChicken BowlChicken BowlSteak Salad BowlChicken BowlChicken BowlSide of ChipsCanned SodaBarbacoa BurritoSteak Crispy TacosSteak BurritoChicken Crispy TacosBarbacoa BurritoChips and Roasted Chili Corn SalsaChicken SaladChips and GuacamoleSteak BowlChicken BowlChips and Tomatillo-Red Chili SalsaChicken BowlSteak BowlChicken BurritoSteak BowlSteak BowlChicken BurritoCanned Soft DrinkCarnitas BowlBottled WaterChicken BowlChips and GuacamoleChicken BowlChipsBarbacoa BurritoChicken BowlChicken Salad BowlChicken Salad BowlChicken BurritoChips and GuacamoleCanned Soft DrinkSteak BurritoSteak BurritoCanned Soft DrinkVeggie SaladSteak BurritoBottled WaterChicken BowlChips and GuacamoleChicken Salad BowlSteak BowlChicken BowlCarnitas BowlSide of ChipsCanned SodaSteak BowlBarbacoa BurritoChicken Bowl6 Pack Soft DrinkChicken BowlChicken BowlChips and GuacamoleSteak BurritoSide of ChipsSteak BowlBarbacoa BowlCanned Soft DrinkChicken BowlCanned SodaBottled WaterSide of ChipsChicken BowlChips and Roasted Chili-Corn SalsaBarbacoa BowlCanned Soft DrinkChicken BurritoSide of ChipsVeggie BurritoSide of ChipsBarbacoa BurritoChips and GuacamoleChicken Salad BowlChicken BowlChips and GuacamoleVeggie BurritoVeggie BurritoChicken BowlChicken BowlChips and GuacamoleChicken Crispy TacosBottled WaterChicken Soft TacosChips and GuacamoleChicken SaladChips and GuacamoleSteak BowlChips and GuacamoleChicken BurritoChips and GuacamoleChicken BowlChips and Tomatillo-Red Chili SalsaChicken BowlChips and Roasted Chili-Corn SalsaChips and GuacamoleVeggie BurritoCanned Soft DrinkChicken BowlChips and GuacamoleBarbacoa BurritoChips and GuacamoleCanned SodaSteak BurritoChips and GuacamoleChicken BowlChips and GuacamoleCarnitas Soft TacosChicken BowlChicken Salad BowlChicken BowlChicken Soft TacosChicken Crispy TacosChicken BowlChicken BowlSteak Crispy TacosChicken BowlChicken Crispy TacosChicken Crispy TacosChips and GuacamoleChicken BowlSteak BowlVeggie BowlSteak BowlChips and GuacamoleSteak Crispy TacosChips and Fresh Tomato SalsaChicken BowlSide of ChipsCanned Soft DrinkChips and GuacamoleSteak BowlBottled WaterChicken BowlSteak BurritoVeggie BowlChipsChicken BurritoSteak Salad BowlChicken Crispy TacosChips and GuacamoleChicken BowlChips and Fresh Tomato SalsaCarnitas BowlSide of ChipsSteak Soft TacosChips and GuacamoleChicken BowlSide of ChipsSteak BurritoChips and Fresh Tomato SalsaChicken BurritoSide of ChipsVeggie BurritoChips and GuacamoleCarnitas Salad BowlSteak BurritoChicken Salad BowlChicken BurritoChips and GuacamoleSteak Salad BowlChips and GuacamoleChips and GuacamoleChicken BurritoChicken BowlChicken BurritoChipsChicken BurritoCanned Soft DrinkSteak BurritoChicken BurritoChips and Guacamole6 Pack Soft DrinkChicken BowlSteak BurritoCanned Soft DrinkChips and Tomatillo Red Chili SalsaChips and GuacamoleChicken BurritoChicken BurritoSteak Burrito6 Pack Soft DrinkSteak BowlChips and Tomatillo-Green Chili SalsaSteak BowlCanned SodaVeggie BowlChips and GuacamoleVeggie BowlBarbacoa BurritoSide of ChipsChicken BowlCanned SodaSteak BurritoSteak BowlChips and Fresh Tomato SalsaBarbacoa BurritoSide of ChipsChips and GuacamoleCanned Soft DrinkChicken Soft TacosSteak BurritoCanned SodaVeggie SaladVeggie BurritoVeggie BowlChips and GuacamoleChicken Salad BowlChicken BurritoSteak BurritoChicken BurritoChips and Tomatillo-Red Chili SalsaChicken BowlChips and GuacamoleChicken BowlChicken Salad BowlSteak BurritoChicken BowlChicken BowlChicken BowlChicken BowlSteak BurritoChicken BowlChips and GuacamoleBarbacoa Soft TacosChicken BowlCanned Soft DrinkChipsSteak BurritoChips and GuacamoleSteak BowlChipsChicken Crispy TacosSteak BurritoChips and Roasted Chili-Corn SalsaBarbacoa BowlSteak BowlSteak BurritoChips and Fresh Tomato SalsaSteak BurritoBottled WaterSteak BowlChips and GuacamoleBottled WaterSteak BurritoSteak Soft TacosChips and Roasted Chili-Corn SalsaChicken BowlBarbacoa Salad BowlChipsCanned Soft DrinkBarbacoa Soft TacosChips and GuacamoleChicken BowlChicken BowlChicken BowlChips and GuacamoleChicken BowlChipsChips and GuacamoleChicken BowlCanned SodaChips and GuacamoleVeggie Salad BowlChicken BowlChicken BowlChips and Fresh Tomato SalsaSteak BurritoChips and Fresh Tomato SalsaChicken BowlChipsChicken BurritoChips and Fresh Tomato SalsaCanned Soft DrinkVeggie BurritoVeggie BurritoChicken BurritoSteak BurritoSteak BowlChicken BowlChicken Crispy TacosChips and GuacamoleCanned Soft DrinkChicken Soft TacosCarnitas BowlBarbacoa BowlSide of ChipsSteak BurritoSide of ChipsChicken BowlCanned Soft DrinkSteak BurritoCarnitas BurritoBarbacoa BowlCanned SodaChicken BurritoChicken BurritoChips and Tomatillo Green Chili SalsaCanned Soft DrinkChicken Salad BowlCanned Soft DrinkChicken Salad BowlChicken BowlChipsCanned Soft DrinkChicken BowlChips and GuacamoleChicken BurritoChips and Roasted Chili-Corn SalsaChicken BowlChips and Tomatillo-Red Chili SalsaChicken BurritoChips and GuacamoleSteak BurritoVeggie BurritoVeggie BowlBarbacoa BurritoChicken BowlSteak BowlChicken Soft TacosChips and GuacamoleBottled WaterChicken BowlChicken BowlChicken BowlChicken BowlChips and GuacamoleSteak BowlChips and GuacamoleChicken BurritoChicken Soft TacosChipsChips and Tomatillo Red Chili SalsaVeggie Salad BowlBottled WaterSteak BurritoChicken BurritoChips and GuacamoleChicken BowlChicken BowlChicken BurritoBarbacoa BurritoChicken BowlChipsCanned Soft DrinkChicken BowlChipsCanned Soft DrinkCarnitas Soft TacosChicken Crispy TacosChicken Salad BowlChicken BowlCanned Soft DrinkSteak BurritoBottled WaterChicken Salad BowlChicken BurritoChips and GuacamoleNantucket NectarChicken BurritoChips and Tomatillo-Green Chili SalsaBarbacoa Crispy TacosBottled WaterChicken BowlChicken Crispy TacosChicken BowlChicken BowlChipsChicken BowlChipsCanned Soft DrinkChicken BurritoChicken BurritoSide of ChipsSteak BowlSteak BowlBottled WaterSteak BowlCarnitas BowlSteak BurritoCarnitas Soft TacosCarnitas Soft TacosChicken BurritoChicken BowlChicken BurritoBarbacoa BurritoChicken BowlChicken BurritoChipsCanned Soft DrinkSteak Salad BowlVeggie BurritoSteak BurritoChips and GuacamoleSteak BowlSteak BowlBarbacoa Salad BowlChicken BowlChips and Tomatillo-Red Chili SalsaChicken BowlSide of ChipsBottled WaterSteak BurritoChicken SaladCanned SodaChicken BowlCanned Soft DrinkVeggie BurritoNantucket NectarChicken BurritoChips and GuacamoleChicken BurritoChicken Crispy TacosChicken BurritoSide of ChipsChicken BurritoBarbacoa BowlSteak BurritoSteak BurritoCanned Soft DrinkChicken Salad BowlChicken Salad BowlChicken BurritoChicken BowlChicken BowlCanned Soft DrinkCanned Soft DrinkCanned Soft DrinkChicken Burrito6 Pack Soft DrinkSteak BurritoBarbacoa BurritoChips and GuacamoleChicken BowlBarbacoa BowlChicken BowlChicken BowlVeggie BowlChips and Roasted Chili-Corn SalsaSteak BurritoChicken BurritoChicken BurritoChips and Tomatillo Green Chili SalsaBottled WaterVeggie BurritoChips and Fresh Tomato SalsaSteak Crispy TacosChips and Fresh Tomato SalsaSteak BowlChicken BowlChicken Salad BowlChicken Salad BowlVeggie BowlChips and GuacamoleChicken BurritoCanned Soft DrinkChicken BurritoChips and Fresh Tomato SalsaCanned Soft DrinkSteak BurritoBarbacoa BurritoCarnitas Burrito6 Pack Soft DrinkChicken BowlChicken BowlSide of ChipsChicken BurritoChips and GuacamoleChicken BowlChips and Tomatillo Red Chili SalsaChips and Tomatillo Red Chili SalsaChicken BurritoSteak BowlSteak BurritoCanned SodaChicken BurritoChips and GuacamoleCanned Soft DrinkChicken BowlSteak Crispy TacosChicken BowlCarnitas BurritoChicken Salad BowlBottled WaterChicken BowlChipsChicken BurritoChicken BurritoSteak BowlChips and Roasted Chili Corn SalsaChicken BurritoChicken BowlSteak Soft TacosChicken BurritoSteak BurritoChicken Soft TacosChicken BowlChicken BowlCanned Soft DrinkChicken BowlBottled WaterChipsChicken BurritoChicken BurritoChicken BowlChicken BurritoChicken BurritoChicken BowlChips and GuacamoleVeggie BurritoVeggie BurritoVeggie SaladChicken Crispy TacosSteak Soft TacosSide of ChipsChips and Fresh Tomato SalsaCanned SodaCanned SodaVeggie BurritoChips and Tomatillo Green Chili SalsaCarnitas BowlChicken BowlChips and Tomatillo Red Chili SalsaCanned Soft DrinkChicken BowlChipsSteak BowlChips and GuacamoleChicken BurritoChicken BowlChicken BurritoChips and GuacamoleCanned Soft DrinkSteak Salad BowlChicken BowlChipsCanned Soft DrinkChicken BowlCanned SodaBottled WaterSide of ChipsSteak BurritoSteak SaladSteak Crispy TacosChips and Fresh Tomato SalsaChicken BowlChips and Fresh Tomato SalsaChicken Salad BowlChicken BowlChicken BowlChicken BowlSide of ChipsBarbacoa BurritoChips and Tomatillo Green Chili SalsaChicken BowlChicken BowlChicken BurritoSteak BurritoChicken Soft TacosChicken BurritoChicken BurritoChicken BurritoChips and Tomatillo Green Chili SalsaBottled WaterCanned Soft DrinkCarnitas BowlChips and GuacamoleSteak BurritoChicken BurritoCarnitas BurritoSteak BurritoChips and GuacamoleSteak BurritoSide of ChipsChips and GuacamoleSteak BurritoChicken BowlChips and GuacamoleChipsChicken BurritoSteak BurritoChips and GuacamoleVeggie BurritoCanned Soft DrinkChicken BurritoChicken BowlBarbacoa Salad BowlBarbacoa BowlBarbacoa Soft TacosBarbacoa BowlChicken BowlChipsBottled WaterSteak BurritoChips and GuacamoleChips and GuacamoleSteak BurritoChicken BurritoChips and Tomatillo-Red Chili SalsaCanned Soft DrinkChips and Tomatillo Green Chili SalsaChicken BowlChips and Tomatillo Green Chili SalsaSteak BurritoSteak BurritoSteak BurritoChicken BurritoChipsSteak BurritoSteak Soft TacosNantucket NectarChicken BurritoChicken Soft TacosChips and Tomatillo-Green Chili SalsaChicken BurritoCanned SodaCanned SodaChicken BurritoChicken Salad BowlCanned Soft DrinkSteak BowlBottled WaterChicken BowlChipsBottled WaterChips and GuacamoleChicken BowlChicken BowlChipsBottled WaterChicken BurritoChicken BowlCanned SodaChicken Crispy TacosChipsBottled WaterChips and GuacamoleSteak Soft TacosChips and Fresh Tomato SalsaBottled Water6 Pack Soft DrinkVeggie BurritoChicken BurritoSteak BurritoBottled WaterChicken BowlSteak Crispy TacosChicken BowlChips and Fresh Tomato SalsaCanned Soft DrinkChicken Soft TacosChips and GuacamoleChicken BowlChicken Burrito6 Pack Soft DrinkChicken BurritoSteak BurritoVeggie BowlChicken BowlCarnitas BurritoCarnitas Soft TacosChicken Soft TacosSteak BurritoChicken Salad BowlChips and Tomatillo Green Chili SalsaSteak Soft TacosChips and Tomatillo-Green Chili SalsaSteak BurritoChips and Roasted Chili-Corn SalsaChicken BurritoChips and GuacamoleChicken Crispy TacosBarbacoa Burrito6 Pack Soft DrinkChicken BurritoChicken Soft TacosChicken BurritoChicken Soft TacosChicken Crispy TacosChicken BowlChicken Salad BowlChipsCanned Soft DrinkSteak BurritoChicken BurritoChipsBottled WaterChicken BowlChipsSteak BurritoChips and Tomatillo-Red Chili SalsaChicken BowlChicken BowlChipsChicken BowlChicken BowlChicken Salad BowlChips and Tomatillo-Green Chili SalsaChicken Soft TacosVeggie BowlChips and Tomatillo-Red Chili SalsaSteak BurritoChips and Fresh Tomato SalsaChicken BowlChicken BowlChips and GuacamoleSteak BowlBottled WaterSteak BurritoIzzeSteak BurritoChips and GuacamoleChicken BowlChicken BowlChicken BurritoChicken BowlCanned Soft DrinkVeggie BowlSteak BurritoChips and GuacamoleChicken BowlChicken Salad BowlSteak BurritoCanned SodaChicken BowlChicken BowlSide of ChipsChicken Salad BowlCarnitas Soft TacosChicken BurritoChicken BowlChips and GuacamoleChicken Burrito6 Pack Soft DrinkSteak Crispy TacosCarnitas Soft TacosBarbacoa BurritoChicken BurritoChips and GuacamoleCanned Soft DrinkChicken BowlSteak BowlChicken BurritoSteak BowlSteak BurritoSteak Soft TacosChicken Salad BowlSteak BowlChicken BowlChicken BowlSteak Soft TacosCarnitas BowlChicken Salad BowlSteak BowlChicken BurritoCanned SodaCanned SodaChicken BowlCanned SodaSide of ChipsChicken BowlCanned Soft DrinkChicken BowlChipsBottled WaterChicken BowlSide of ChipsCanned Soft DrinkChicken BowlChips and Tomatillo Red Chili SalsaChicken SaladChips and GuacamoleChicken BurritoChicken SaladChicken BurritoVeggie BowlChipsBottled WaterSteak BowlSteak BurritoCanned SodaChicken BowlChicken BowlChicken BowlCanned Soft DrinkVeggie BowlChips and GuacamoleChips and GuacamoleCanned Soft DrinkCarnitas Salad BowlCarnitas SaladSteak BurritoChicken BurritoChips and GuacamoleSteak BowlVeggie BurritoChips and GuacamoleCarnitas BurritoChips and GuacamoleChips and GuacamoleSteak BurritoChicken BurritoChips and GuacamoleChicken BurritoChicken BurritoSteak Burrito6 Pack Soft DrinkChicken BurritoChips and GuacamoleChicken BurritoChips and Fresh Tomato SalsaBottled WaterChicken BurritoChicken BowlChicken BurritoChips and GuacamoleVeggie BurritoChicken BowlSteak Crispy TacosChicken BurritoChips and Roasted Chili Corn SalsaChicken BowlChips and GuacamoleBottled WaterCanned Soft DrinkChips and Fresh Tomato SalsaBarbacoa BurritoSteak BowlChips and Tomatillo-Green Chili Salsa6 Pack Soft DrinkChicken Salad BowlChips and GuacamoleCarnitas BowlCanned SodaChicken BurritoBarbacoa BurritoSteak Soft TacosChicken Salad BowlChicken Salad BowlSteak BurritoChicken Salad BowlChicken BowlCanned Soft DrinkCarnitas BurritoChips and GuacamoleSteak Burrito6 Pack Soft DrinkSteak BurritoSteak BowlBarbacoa BurritoChips and Tomatillo-Green Chili SalsaChicken BowlChicken BowlBarbacoa BurritoCarnitas Soft TacosCanned Soft DrinkChicken Crispy TacosChips and Tomatillo Green Chili SalsaSteak BurritoChipsVeggie BowlVeggie BurritoBarbacoa BowlChicken BurritoChicken BurritoChips and GuacamoleChips and Fresh Tomato SalsaBarbacoa BurritoChicken BurritoChicken BurritoChicken BowlChips and GuacamoleChicken BurritoChicken Soft TacosSteak BurritoChicken Burrito6 Pack Soft DrinkChips and Fresh Tomato SalsaChicken BowlChicken BowlChipsSteak BurritoSteak BurritoChicken BowlChicken BurritoNantucket NectarSide of ChipsVeggie BurritoChicken BowlChips and GuacamoleChicken BowlChips and GuacamoleChicken BurritoChicken BowlChicken BurritoChipsSteak BowlChips and GuacamoleChicken BurritoSteak BurritoChicken Soft TacosSteak BurritoBottled WaterChicken BowlChipsSteak BowlCanned SodaChips and GuacamoleChicken BowlBottled WaterSteak Soft TacosChips and Tomatillo-Green Chili SalsaSteak BurritoBottled WaterChicken Bowl6 Pack Soft DrinkChips and GuacamoleVeggie BowlChicken BurritoChips and GuacamoleCanned Soft DrinkChicken BurritoCarnitas BurritoChips and GuacamoleSteak BurritoChicken Bowl6 Pack Soft DrinkSide of ChipsChicken Soft TacosVeggie Soft TacosCarnitas Crispy TacosChicken Crispy TacosChicken BowlChicken BowlChicken BowlChicken BowlChicken BurritoCanned SodaSide of ChipsCanned Soft DrinkSteak Soft TacosChips and Tomatillo Green Chili SalsaBarbacoa BurritoChicken BurritoChicken BurritoChips and Roasted Chili-Corn SalsaChicken BurritoChips and Fresh Tomato SalsaChicken BowlSteak BurritoSteak Soft TacosSide of ChipsVeggie BurritoChicken BowlChicken BurritoChicken BowlChips and GuacamoleChips and GuacamoleChicken BurritoChicken BurritoChips and GuacamoleChicken BowlChipsBottled WaterBottled WaterSteak BowlCanned SodaChicken BowlChips and GuacamoleChicken BowlChicken BowlChicken BowlChipsChicken BowlSide of ChipsBottled WaterCanned SodaChicken BowlChipsBottled WaterCarnitas Soft TacosChicken BurritoChips and GuacamoleChicken BowlChipsCanned Soft DrinkSteak Crispy TacosChips and Fresh Tomato SalsaChicken BurritoChips and GuacamoleSteak Crispy TacosChips and Fresh Tomato SalsaChips and GuacamoleSteak BurritoVeggie BurritoChicken BurritoChicken BurritoChicken BurritoSteak BurritoChicken BurritoChips and GuacamoleChicken BurritoCanned Soft DrinkSteak BurritoChicken BurritoChips and GuacamoleChips and Fresh Tomato SalsaChicken BurritoChicken BowlChicken BurritoSteak BurritoSteak BowlSteak BurritoCanned Soft DrinkChicken Salad BowlChips and Tomatillo Green Chili SalsaChicken BowlChicken BowlChips and Fresh Tomato SalsaChicken BowlChipsBottled WaterChicken SaladChips and Fresh Tomato SalsaSteak BowlChipsCanned Soft DrinkChicken BurritoSteak BurritoChicken SaladChicken BurritoChicken BurritoChips and Tomatillo Green Chili SalsaCanned Soft DrinkSteak Crispy TacosChips and Tomatillo Green Chili SalsaChicken BowlChicken Salad BowlChicken BowlChicken BowlSteak BurritoBottled WaterBarbacoa BurritoSteak BurritoChips and GuacamoleChicken BowlChips and GuacamoleChips and Tomatillo-Green Chili SalsaCanned SodaSteak BurritoChicken BowlChicken BowlChicken Salad BowlChicken BowlSteak Crispy TacosChips and GuacamoleCanned Soft DrinkChicken Soft TacosVeggie BurritoNantucket NectarChicken BurritoSteak BowlChips and GuacamoleCanned Soft DrinkChicken BowlChipsChips and GuacamoleCanned Soft DrinkSteak BowlChips and GuacamoleChicken Soft TacosChipsSteak BowlSteak BurritoCanned Soft DrinkChicken Salad BowlSteak Salad BowlChicken BurritoSteak Soft TacosBarbacoa BurritoChips and Tomatillo Red Chili SalsaCarnitas BurritoChips and GuacamoleCanned Soft DrinkCarnitas BowlChicken BowlBarbacoa BowlBottled WaterChicken BowlChips and GuacamoleSteak BowlCanned SodaSteak Soft TacosChips and Fresh Tomato SalsaSteak BowlSide of ChipsBarbacoa BowlSide of ChipsChicken BowlChips and GuacamoleChicken BowlChicken BurritoChips and GuacamoleChicken BowlChicken Salad BowlChips and Fresh Tomato SalsaBottled WaterChicken BurritoSteak BurritoBottled WaterSide of ChipsChicken BowlChicken BurritoChips and Fresh Tomato SalsaCanned Soft DrinkChicken BowlChips and GuacamoleChicken BowlNantucket NectarChicken Salad BowlVeggie BowlChipsSteak BowlVeggie BurritoVeggie SaladChicken Salad BowlBottled WaterChicken BowlChips and Tomatillo-Red Chili SalsaSteak BurritoChips and Fresh Tomato SalsaSteak BurritoChips and GuacamoleChicken BurritoSteak BurritoCarnitas Soft TacosChicken BowlChips and GuacamoleCanned Soft DrinkChicken BowlChips and GuacamoleSteak BurritoChips and Fresh Tomato SalsaCanned Soft DrinkChips and GuacamoleChicken BowlCanned Soft DrinkBottled WaterSteak BurritoVeggie Salad BowlChicken BowlChicken BowlChicken BowlSteak BurritoChicken BurritoChips and GuacamoleChicken Crispy TacosSteak BurritoChicken Soft TacosChicken Soft TacosChips and GuacamoleChicken BowlCanned Soft DrinkChipsChicken BowlChicken BurritoChipsChicken BowlCanned Soft DrinkChips and Tomatillo Green Chili SalsaSteak Soft TacosChips and Tomatillo Red Chili SalsaChips and GuacamoleChicken BowlVeggie BurritoBarbacoa BowlCarnitas Soft TacosBottled WaterSteak BurritoCanned Soft DrinkBarbacoa BowlCarnitas BurritoCanned Soft DrinkCanned Soft DrinkSteak BowlChips and GuacamoleChicken BurritoCarnitas Soft TacosChicken BurritoChipsCanned Soft DrinkChicken BowlBottled WaterVeggie BowlChips and GuacamoleChips and GuacamoleChips and Tomatillo Red Chili SalsaChicken BowlChipsCanned Soft DrinkBottled WaterChicken BurritoChicken Soft TacosChips and Fresh Tomato SalsaChicken BurritoCanned Soft DrinkChipsChicken BowlCarnitas Bowl6 Pack Soft DrinkCanned Soft DrinkChicken BurritoChipsChicken Bowl6 Pack Soft DrinkChicken BurritoBottled WaterVeggie BowlChips and GuacamoleChicken BurritoChips and GuacamoleSteak Soft TacosBarbacoa Soft TacosCanned Soft DrinkCanned Soft DrinkChicken BowlBottled WaterChicken BowlCanned Soft DrinkBottled WaterSteak BowlChipsChicken BowlChips and GuacamoleChicken BowlChips and GuacamoleChicken BowlChips and GuacamoleSteak BurritoChips and GuacamoleCanned Soft DrinkVeggie Salad BowlChips and GuacamoleChicken BowlChips and GuacamoleChicken Salad BowlChipsChicken Salad BowlChips and GuacamoleChicken BowlSteak BowlBottled WaterChicken BurritoChips and GuacamoleChicken BowlChipsBottled WaterChicken BowlChips and GuacamoleChicken BurritoSteak BowlChicken BowlChicken BurritoChicken Salad BowlVeggie BowlBottled WaterChicken BowlChipsSteak BowlChipsSteak Soft TacosChips and Fresh Tomato SalsaSteak BowlCanned Soft DrinkChips and GuacamoleChicken BowlChicken BowlChips and GuacamoleChicken Salad BowlCarnitas Salad BowlCanned Soft DrinkSteak Salad BowlChips and GuacamoleChicken BowlChipsBottled WaterSteak BurritoChicken Soft TacosSteak BurritoCarnitas BurritoChips and GuacamoleCanned Soft DrinkChicken BurritoSteak BowlChips and Tomatillo Green Chili SalsaChicken BowlChicken BurritoChipsChicken BurritoChicken BowlChicken BowlVeggie Salad BowlSteak BurritoChicken BurritoChipsVeggie BowlChipsSteak BowlSteak BurritoChicken BurritoSteak BurritoBarbacoa Soft TacosChicken BurritoChicken BowlChips and GuacamoleChicken BurritoCanned Soft DrinkChips and GuacamoleVeggie BurritoCanned Soft DrinkChicken BurritoChicken BurritoVeggie BowlChicken BowlCanned Soft DrinkCanned Soft DrinkCanned Soft DrinkSteak Soft TacosBarbacoa BurritoChipsChicken Soft TacosChips and GuacamoleChicken BowlChips and GuacamoleChicken BowlSteak BowlChicken BurritoSteak Soft TacosChips and GuacamoleSteak BurritoChips and GuacamoleCanned Soft DrinkChips and GuacamoleSteak BowlSteak BowlChicken BowlChipsSteak BowlSteak BowlChipsSteak BurritoChicken Soft TacosChips and Tomatillo Red Chili SalsaSteak Salad BowlChips and GuacamoleVeggie BowlChips and GuacamoleSteak BurritoChips and Fresh Tomato SalsaVeggie BurritoChips and Tomatillo Red Chili SalsaChicken BurritoChicken Crispy TacosChicken BowlChips and Fresh Tomato SalsaSteak BurritoCarnitas Soft TacosSteak BurritoChips and Tomatillo Green Chili SalsaChicken BowlChipsSteak BurritoChips and GuacamoleChicken Salad BowlChicken BurritoChicken Salad BowlVeggie BowlChicken BowlChipsCanned Soft DrinkChicken BowlCanned Soft DrinkChicken BowlChips and GuacamoleCanned Soft DrinkChicken BowlChicken Crispy TacosBarbacoa BurritoCanned Soft DrinkChicken Salad BowlChicken BurritoChicken BowlChicken Salad BowlChicken BurritoSteak Soft TacosBarbacoa BurritoCanned Soft DrinkChips and GuacamoleBarbacoa Burrito6 Pack Soft DrinkChips and GuacamoleChicken BurritoChicken Bowl6 Pack Soft DrinkSteak BowlChicken BurritoSteak BowlChicken BowlChipsChicken BowlChips and GuacamoleChicken Crispy TacosChips and GuacamoleChicken BurritoCarnitas BowlChips and GuacamoleCanned Soft DrinkCanned Soft DrinkChicken BowlChicken BurritoBarbacoa BowlChipsSteak BurritoChips and GuacamoleSteak BurritoCanned Soft DrinkCarnitas BurritoSteak BowlChicken Salad BowlChipsBarbacoa Salad BowlSteak Salad BowlChicken BowlCanned Soft DrinkSteak BurritoChips and GuacamoleChicken BowlCanned Soft DrinkChicken BowlCanned Soft DrinkChips and Tomatillo Green Chili SalsaChicken BowlChips and GuacamoleChicken BurritoBottled WaterChips and GuacamoleChips and GuacamoleSteak BurritoChicken BowlChips and Tomatillo Red Chili SalsaCanned Soft DrinkChicken BowlChips and Tomatillo Red Chili SalsaChicken BowlChicken BurritoChicken BurritoChicken BurritoChipsSteak BurritoSteak Salad BowlChips and GuacamoleCarnitas BurritoCanned Soft DrinkChicken BowlChips and GuacamoleChips and Fresh Tomato SalsaChipsSteak BowlCarnitas BowlChipsCanned Soft DrinkSteak BurritoChips and GuacamoleChicken BowlSteak BurritoChicken BowlChicken BowlCarnitas BurritoChicken Soft TacosChicken Salad BowlChips and GuacamoleBarbacoa BowlBottled WaterChicken BowlChicken BowlSteak BurritoSteak BurritoChicken BurritoChips and GuacamoleSteak BowlCarnitas Crispy TacosChips and GuacamoleVeggie BowlChicken Crispy TacosChicken BurritoChipsBottled WaterChicken BurritoChips and GuacamoleSteak BowlChicken BurritoBottled WaterCanned Soft DrinkCanned Soft DrinkCanned Soft DrinkChicken BowlChips and Tomatillo Red Chili SalsaChicken Salad BowlVeggie BowlBottled WaterSteak BowlVeggie BurritoChipsSteak BurritoChicken Soft TacosCarnitas BowlChips and Tomatillo Green Chili SalsaBottled WaterChicken BurritoBottled WaterCanned Soft DrinkChicken BowlCarnitas BurritoChicken BowlChicken BowlBarbacoa BowlChicken BowlCarnitas BurritoChicken BowlChips and GuacamoleCanned Soft DrinkCanned Soft DrinkChicken BurritoChips and Tomatillo Green Chili SalsaCanned Soft DrinkChicken BowlCanned Soft DrinkChipsChicken BowlCanned Soft DrinkCarnitas BowlCanned Soft DrinkChicken Soft TacosChips and Fresh Tomato SalsaCarnitas BowlChipsChicken BowlBottled WaterSteak BurritoChipsBarbacoa BowlChicken BowlChips and GuacamoleCanned Soft DrinkChicken Soft TacosChips and GuacamoleCanned Soft DrinkBottled WaterSteak BowlVeggie BurritoChicken Salad BowlChicken Burrito6 Pack Soft DrinkSteak Crispy TacosChicken BurritoChipsCanned Soft Drink6 Pack Soft DrinkChicken BurritoChips and GuacamoleChicken BurritoChips and GuacamoleChicken BowlChicken BurritoChips and Guacamole6 Pack Soft DrinkSteak BurritoChicken BowlCanned Soft DrinkChips and GuacamoleChicken BowlVeggie Salad BowlBottled WaterChicken BurritoBottled WaterCanned Soft DrinkSteak BurritoSteak Salad BowlChips and GuacamoleSteak Soft TacosChicken Soft TacosChips and GuacamoleCanned Soft DrinkChicken BowlSteak Crispy TacosChicken BowlChicken BurritoCarnitas Soft TacosChicken BurritoChicken BurritoCanned Soft DrinkChicken Salad BowlCarnitas BowlChips and GuacamoleChicken BowlCanned Soft DrinkChicken BurritoChips and GuacamoleBottled WaterChicken BurritoBottled WaterCanned Soft DrinkSteak Salad BowlVeggie Salad BowlChicken BowlChips and GuacamoleChicken BowlCanned Soft DrinkCarnitas BurritoChips and GuacamoleChicken Salad BowlChicken BowlBottled WaterChicken BowlChipsCanned Soft DrinkChicken BowlChicken BowlChips and GuacamoleChicken BowlChicken BowlChicken BowlBarbacoa BurritoCarnitas BowlBarbacoa BowlChicken BowlChips and GuacamoleCanned Soft DrinkBottled WaterChicken BowlChips and GuacamoleCanned Soft DrinkBarbacoa BurritoBarbacoa BurritoChicken BowlChips and GuacamoleCanned Soft DrinkSteak BurritoVeggie BurritoCanned Soft DrinkSteak BurritoVeggie BurritoCarnitas BowlChipsBottled WaterChicken Soft TacosChips and GuacamoleSteak BurritoSteak BurritoChicken Salad BowlChicken Salad BowlChicken Salad Bowl\n"
     ]
    }
   ],
   "source": [
    "most_ord = chipo['item_name'].sum()\n",
    "print(most_ord)"
   ]
  },
  {
   "cell_type": "code",
   "execution_count": 58,
   "metadata": {
    "tags": []
   },
   "outputs": [
    {
     "name": "stdout",
     "output_type": "stream",
     "text": [
      "El dato más pedido en la columna es: Chicken Bowl\n"
     ]
    }
   ],
   "source": [
    "most_ord = chipo['item_name'].value_counts()\n",
    "producto_mas_pedido = most_ord.idxmax()\n",
    "\n",
    "print(\"El dato más pedido en la columna es:\", producto_mas_pedido)"
   ]
  },
  {
   "cell_type": "markdown",
   "metadata": {},
   "source": [
    "Step 10. For the most-ordered item, how many items were ordered?"
   ]
  },
  {
   "cell_type": "code",
   "execution_count": 65,
   "metadata": {
    "collapsed": false,
    "jupyter": {
     "outputs_hidden": false
    },
    "tags": []
   },
   "outputs": [
    {
     "name": "stdout",
     "output_type": "stream",
     "text": [
      "item_name\n",
      "Chicken Bowl                             726\n",
      "Chicken Burrito                          553\n",
      "Chips and Guacamole                      479\n",
      "Steak Burrito                            368\n",
      "Canned Soft Drink                        301\n",
      "Steak Bowl                               211\n",
      "Chips                                    211\n",
      "Bottled Water                            162\n",
      "Chicken Soft Tacos                       115\n",
      "Chips and Fresh Tomato Salsa             110\n",
      "Chicken Salad Bowl                       110\n",
      "Canned Soda                              104\n",
      "Side of Chips                            101\n",
      "Veggie Burrito                            95\n",
      "Barbacoa Burrito                          91\n",
      "Veggie Bowl                               85\n",
      "Carnitas Bowl                             68\n",
      "Barbacoa Bowl                             66\n",
      "Carnitas Burrito                          59\n",
      "Steak Soft Tacos                          55\n",
      "6 Pack Soft Drink                         54\n",
      "Chips and Tomatillo Red Chili Salsa       48\n",
      "Chicken Crispy Tacos                      47\n",
      "Chips and Tomatillo Green Chili Salsa     43\n",
      "Carnitas Soft Tacos                       40\n",
      "Steak Crispy Tacos                        35\n",
      "Chips and Tomatillo-Green Chili Salsa     31\n",
      "Steak Salad Bowl                          29\n",
      "Nantucket Nectar                          27\n",
      "Barbacoa Soft Tacos                       25\n",
      "Chips and Roasted Chili Corn Salsa        22\n",
      "Izze                                      20\n",
      "Chips and Tomatillo-Red Chili Salsa       20\n",
      "Veggie Salad Bowl                         18\n",
      "Chips and Roasted Chili-Corn Salsa        18\n",
      "Barbacoa Crispy Tacos                     11\n",
      "Barbacoa Salad Bowl                       10\n",
      "Chicken Salad                              9\n",
      "Veggie Soft Tacos                          7\n",
      "Carnitas Crispy Tacos                      7\n",
      "Veggie Salad                               6\n",
      "Carnitas Salad Bowl                        6\n",
      "Burrito                                    6\n",
      "Steak Salad                                4\n",
      "Crispy Tacos                               2\n",
      "Salad                                      2\n",
      "Bowl                                       2\n",
      "Chips and Mild Fresh Tomato Salsa          1\n",
      "Veggie Crispy Tacos                        1\n",
      "Carnitas Salad                             1\n",
      "Name: count, dtype: int64\n"
     ]
    }
   ],
   "source": [
    "top_ord = chipo['item_name'].value_counts()\n",
    "print(top_ord)"
   ]
  },
  {
   "cell_type": "raw",
   "metadata": {
    "tags": []
   },
   "source": [
    "Step 11. What was the most ordered item in the choice_description column?"
   ]
  },
  {
   "cell_type": "code",
   "execution_count": 67,
   "metadata": {
    "collapsed": false,
    "jupyter": {
     "outputs_hidden": false
    },
    "tags": []
   },
   "outputs": [
    {
     "name": "stdout",
     "output_type": "stream",
     "text": [
      "<class 'pandas.core.frame.DataFrame'>\n",
      "RangeIndex: 4622 entries, 0 to 4621\n",
      "Data columns (total 5 columns):\n",
      " #   Column              Non-Null Count  Dtype \n",
      "---  ------              --------------  ----- \n",
      " 0   order_id            4622 non-null   int64 \n",
      " 1   quantity            4622 non-null   int64 \n",
      " 2   item_name           4622 non-null   object\n",
      " 3   choice_description  3376 non-null   object\n",
      " 4   item_price          4622 non-null   object\n",
      "dtypes: int64(2), object(3)\n",
      "memory usage: 180.7+ KB\n"
     ]
    }
   ],
   "source": [
    "chipo.info(\"choice_description\")"
   ]
  },
  {
   "cell_type": "code",
   "execution_count": 68,
   "metadata": {
    "tags": []
   },
   "outputs": [
    {
     "name": "stdout",
     "output_type": "stream",
     "text": [
      "choice_description\n",
      "[Diet Coke]                                                                                                                                      134\n",
      "[Coke]                                                                                                                                           123\n",
      "[Sprite]                                                                                                                                          77\n",
      "[Fresh Tomato Salsa, [Rice, Black Beans, Cheese, Sour Cream, Lettuce]]                                                                            42\n",
      "[Fresh Tomato Salsa, [Rice, Black Beans, Cheese, Sour Cream, Guacamole, Lettuce]]                                                                 40\n",
      "                                                                                                                                                ... \n",
      "[Fresh Tomato Salsa (Mild), [Pinto Beans, Black Beans, Rice, Cheese, Sour Cream, Lettuce]]                                                         1\n",
      "[[Fresh Tomato Salsa (Mild), Roasted Chili Corn Salsa (Medium), Tomatillo-Red Chili Salsa (Hot)], [Pinto Beans, Cheese, Sour Cream, Lettuce]]      1\n",
      "[Fresh Tomato (Mild), [Guacamole, Rice, Black Beans]]                                                                                              1\n",
      "[[Tomatillo-Green Chili Salsa (Medium), Tomatillo-Red Chili Salsa (Hot)], [Black Beans, Rice, Cheese, Lettuce]]                                    1\n",
      "[Tomatillo Green Chili Salsa, [Rice, Fajita Vegetables, Black Beans, Guacamole]]                                                                   1\n",
      "Name: count, Length: 1043, dtype: int64\n"
     ]
    }
   ],
   "source": [
    "most_ord1 = chipo[\"choice_description\"].value_counts()\n",
    "print(most_ord1)"
   ]
  },
  {
   "cell_type": "markdown",
   "metadata": {},
   "source": [
    "### Step 12. How many items were orderd in total?"
   ]
  },
  {
   "cell_type": "code",
   "execution_count": 50,
   "metadata": {
    "collapsed": false,
    "jupyter": {
     "outputs_hidden": false
    },
    "tags": []
   },
   "outputs": [
    {
     "name": "stdout",
     "output_type": "stream",
     "text": [
      "Número total de artículos pedidos en total: 4972\n"
     ]
    }
   ],
   "source": [
    "total_ord = chipo['quantity'].sum()\n",
    "\n",
    "print(\"Número total de artículos pedidos en total:\", total_ord)\n"
   ]
  },
  {
   "cell_type": "markdown",
   "metadata": {},
   "source": [
    "### Step 13. Turn the item price into a float"
   ]
  },
  {
   "cell_type": "markdown",
   "metadata": {},
   "source": [
    "#### Step 13.a. Check the item price type"
   ]
  },
  {
   "cell_type": "code",
   "execution_count": 70,
   "metadata": {
    "collapsed": false,
    "jupyter": {
     "outputs_hidden": false
    },
    "tags": []
   },
   "outputs": [
    {
     "ename": "ValueError",
     "evalue": "could not convert string to float: '$2.39 '",
     "output_type": "error",
     "traceback": [
      "\u001b[1;31m---------------------------------------------------------------------------\u001b[0m",
      "\u001b[1;31mValueError\u001b[0m                                Traceback (most recent call last)",
      "Cell \u001b[1;32mIn[70], line 1\u001b[0m\n\u001b[1;32m----> 1\u001b[0m chipo [\u001b[38;5;124m\"\u001b[39m\u001b[38;5;124mitem_price\u001b[39m\u001b[38;5;124m\"\u001b[39m] \u001b[38;5;241m=\u001b[39m chipo [\u001b[38;5;124m\"\u001b[39m\u001b[38;5;124mitem_price\u001b[39m\u001b[38;5;124m\"\u001b[39m]\u001b[38;5;241m.\u001b[39mastype(\u001b[38;5;28mfloat\u001b[39m)\n\u001b[0;32m      2\u001b[0m \u001b[38;5;28mprint\u001b[39m(chipo)\n",
      "File \u001b[1;32m~\\anaconda3\\Lib\\site-packages\\pandas\\core\\generic.py:6324\u001b[0m, in \u001b[0;36mNDFrame.astype\u001b[1;34m(self, dtype, copy, errors)\u001b[0m\n\u001b[0;32m   6317\u001b[0m     results \u001b[38;5;241m=\u001b[39m [\n\u001b[0;32m   6318\u001b[0m         \u001b[38;5;28mself\u001b[39m\u001b[38;5;241m.\u001b[39miloc[:, i]\u001b[38;5;241m.\u001b[39mastype(dtype, copy\u001b[38;5;241m=\u001b[39mcopy)\n\u001b[0;32m   6319\u001b[0m         \u001b[38;5;28;01mfor\u001b[39;00m i \u001b[38;5;129;01min\u001b[39;00m \u001b[38;5;28mrange\u001b[39m(\u001b[38;5;28mlen\u001b[39m(\u001b[38;5;28mself\u001b[39m\u001b[38;5;241m.\u001b[39mcolumns))\n\u001b[0;32m   6320\u001b[0m     ]\n\u001b[0;32m   6322\u001b[0m \u001b[38;5;28;01melse\u001b[39;00m:\n\u001b[0;32m   6323\u001b[0m     \u001b[38;5;66;03m# else, only a single dtype is given\u001b[39;00m\n\u001b[1;32m-> 6324\u001b[0m     new_data \u001b[38;5;241m=\u001b[39m \u001b[38;5;28mself\u001b[39m\u001b[38;5;241m.\u001b[39m_mgr\u001b[38;5;241m.\u001b[39mastype(dtype\u001b[38;5;241m=\u001b[39mdtype, copy\u001b[38;5;241m=\u001b[39mcopy, errors\u001b[38;5;241m=\u001b[39merrors)\n\u001b[0;32m   6325\u001b[0m     \u001b[38;5;28;01mreturn\u001b[39;00m \u001b[38;5;28mself\u001b[39m\u001b[38;5;241m.\u001b[39m_constructor(new_data)\u001b[38;5;241m.\u001b[39m__finalize__(\u001b[38;5;28mself\u001b[39m, method\u001b[38;5;241m=\u001b[39m\u001b[38;5;124m\"\u001b[39m\u001b[38;5;124mastype\u001b[39m\u001b[38;5;124m\"\u001b[39m)\n\u001b[0;32m   6327\u001b[0m \u001b[38;5;66;03m# GH 33113: handle empty frame or series\u001b[39;00m\n",
      "File \u001b[1;32m~\\anaconda3\\Lib\\site-packages\\pandas\\core\\internals\\managers.py:451\u001b[0m, in \u001b[0;36mBaseBlockManager.astype\u001b[1;34m(self, dtype, copy, errors)\u001b[0m\n\u001b[0;32m    448\u001b[0m \u001b[38;5;28;01melif\u001b[39;00m using_copy_on_write():\n\u001b[0;32m    449\u001b[0m     copy \u001b[38;5;241m=\u001b[39m \u001b[38;5;28;01mFalse\u001b[39;00m\n\u001b[1;32m--> 451\u001b[0m \u001b[38;5;28;01mreturn\u001b[39;00m \u001b[38;5;28mself\u001b[39m\u001b[38;5;241m.\u001b[39mapply(\n\u001b[0;32m    452\u001b[0m     \u001b[38;5;124m\"\u001b[39m\u001b[38;5;124mastype\u001b[39m\u001b[38;5;124m\"\u001b[39m,\n\u001b[0;32m    453\u001b[0m     dtype\u001b[38;5;241m=\u001b[39mdtype,\n\u001b[0;32m    454\u001b[0m     copy\u001b[38;5;241m=\u001b[39mcopy,\n\u001b[0;32m    455\u001b[0m     errors\u001b[38;5;241m=\u001b[39merrors,\n\u001b[0;32m    456\u001b[0m     using_cow\u001b[38;5;241m=\u001b[39musing_copy_on_write(),\n\u001b[0;32m    457\u001b[0m )\n",
      "File \u001b[1;32m~\\anaconda3\\Lib\\site-packages\\pandas\\core\\internals\\managers.py:352\u001b[0m, in \u001b[0;36mBaseBlockManager.apply\u001b[1;34m(self, f, align_keys, **kwargs)\u001b[0m\n\u001b[0;32m    350\u001b[0m         applied \u001b[38;5;241m=\u001b[39m b\u001b[38;5;241m.\u001b[39mapply(f, \u001b[38;5;241m*\u001b[39m\u001b[38;5;241m*\u001b[39mkwargs)\n\u001b[0;32m    351\u001b[0m     \u001b[38;5;28;01melse\u001b[39;00m:\n\u001b[1;32m--> 352\u001b[0m         applied \u001b[38;5;241m=\u001b[39m \u001b[38;5;28mgetattr\u001b[39m(b, f)(\u001b[38;5;241m*\u001b[39m\u001b[38;5;241m*\u001b[39mkwargs)\n\u001b[0;32m    353\u001b[0m     result_blocks \u001b[38;5;241m=\u001b[39m extend_blocks(applied, result_blocks)\n\u001b[0;32m    355\u001b[0m out \u001b[38;5;241m=\u001b[39m \u001b[38;5;28mtype\u001b[39m(\u001b[38;5;28mself\u001b[39m)\u001b[38;5;241m.\u001b[39mfrom_blocks(result_blocks, \u001b[38;5;28mself\u001b[39m\u001b[38;5;241m.\u001b[39maxes)\n",
      "File \u001b[1;32m~\\anaconda3\\Lib\\site-packages\\pandas\\core\\internals\\blocks.py:511\u001b[0m, in \u001b[0;36mBlock.astype\u001b[1;34m(self, dtype, copy, errors, using_cow)\u001b[0m\n\u001b[0;32m    491\u001b[0m \u001b[38;5;250m\u001b[39m\u001b[38;5;124;03m\"\"\"\u001b[39;00m\n\u001b[0;32m    492\u001b[0m \u001b[38;5;124;03mCoerce to the new dtype.\u001b[39;00m\n\u001b[0;32m    493\u001b[0m \n\u001b[1;32m   (...)\u001b[0m\n\u001b[0;32m    507\u001b[0m \u001b[38;5;124;03mBlock\u001b[39;00m\n\u001b[0;32m    508\u001b[0m \u001b[38;5;124;03m\"\"\"\u001b[39;00m\n\u001b[0;32m    509\u001b[0m values \u001b[38;5;241m=\u001b[39m \u001b[38;5;28mself\u001b[39m\u001b[38;5;241m.\u001b[39mvalues\n\u001b[1;32m--> 511\u001b[0m new_values \u001b[38;5;241m=\u001b[39m astype_array_safe(values, dtype, copy\u001b[38;5;241m=\u001b[39mcopy, errors\u001b[38;5;241m=\u001b[39merrors)\n\u001b[0;32m    513\u001b[0m new_values \u001b[38;5;241m=\u001b[39m maybe_coerce_values(new_values)\n\u001b[0;32m    515\u001b[0m refs \u001b[38;5;241m=\u001b[39m \u001b[38;5;28;01mNone\u001b[39;00m\n",
      "File \u001b[1;32m~\\anaconda3\\Lib\\site-packages\\pandas\\core\\dtypes\\astype.py:242\u001b[0m, in \u001b[0;36mastype_array_safe\u001b[1;34m(values, dtype, copy, errors)\u001b[0m\n\u001b[0;32m    239\u001b[0m     dtype \u001b[38;5;241m=\u001b[39m dtype\u001b[38;5;241m.\u001b[39mnumpy_dtype\n\u001b[0;32m    241\u001b[0m \u001b[38;5;28;01mtry\u001b[39;00m:\n\u001b[1;32m--> 242\u001b[0m     new_values \u001b[38;5;241m=\u001b[39m astype_array(values, dtype, copy\u001b[38;5;241m=\u001b[39mcopy)\n\u001b[0;32m    243\u001b[0m \u001b[38;5;28;01mexcept\u001b[39;00m (\u001b[38;5;167;01mValueError\u001b[39;00m, \u001b[38;5;167;01mTypeError\u001b[39;00m):\n\u001b[0;32m    244\u001b[0m     \u001b[38;5;66;03m# e.g. _astype_nansafe can fail on object-dtype of strings\u001b[39;00m\n\u001b[0;32m    245\u001b[0m     \u001b[38;5;66;03m#  trying to convert to float\u001b[39;00m\n\u001b[0;32m    246\u001b[0m     \u001b[38;5;28;01mif\u001b[39;00m errors \u001b[38;5;241m==\u001b[39m \u001b[38;5;124m\"\u001b[39m\u001b[38;5;124mignore\u001b[39m\u001b[38;5;124m\"\u001b[39m:\n",
      "File \u001b[1;32m~\\anaconda3\\Lib\\site-packages\\pandas\\core\\dtypes\\astype.py:187\u001b[0m, in \u001b[0;36mastype_array\u001b[1;34m(values, dtype, copy)\u001b[0m\n\u001b[0;32m    184\u001b[0m     values \u001b[38;5;241m=\u001b[39m values\u001b[38;5;241m.\u001b[39mastype(dtype, copy\u001b[38;5;241m=\u001b[39mcopy)\n\u001b[0;32m    186\u001b[0m \u001b[38;5;28;01melse\u001b[39;00m:\n\u001b[1;32m--> 187\u001b[0m     values \u001b[38;5;241m=\u001b[39m _astype_nansafe(values, dtype, copy\u001b[38;5;241m=\u001b[39mcopy)\n\u001b[0;32m    189\u001b[0m \u001b[38;5;66;03m# in pandas we don't store numpy str dtypes, so convert to object\u001b[39;00m\n\u001b[0;32m    190\u001b[0m \u001b[38;5;28;01mif\u001b[39;00m \u001b[38;5;28misinstance\u001b[39m(dtype, np\u001b[38;5;241m.\u001b[39mdtype) \u001b[38;5;129;01mand\u001b[39;00m \u001b[38;5;28missubclass\u001b[39m(values\u001b[38;5;241m.\u001b[39mdtype\u001b[38;5;241m.\u001b[39mtype, \u001b[38;5;28mstr\u001b[39m):\n",
      "File \u001b[1;32m~\\anaconda3\\Lib\\site-packages\\pandas\\core\\dtypes\\astype.py:138\u001b[0m, in \u001b[0;36m_astype_nansafe\u001b[1;34m(arr, dtype, copy, skipna)\u001b[0m\n\u001b[0;32m    134\u001b[0m     \u001b[38;5;28;01mraise\u001b[39;00m \u001b[38;5;167;01mValueError\u001b[39;00m(msg)\n\u001b[0;32m    136\u001b[0m \u001b[38;5;28;01mif\u001b[39;00m copy \u001b[38;5;129;01mor\u001b[39;00m is_object_dtype(arr\u001b[38;5;241m.\u001b[39mdtype) \u001b[38;5;129;01mor\u001b[39;00m is_object_dtype(dtype):\n\u001b[0;32m    137\u001b[0m     \u001b[38;5;66;03m# Explicit copy, or required since NumPy can't view from / to object.\u001b[39;00m\n\u001b[1;32m--> 138\u001b[0m     \u001b[38;5;28;01mreturn\u001b[39;00m arr\u001b[38;5;241m.\u001b[39mastype(dtype, copy\u001b[38;5;241m=\u001b[39m\u001b[38;5;28;01mTrue\u001b[39;00m)\n\u001b[0;32m    140\u001b[0m \u001b[38;5;28;01mreturn\u001b[39;00m arr\u001b[38;5;241m.\u001b[39mastype(dtype, copy\u001b[38;5;241m=\u001b[39mcopy)\n",
      "\u001b[1;31mValueError\u001b[0m: could not convert string to float: '$2.39 '"
     ]
    }
   ],
   "source": [
    "chipo [\"item_price\"] = chipo [\"item_price\"].astype(float)\n",
    "print(chipo)"
   ]
  },
  {
   "cell_type": "markdown",
   "metadata": {},
   "source": [
    "#### Step 13.b. Create a lambda function and change the type of item price"
   ]
  },
  {
   "cell_type": "code",
   "execution_count": 71,
   "metadata": {
    "tags": []
   },
   "outputs": [
    {
     "ename": "ValueError",
     "evalue": "could not convert string to float: '$2.39 '",
     "output_type": "error",
     "traceback": [
      "\u001b[1;31m---------------------------------------------------------------------------\u001b[0m",
      "\u001b[1;31mValueError\u001b[0m                                Traceback (most recent call last)",
      "Cell \u001b[1;32mIn[71], line 1\u001b[0m\n\u001b[1;32m----> 1\u001b[0m chipo[\u001b[38;5;124m\"\u001b[39m\u001b[38;5;124mitem_price\u001b[39m\u001b[38;5;124m\"\u001b[39m] \u001b[38;5;241m=\u001b[39m chipo[\u001b[38;5;124m\"\u001b[39m\u001b[38;5;124mitem_price\u001b[39m\u001b[38;5;124m\"\u001b[39m]\u001b[38;5;241m.\u001b[39mmap(\u001b[38;5;28;01mlambda\u001b[39;00m x: \u001b[38;5;28mfloat\u001b[39m(x))\n\u001b[0;32m      3\u001b[0m \u001b[38;5;66;03m# Print the DataFrame to see the changes\u001b[39;00m\n\u001b[0;32m      4\u001b[0m \u001b[38;5;28mprint\u001b[39m(chipo)\n",
      "File \u001b[1;32m~\\anaconda3\\Lib\\site-packages\\pandas\\core\\series.py:4397\u001b[0m, in \u001b[0;36mSeries.map\u001b[1;34m(self, arg, na_action)\u001b[0m\n\u001b[0;32m   4318\u001b[0m \u001b[38;5;28;01mdef\u001b[39;00m \u001b[38;5;21mmap\u001b[39m(\n\u001b[0;32m   4319\u001b[0m     \u001b[38;5;28mself\u001b[39m,\n\u001b[0;32m   4320\u001b[0m     arg: Callable \u001b[38;5;241m|\u001b[39m Mapping \u001b[38;5;241m|\u001b[39m Series,\n\u001b[0;32m   4321\u001b[0m     na_action: Literal[\u001b[38;5;124m\"\u001b[39m\u001b[38;5;124mignore\u001b[39m\u001b[38;5;124m\"\u001b[39m] \u001b[38;5;241m|\u001b[39m \u001b[38;5;28;01mNone\u001b[39;00m \u001b[38;5;241m=\u001b[39m \u001b[38;5;28;01mNone\u001b[39;00m,\n\u001b[0;32m   4322\u001b[0m ) \u001b[38;5;241m-\u001b[39m\u001b[38;5;241m>\u001b[39m Series:\n\u001b[0;32m   4323\u001b[0m \u001b[38;5;250m    \u001b[39m\u001b[38;5;124;03m\"\"\"\u001b[39;00m\n\u001b[0;32m   4324\u001b[0m \u001b[38;5;124;03m    Map values of Series according to an input mapping or function.\u001b[39;00m\n\u001b[0;32m   4325\u001b[0m \n\u001b[1;32m   (...)\u001b[0m\n\u001b[0;32m   4395\u001b[0m \u001b[38;5;124;03m    dtype: object\u001b[39;00m\n\u001b[0;32m   4396\u001b[0m \u001b[38;5;124;03m    \"\"\"\u001b[39;00m\n\u001b[1;32m-> 4397\u001b[0m     new_values \u001b[38;5;241m=\u001b[39m \u001b[38;5;28mself\u001b[39m\u001b[38;5;241m.\u001b[39m_map_values(arg, na_action\u001b[38;5;241m=\u001b[39mna_action)\n\u001b[0;32m   4398\u001b[0m     \u001b[38;5;28;01mreturn\u001b[39;00m \u001b[38;5;28mself\u001b[39m\u001b[38;5;241m.\u001b[39m_constructor(new_values, index\u001b[38;5;241m=\u001b[39m\u001b[38;5;28mself\u001b[39m\u001b[38;5;241m.\u001b[39mindex, copy\u001b[38;5;241m=\u001b[39m\u001b[38;5;28;01mFalse\u001b[39;00m)\u001b[38;5;241m.\u001b[39m__finalize__(\n\u001b[0;32m   4399\u001b[0m         \u001b[38;5;28mself\u001b[39m, method\u001b[38;5;241m=\u001b[39m\u001b[38;5;124m\"\u001b[39m\u001b[38;5;124mmap\u001b[39m\u001b[38;5;124m\"\u001b[39m\n\u001b[0;32m   4400\u001b[0m     )\n",
      "File \u001b[1;32m~\\anaconda3\\Lib\\site-packages\\pandas\\core\\base.py:924\u001b[0m, in \u001b[0;36mIndexOpsMixin._map_values\u001b[1;34m(self, mapper, na_action)\u001b[0m\n\u001b[0;32m    921\u001b[0m         \u001b[38;5;28;01mraise\u001b[39;00m \u001b[38;5;167;01mValueError\u001b[39;00m(msg)\n\u001b[0;32m    923\u001b[0m \u001b[38;5;66;03m# mapper is a function\u001b[39;00m\n\u001b[1;32m--> 924\u001b[0m new_values \u001b[38;5;241m=\u001b[39m map_f(values, mapper)\n\u001b[0;32m    926\u001b[0m \u001b[38;5;28;01mreturn\u001b[39;00m new_values\n",
      "File \u001b[1;32m~\\anaconda3\\Lib\\site-packages\\pandas\\_libs\\lib.pyx:2834\u001b[0m, in \u001b[0;36mpandas._libs.lib.map_infer\u001b[1;34m()\u001b[0m\n",
      "Cell \u001b[1;32mIn[71], line 1\u001b[0m, in \u001b[0;36m<lambda>\u001b[1;34m(x)\u001b[0m\n\u001b[1;32m----> 1\u001b[0m chipo[\u001b[38;5;124m\"\u001b[39m\u001b[38;5;124mitem_price\u001b[39m\u001b[38;5;124m\"\u001b[39m] \u001b[38;5;241m=\u001b[39m chipo[\u001b[38;5;124m\"\u001b[39m\u001b[38;5;124mitem_price\u001b[39m\u001b[38;5;124m\"\u001b[39m]\u001b[38;5;241m.\u001b[39mmap(\u001b[38;5;28;01mlambda\u001b[39;00m x: \u001b[38;5;28mfloat\u001b[39m(x))\n\u001b[0;32m      3\u001b[0m \u001b[38;5;66;03m# Print the DataFrame to see the changes\u001b[39;00m\n\u001b[0;32m      4\u001b[0m \u001b[38;5;28mprint\u001b[39m(chipo)\n",
      "\u001b[1;31mValueError\u001b[0m: could not convert string to float: '$2.39 '"
     ]
    }
   ],
   "source": [
    "chipo[\"item_price\"] = chipo[\"item_price\"].map(lambda x: float(x))\n",
    "print(chipo)\n"
   ]
  },
  {
   "cell_type": "markdown",
   "metadata": {},
   "source": [
    "#### Step 13.c. Check the item price type"
   ]
  },
  {
   "cell_type": "code",
   "execution_count": 72,
   "metadata": {
    "collapsed": false,
    "jupyter": {
     "outputs_hidden": false
    },
    "tags": []
   },
   "outputs": [
    {
     "ename": "TypeError",
     "evalue": "'Series' object is not callable",
     "output_type": "error",
     "traceback": [
      "\u001b[1;31m---------------------------------------------------------------------------\u001b[0m",
      "\u001b[1;31mTypeError\u001b[0m                                 Traceback (most recent call last)",
      "Cell \u001b[1;32mIn[72], line 1\u001b[0m\n\u001b[1;32m----> 1\u001b[0m chipo\u001b[38;5;241m.\u001b[39mdtypes(\u001b[38;5;124m\"\u001b[39m\u001b[38;5;124mitem_price\u001b[39m\u001b[38;5;124m\"\u001b[39m)\n",
      "\u001b[1;31mTypeError\u001b[0m: 'Series' object is not callable"
     ]
    }
   ],
   "source": [
    "chipo.dtypes(\"item_price\")"
   ]
  },
  {
   "cell_type": "code",
   "execution_count": 73,
   "metadata": {
    "tags": []
   },
   "outputs": [
    {
     "data": {
      "text/plain": [
       "str"
      ]
     },
     "execution_count": 73,
     "metadata": {},
     "output_type": "execute_result"
    }
   ],
   "source": [
    "type(\"item_price\")"
   ]
  },
  {
   "cell_type": "code",
   "execution_count": 75,
   "metadata": {
    "tags": []
   },
   "outputs": [
    {
     "data": {
      "text/plain": [
       "<bound method NDFrame.describe of 0        $2.39 \n",
       "1        $3.39 \n",
       "2        $3.39 \n",
       "3        $2.39 \n",
       "4       $16.98 \n",
       "         ...   \n",
       "4617    $11.75 \n",
       "4618    $11.75 \n",
       "4619    $11.25 \n",
       "4620     $8.75 \n",
       "4621     $8.75 \n",
       "Name: item_price, Length: 4622, dtype: object>"
      ]
     },
     "execution_count": 75,
     "metadata": {},
     "output_type": "execute_result"
    }
   ],
   "source": [
    "chipo[\"item_price\"].describe"
   ]
  },
  {
   "cell_type": "markdown",
   "metadata": {},
   "source": [
    "### Step 14. How much was the revenue for the period in the dataset?"
   ]
  },
  {
   "cell_type": "code",
   "execution_count": 79,
   "metadata": {
    "tags": []
   },
   "outputs": [
    {
     "name": "stdout",
     "output_type": "stream",
     "text": [
      "$2.39 $3.39 $3.39 $2.39 $16.98 $16.98 $10.98 $1.69 $11.75 $9.25 $9.25 $4.45 $8.75 $8.75 $11.25 $4.45 $2.39 $8.49 $8.49 $2.18 $2.18 $8.75 $4.45 $8.99 $3.39 $10.98 $3.39 $2.39 $8.49 $8.99 $1.09 $8.49 $2.39 $8.99 $1.69 $8.99 $1.09 $8.75 $8.75 $4.45 $2.95 $11.75 $2.15 $4.45 $11.25 $11.75 $8.75 $10.98 $8.99 $3.39 $8.99 $3.99 $8.99 $2.18 $2.18 $10.98 $1.09 $8.99 $2.39 $9.25 $11.25 $11.75 $2.15 $4.45 $9.25 $11.25 $8.75 $8.99 $8.99 $3.39 $8.99 $10.98 $8.99 $1.69 $8.99 $3.99 $8.75 $4.45 $8.75 $8.75 $2.15 $8.75 $11.25 $2.15 $9.25 $8.75 $8.75 $9.25 $8.49 $8.99 $1.09 $9.25 $2.95 $11.75 $11.75 $9.25 $11.75 $4.45 $9.25 $4.45 $11.75 $8.75 $8.75 $4.45 $8.99 $8.99 $3.99 $8.49 $3.39 $8.99 $1.09 $9.25 $4.45 $8.75 $2.95 $4.45 $2.39 $8.49 $8.99 $8.49 $1.09 $8.99 $3.99 $8.75 $9.25 $4.45 $11.25 $4.45 $8.99 $1.09 $9.25 $2.95 $4.45 $11.75 $4.45 $8.49 $2.39 $10.98 $22.50 $22.50 $11.75 $4.45 $11.25 $4.45 $11.25 $4.45 $11.25 $11.25 $11.75 $9.25 $4.45 $11.48 $17.98 $17.98 $1.69 $17.50 $17.50 $4.45 $8.49 $2.39 $17.50 $17.50 $4.45 $4.45 $11.25 $11.75 $10.98 $8.49 $10.98 $2.18 $2.18 $11.48 $8.49 $2.39 $4.45 $11.25 $11.75 $8.75 $8.49 $2.18 $2.18 $8.49 $3.39 $8.49 $8.99 $10.98 $11.48 $8.49 $1.09 $1.09 $9.25 $8.75 $2.95 $9.25 $4.45 $11.25 $11.48 $8.49 $8.49 $8.99 $2.39 $11.25 $8.75 $2.95 $1.09 $8.99 $8.49 $2.39 $10.98 $1.09 $3.99 $11.25 $8.75 $8.49 $3.39 $8.75 $9.25 $2.15 $11.25 $11.25 $11.25 $4.45 $22.50 $22.50 $4.45 $11.75 $8.75 $17.50 $17.50 $8.75 $9.25 $8.75 $2.15 $9.25 $4.30 $4.30 $8.75 $11.25 $2.15 $8.99 $1.09 $8.99 $3.99 $8.75 $2.95 $2.95 $11.75 $5.90 $5.90 $9.25 $9.25 $11.75 $9.25 $2.95 $17.50 $17.50 $8.75 $9.25 $10.98 $8.99 $1.09 $1.09 $1.09 $8.99 $10.98 $1.09 $8.75 $8.75 $9.25 $9.25 $8.75 $8.75 $8.99 $8.99 $8.99 $1.09 $11.75 $1.25 $8.99 $2.39 $9.25 $2.95 $8.99 $3.99 $8.49 $2.39 $8.49 $8.49 $8.49 $1.69 $8.49 $3.99 $8.99 $1.69 $1.09 $23.78 $23.78 $17.50 $17.50 $2.15 $8.75 $9.25 $9.25 $8.75 $4.45 $8.75 $11.25 $11.25 $1.25 $9.25 $4.45 $11.25 $11.75 $11.75 $6.49 $8.99 $2.39 $8.49 $2.39 $11.25 $8.75 $2.15 $8.99 $1.69 $8.75 $11.25 $2.15 $4.45 $8.75 $8.49 $8.99 $17.50 $17.50 $8.49 $1.09 $1.09 $8.75 $1.25 $2.15 $11.08 $8.49 $8.49 $8.99 $2.39 $8.75 $2.15 $1.50 $11.25 $2.15 $8.49 $8.49 $11.75 $9.25 $11.75 $1.25 $11.25 $8.75 $4.45 $6.49 $9.25 $2.95 $11.25 $4.45 $1.25 $1.25 $8.49 $2.39 $2.18 $2.18 $8.49 $2.18 $2.18 $22.16 $22.16 $17.50 $17.50 $8.75 $2.95 $6.49 $8.99 $3.39 $3.39 $8.99 $8.49 $11.25 $2.15 $11.25 $2.95 $11.25 $1.25 $8.99 $1.09 $8.75 $8.75 $9.25 $2.95 $11.75 $1.50 $8.99 $1.09 $11.25 $1.25 $1.25 $11.25 $11.75 $2.15 $8.99 $1.69 $11.75 $6.49 $8.75 $9.25 $11.25 $4.45 $1.25 $11.25 $4.45 $8.49 $8.99 $8.49 $8.99 $11.25 $1.25 $11.75 $1.25 $11.75 $9.25 $4.45 $11.25 $2.15 $32.94 $32.94 $32.94 $1.25 $11.25 $11.48 $1.69 $1.09 $17.50 $17.50 $4.45 $6.49 $9.25 $8.75 $9.25 $9.25 $8.75 $8.75 $2.15 $2.95 $17.50 $17.50 $10.98 $11.48 $11.48 $3.39 $8.99 $1.69 $8.99 $1.09 $10.98 $3.39 $8.99 $1.09 $9.25 $8.75 $11.25 $4.45 $2.95 $9.25 $22.20 $22.20 $22.20 $8.49 $8.99 $8.75 $8.75 $11.75 $8.75 $11.25 $9.25 $11.25 $11.25 $8.75 $11.25 $2.95 $1.25 $8.49 $1.69 $11.75 $11.25 $8.75 $8.75 $4.45 $8.49 $3.99 $8.49 $3.99 $11.48 $1.69 $1.09 $11.25 $1.50 $10.58 $1.69 $9.25 $11.25 $8.75 $9.25 $11.25 $11.25 $8.75 $11.75 $8.75 $8.75 $8.75 $2.15 $11.25 $11.75 $2.50 $2.50 $4.45 $9.25 $4.45 $11.25 $8.49 $3.99 $9.25 $9.25 $11.25 $9.25 $11.75 $11.25 $1.25 $23.50 $23.50 $1.25 $8.99 $8.49 $7.40 $7.40 $8.75 $1.25 $4.45 $8.75 $2.15 $8.75 $4.45 $7.40 $7.40 $7.40 $8.99 $3.99 $8.99 $1.69 $8.75 $8.75 $8.75 $8.75 $11.25 $11.25 $2.95 $8.75 $18.50 $18.50 $8.49 $3.99 $2.95 $9.25 $9.25 $3.00 $3.00 $1.25 $8.75 $9.25 $4.45 $8.75 $11.25 $4.45 $10.98 $22.16 $22.16 $4.45 $8.75 $9.25 $6.49 $9.25 $11.25 $8.75 $9.25 $2.15 $9.25 $4.45 $9.25 $2.95 $9.25 $8.75 $9.25 $1.25 $1.25 $8.75 $8.75 $9.25 $4.45 $11.75 $11.75 $11.75 $9.25 $9.25 $16.98 $16.98 $2.39 $3.39 $3.39 $9.25 $11.75 $11.25 $2.15 $8.75 $9.25 $4.45 $10.98 $11.25 $9.25 $22.50 $22.50 $9.25 $2.95 $1.50 $11.48 $8.49 $1.69 $8.49 $8.49 $8.49 $6.78 $6.78 $11.75 $4.45 $8.75 $4.45 $11.89 $9.39 $8.75 $2.95 $1.25 $9.25 $8.75 $23.78 $23.78 $8.75 $9.25 $2.15 $2.15 $1.25 $8.49 $3.99 $10.98 $1.09 $8.75 $4.45 $8.75 $11.75 $2.95 $4.45 $9.25 $8.75 $8.49 $3.99 $22.50 $22.50 $11.25 $1.25 $8.75 $8.75 $18.50 $18.50 $6.49 $8.75 $8.75 $4.45 $8.49 $3.99 $8.99 $1.09 $8.49 $2.39 $11.48 $1.69 $2.50 $2.50 $9.25 $1.50 $17.50 $17.50 $2.95 $8.75 $4.45 $11.75 $8.75 $8.49 $1.69 $8.49 $3.99 $8.99 $8.99 $3.99 $8.99 $11.25 $4.45 $1.25 $3.99 $10.98 $7.40 $3.00 $7.40 $4.00 $8.49 $3.99 $9.25 $4.45 $11.25 $1.25 $11.75 $1.25 $11.25 $2.15 $11.25 $4.45 $3.75 $3.75 $3.75 $11.75 $8.99 $2.39 $8.75 $4.45 $1.25 $8.99 $8.49 $2.18 $2.18 $8.49 $2.18 $2.18 $1.09 $8.75 $2.95 $1.25 $1.50 $11.25 $9.25 $2.95 $1.25 $8.49 $3.99 $11.48 $3.99 $8.49 $11.25 $1.25 $8.99 $1.69 $11.25 $1.25 $6.49 $8.75 $9.25 $8.75 $2.95 $8.75 $11.75 $8.69 $8.69 $2.29 $3.99 $8.49 $8.75 $8.75 $1.25 $11.75 $11.25 $11.25 $11.25 $1.25 $9.25 $11.75 $6.49 $3.99 $8.49 $11.25 $2.15 $11.25 $11.89 $8.99 $1.69 $8.99 $8.99 $3.99 $8.99 $9.25 $9.25 $2.15 $7.40 $7.40 $8.75 $8.75 $9.25 $4.45 $11.25 $1.25 $11.75 $11.25 $1.25 $3.99 $8.49 $8.49 $8.49 $8.99 $8.75 $2.15 $1.25 $8.49 $1.09 $1.09 $8.75 $2.95 $1.25 $9.25 $1.25 $2.15 $11.25 $1.25 $4.45 $8.75 $2.50 $2.50 $8.90 $8.90 $8.75 $8.75 $8.75 $11.25 $11.25 $10.98 $3.99 $10.98 $3.99 $1.69 $8.99 $9.25 $8.75 $8.99 $1.09 $9.25 $2.95 $8.75 $9.25 $3.99 $8.49 $8.75 $8.75 $22.50 $22.50 $10.98 $3.27 $3.27 $3.27 $3.99 $8.99 $1.09 $11.08 $8.75 $4.45 $11.08 $3.99 $8.49 $4.30 $4.30 $9.25 $8.75 $11.25 $11.25 $9.25 $8.49 $8.99 $8.49 $8.75 $2.95 $4.45 $9.25 $2.95 $9.25 $8.75 $11.25 $4.45 $16.98 $16.98 $8.49 $2.39 $11.25 $3.75 $3.75 $3.75 $9.25 $4.45 $9.25 $9.25 $4.45 $8.75 $9.25 $8.75 $9.25 $9.25 $9.25 $11.48 $8.99 $22.50 $22.50 $11.75 $11.25 $1.25 $8.75 $2.15 $1.25 $11.25 $8.75 $1.25 $11.25 $1.50 $11.25 $11.25 $9.25 $6.49 $8.90 $8.90 $8.75 $4.45 $11.25 $1.25 $17.50 $17.50 $9.25 $8.75 $11.75 $3.00 $3.00 $8.49 $8.49 $10.98 $8.99 $3.99 $8.75 $4.45 $8.99 $1.69 $11.75 $8.75 $11.25 $4.45 $11.75 $1.25 $11.75 $2.95 $8.99 $8.99 $2.18 $2.18 $17.98 $17.98 $8.99 $8.49 $1.69 $11.75 $11.25 $2.95 $3.75 $3.75 $3.75 $9.25 $11.75 $8.75 $2.15 $1.50 $8.49 $8.49 $3.39 $8.69 $3.89 $8.75 $4.45 $8.75 $11.25 $2.15 $8.75 $8.49 $1.69 $8.49 $8.49 $1.25 $8.75 $11.75 $11.75 $8.99 $1.09 $8.75 $4.45 $8.75 $2.95 $8.75 $2.15 $3.99 $8.49 $8.99 $3.99 $8.49 $1.69 $1.09 $8.99 $1.09 $9.25 $8.75 $8.99 $2.39 $1.25 $1.25 $11.25 $11.25 $9.25 $9.25 $11.25 $1.50 $3.99 $8.49 $11.25 $9.25 $11.25 $17.50 $17.50 $8.75 $8.90 $8.90 $8.75 $8.75 $8.99 $2.39 $11.25 $9.25 $2.15 $11.25 $1.25 $11.75 $1.25 $11.25 $11.75 $1.25 $11.25 $11.25 $8.49 $10.98 $8.75 $1.25 $8.75 $8.49 $8.49 $1.50 $1.50 $8.75 $4.45 $11.25 $1.25 $11.75 $8.49 $2.39 $9.25 $4.45 $9.25 $8.75 $8.99 $1.69 $17.50 $17.50 $2.39 $8.99 $8.99 $11.25 $4.45 $8.75 $4.45 $9.25 $6.49 $10.98 $8.49 $8.49 $1.09 $1.69 $9.25 $4.45 $8.75 $1.25 $2.95 $3.99 $8.49 $11.75 $11.75 $2.15 $11.48 $8.75 $2.15 $1.25 $11.25 $2.15 $1.25 $8.75 $8.75 $6.49 $1.69 $8.99 $8.75 $11.75 $10.98 $1.09 $8.49 $3.39 $8.75 $2.15 $1.25 $11.48 $10.98 $10.98 $8.49 $2.95 $9.25 $9.25 $11.75 $4.45 $11.48 $11.25 $8.75 $4.45 $1.69 $8.99 $8.75 $4.45 $1.50 $11.75 $2.15 $8.99 $2.39 $8.75 $2.95 $1.25 $8.75 $2.15 $1.25 $2.18 $2.18 $2.18 $2.18 $11.48 $8.75 $2.95 $11.75 $11.75 $1.25 $10.58 $8.99 $2.39 $11.75 $4.45 $11.25 $11.25 $17.50 $17.50 $8.75 $8.75 $8.75 $22.50 $22.50 $9.25 $8.75 $4.45 $11.75 $1.25 $11.25 $11.25 $2.95 $8.99 $1.69 $11.25 $4.45 $8.75 $6.49 $8.75 $4.45 $9.25 $4.45 $11.75 $11.75 $4.45 $11.89 $11.75 $11.25 $2.95 $1.50 $4.45 $8.75 $8.99 $1.09 $8.99 $1.09 $3.99 $11.48 $8.49 $9.25 $4.45 $11.48 $9.25 $2.95 $9.25 $8.49 $8.99 $8.99 $8.49 $8.75 $2.95 $4.45 $11.89 $10.58 $8.19 $1.69 $8.75 $2.15 $1.25 $17.50 $17.50 $6.49 $9.25 $2.15 $8.75 $4.45 $8.75 $1.25 $11.48 $11.48 $8.99 $2.18 $2.18 $8.49 $8.99 $2.39 $2.39 $2.18 $2.18 $8.75 $4.45 $11.25 $9.25 $9.25 $11.25 $11.25 $4.45 $2.95 $11.75 $8.49 $8.49 $8.99 $1.69 $9.25 $11.25 $11.75 $9.25 $8.75 $11.75 $8.75 $8.75 $11.25 $11.25 $10.98 $11.25 $4.45 $10.98 $8.49 $8.99 $3.39 $3.99 $8.99 $1.09 $1.09 $2.39 $17.50 $17.50 $4.45 $11.25 $11.25 $4.45 $9.25 $4.45 $8.75 $2.15 $1.25 $11.89 $2.95 $11.75 $1.25 $11.25 $4.45 $11.48 $11.48 $2.95 $9.25 $8.75 $9.25 $2.95 $11.25 $1.25 $11.75 $1.25 $8.99 $2.39 $1.25 $11.25 $1.25 $11.25 $8.49 $3.99 $35.00 $35.00 $35.00 $35.00 $27.75 $27.75 $27.75 $8.75 $11.80 $11.80 $11.80 $11.80 $8.90 $8.90 $5.90 $5.90 $6.49 $10.98 $17.98 $17.98 $2.39 $9.25 $8.75 $2.15 $8.75 $4.45 $8.49 $1.69 $8.19 $8.69 $10.98 $3.99 $11.48 $11.48 $4.45 $8.75 $6.49 $8.75 $8.75 $9.25 $1.25 $4.45 $8.49 $1.69 $9.25 $4.45 $8.99 $1.09 $11.25 $2.95 $11.08 $11.08 $3.89 $10.98 $11.25 $8.75 $11.25 $9.25 $4.30 $4.30 $8.75 $8.49 $3.99 $1.69 $8.99 $8.49 $1.69 $11.75 $11.25 $11.89 $9.25 $2.95 $9.25 $2.95 $8.75 $4.45 $4.45 $8.75 $10.98 $11.48 $8.49 $9.25 $4.45 $11.75 $11.89 $8.99 $8.49 $8.75 $9.25 $8.75 $8.75 $11.75 $11.75 $4.45 $11.25 $11.75 $2.50 $2.50 $8.99 $1.69 $11.75 $2.15 $1.25 $9.25 $8.75 $8.90 $8.90 $9.25 $2.95 $8.75 $11.25 $8.90 $8.90 $11.25 $11.75 $11.48 $1.69 $3.39 $9.25 $2.95 $8.99 $1.69 $8.49 $10.98 $11.25 $2.95 $8.99 $1.69 $8.75 $2.15 $1.25 $8.75 $2.95 $9.25 $2.50 $2.50 $11.25 $1.25 $11.75 $2.50 $2.50 $11.25 $1.50 $8.75 $1.25 $2.95 $11.48 $11.48 $8.75 $8.75 $2.15 $11.75 $1.25 $9.25 $9.25 $6.49 $11.75 $8.49 $8.49 $1.09 $10.98 $8.75 $1.25 $2.15 $11.25 $1.50 $11.25 $11.25 $8.49 $8.49 $8.75 $1.50 $1.25 $1.50 $8.75 $2.50 $2.50 $2.15 $7.40 $7.40 $4.00 $9.25 $9.39 $9.25 $9.25 $9.39 $11.25 $8.90 $8.90 $11.25 $6.00 $6.00 $6.00 $6.00 $11.25 $11.25 $11.25 $22.50 $22.50 $11.48 $1.09 $8.49 $8.49 $17.50 $17.50 $11.25 $1.50 $9.25 $8.75 $3.99 $8.49 $8.75 $8.75 $8.75 $8.75 $8.75 $11.75 $1.50 $11.25 $11.25 $2.95 $8.99 $10.98 $9.25 $8.75 $4.45 $8.49 $1.09 $2.39 $8.75 $8.75 $11.48 $8.99 $8.49 $8.49 $2.39 $10.98 $8.49 $3.99 $11.75 $4.45 $8.75 $2.15 $1.25 $10.98 $8.99 $11.25 $1.50 $8.75 $2.15 $1.25 $8.75 $9.25 $8.75 $11.25 $1.50 $8.75 $1.25 $4.45 $10.98 $8.75 $2.95 $1.25 $8.75 $2.95 $1.25 $8.49 $8.49 $2.39 $11.25 $1.25 $8.75 $8.75 $9.25 $8.75 $11.89 $1.25 $8.75 $2.15 $1.25 $8.99 $1.09 $8.75 $4.45 $26.25 $26.25 $26.25 $8.75 $4.45 $11.75 $2.95 $8.75 $8.75 $11.75 $8.75 $11.25 $11.25 $11.25 $4.45 $1.25 $8.49 $8.49 $8.49 $8.99 $8.99 $2.39 $2.39 $3.99 $8.75 $4.45 $2.15 $9.25 $1.25 $11.25 $11.75 $8.75 $4.45 $11.25 $2.15 $8.75 $4.45 $8.75 $8.75 $1.25 $11.25 $2.15 $8.75 $5.90 $5.90 $11.75 $1.25 $9.25 $3.75 $3.75 $3.75 $8.75 $1.25 $4.45 $11.75 $4.45 $8.75 $23.50 $23.50 $8.75 $2.95 $8.75 $8.75 $11.89 $4.45 $2.95 $1.25 $8.75 $4.45 $2.95 $1.25 $8.75 $2.15 $1.25 $11.75 $2.95 $8.99 $3.39 $9.25 $9.25 $17.50 $17.50 $2.95 $11.89 $1.50 $11.25 $2.95 $9.25 $11.25 $11.25 $2.95 $8.75 $9.25 $4.30 $4.30 $8.75 $8.75 $11.25 $8.75 $4.30 $4.30 $8.75 $1.25 $2.15 $8.49 $8.49 $3.39 $3.39 $10.98 $10.98 $2.39 $11.25 $11.75 $11.75 $1.25 $5.90 $5.90 $8.75 $11.25 $9.25 $4.45 $1.50 $3.39 $8.99 $2.39 $11.25 $2.15 $11.25 $11.75 $11.75 $4.45 $11.75 $4.45 $9.25 $8.75 $8.49 $8.99 $8.49 $8.99 $11.75 $8.75 $8.49 $3.99 $3.89 $11.08 $8.49 $8.99 $8.49 $8.49 $8.49 $11.25 $2.15 $17.50 $17.50 $8.75 $2.95 $8.49 $8.49 $10.98 $1.09 $11.25 $2.15 $2.95 $1.25 $8.75 $9.25 $9.25 $9.25 $2.95 $8.75 $2.15 $1.25 $8.99 $3.99 $11.75 $2.15 $8.99 $3.39 $9.25 $8.75 $11.25 $11.25 $4.45 $8.75 $2.15 $1.25 $11.75 $4.45 $9.25 $2.95 $8.49 $8.49 $11.25 $8.75 $4.45 $11.25 $11.25 $11.25 $11.25 $4.45 $8.49 $1.69 $8.49 $3.39 $8.75 $11.25 $9.25 $8.75 $11.25 $11.25 $11.75 $11.25 $11.75 $11.25 $11.75 $21.96 $21.96 $10.98 $1.69 $11.48 $8.99 $8.49 $1.69 $9.25 $2.15 $1.50 $11.25 $1.50 $8.75 $8.75 $2.95 $8.49 $1.69 $8.75 $2.95 $1.25 $11.25 $2.15 $11.08 $8.49 $8.49 $8.49 $11.75 $1.25 $11.75 $8.75 $8.75 $8.75 $4.45 $11.25 $1.50 $23.50 $23.50 $11.75 $6.49 $8.75 $4.45 $6.49 $8.75 $2.50 $2.50 $2.15 $8.49 $2.39 $8.75 $11.75 $4.45 $8.99 $10.98 $9.25 $2.95 $9.25 $9.25 $11.75 $8.75 $8.75 $8.75 $10.98 $11.25 $9.25 $8.75 $8.75 $2.15 $11.25 $2.15 $4.45 $11.75 $8.49 $2.39 $9.25 $1.25 $1.25 $1.25 $1.25 $8.75 $2.15 $8.49 $1.69 $11.25 $1.50 $8.75 $8.75 $8.49 $3.99 $8.99 $1.09 $11.25 $1.25 $8.49 $2.39 $8.49 $8.75 $9.25 $11.25 $4.45 $11.25 $11.89 $8.99 $8.49 $8.75 $4.45 $8.75 $11.75 $11.75 $8.90 $8.90 $9.39 $2.95 $8.49 $3.99 $8.75 $2.15 $1.25 $21.96 $21.96 $8.49 $1.69 $8.75 $4.45 $8.49 $8.99 $8.49 $3.99 $8.75 $8.75 $2.95 $8.75 $17.50 $17.50 $9.25 $2.95 $8.75 $6.49 $4.30 $4.30 $8.75 $8.75 $2.15 $1.50 $8.49 $8.49 $2.39 $9.25 $4.45 $6.49 $11.75 $4.45 $10.98 $1.69 $9.39 $9.25 $9.25 $2.95 $8.75 $2.15 $1.25 $11.25 $9.25 $8.75 $11.25 $8.75 $11.25 $2.50 $2.50 $2.50 $2.50 $6.00 $6.00 $6.00 $6.00 $8.90 $8.90 $5.90 $5.90 $11.25 $11.25 $8.49 $10.98 $8.75 $2.15 $1.50 $9.25 $1.25 $1.50 $2.15 $1.25 $8.75 $2.95 $8.49 $3.99 $11.25 $4.30 $4.30 $11.75 $2.15 $18.50 $18.50 $8.49 $2.39 $8.75 $4.45 $11.75 $8.99 $3.99 $9.25 $9.25 $1.50 $8.75 $2.95 $6.49 $11.75 $8.49 $8.99 $8.75 $4.45 $6.49 $22.50 $22.50 $9.25 $2.95 $8.49 $1.69 $10.98 $8.75 $4.45 $11.25 $2.95 $8.99 $8.49 $2.39 $11.75 $6.49 $11.25 $11.75 $2.95 $8.99 $1.69 $8.99 $2.18 $2.18 $1.09 $8.99 $8.99 $1.09 $8.99 $8.99 $8.49 $10.98 $1.09 $11.75 $9.25 $11.25 $11.25 $2.15 $11.25 $8.75 $4.45 $2.95 $11.75 $1.50 $8.99 $10.98 $2.39 $8.75 $2.15 $9.25 $1.50 $8.75 $2.15 $3.99 $8.99 $6.49 $8.75 $8.90 $8.90 $8.99 $3.99 $17.50 $17.50 $11.25 $1.25 $10.98 $9.25 $4.45 $1.25 $3.00 $3.00 $11.25 $4.45 $4.45 $2.95 $9.25 $11.25 $2.15 $11.25 $11.25 $4.45 $2.95 $9.25 $11.25 $1.25 $8.75 $2.95 $1.25 $8.75 $4.45 $11.48 $11.48 $8.49 $2.39 $11.25 $11.75 $2.15 $1.50 $2.15 $8.75 $11.25 $8.90 $8.90 $11.25 $11.25 $1.25 $4.45 $9.25 $9.25 $8.75 $9.25 $8.75 $8.75 $9.25 $8.75 $11.75 $11.75 $8.75 $8.75 $8.90 $8.90 $2.95 $10.98 $8.49 $8.49 $10.98 $8.99 $8.99 $11.75 $17.50 $17.50 $11.75 $3.99 $8.49 $10.98 $1.69 $17.50 $17.50 $8.99 $2.39 $8.99 $2.39 $1.25 $8.75 $2.95 $11.75 $11.25 $17.50 $17.50 $8.49 $8.49 $2.39 $11.25 $1.50 $8.75 $3.00 $3.00 $1.25 $8.75 $4.45 $11.75 $11.75 $4.45 $21.96 $21.96 $8.75 $4.45 $8.75 $11.25 $9.25 $8.99 $2.39 $9.25 $8.75 $10.98 $8.49 $3.99 $3.39 $11.75 $1.50 $4.45 $9.25 $8.75 $1.25 $11.75 $8.75 $1.50 $8.75 $8.75 $2.15 $1.50 $8.75 $2.95 $8.75 $8.75 $17.50 $17.50 $8.75 $6.49 $4.45 $11.25 $11.25 $4.30 $4.30 $8.75 $11.25 $4.45 $8.99 $2.39 $9.25 $9.25 $9.25 $4.45 $11.75 $11.25 $2.95 $2.15 $11.25 $11.25 $8.75 $2.15 $1.50 $9.25 $4.45 $10.98 $8.99 $2.18 $2.18 $8.75 $4.45 $1.25 $8.99 $2.39 $4.45 $8.75 $10.98 $11.75 $1.50 $10.98 $8.99 $8.49 $3.99 $8.99 $8.49 $3.99 $8.49 $8.49 $8.99 $11.25 $11.25 $10.98 $10.98 $10.98 $2.39 $3.39 $8.75 $1.25 $2.95 $11.75 $1.50 $10.98 $1.69 $4.45 $8.75 $8.75 $8.75 $8.75 $4.45 $9.25 $8.75 $11.25 $8.75 $3.99 $8.99 $8.49 $11.25 $11.25 $8.75 $4.45 $8.75 $4.45 $1.25 $8.75 $8.75 $1.50 $2.15 $11.75 $11.75 $11.75 $11.75 $11.75 $1.50 $8.75 $9.25 $1.25 $8.75 $2.15 $8.99 $1.09 $4.45 $11.25 $11.75 $2.15 $8.75 $8.75 $1.25 $9.25 $2.15 $11.75 $11.25 $8.75 $11.25 $4.45 $8.49 $1.69 $8.75 $8.75 $8.99 $8.49 $9.25 $11.25 $2.95 $4.45 $11.75 $6.49 $11.48 $8.99 $4.36 $4.36 $4.36 $4.36 $11.48 $8.99 $8.49 $11.48 $8.75 $2.15 $1.50 $8.99 $1.69 $11.25 $1.25 $9.25 $9.25 $8.75 $9.25 $8.90 $8.90 $2.15 $9.25 $10.98 $8.49 $8.75 $9.25 $4.30 $4.30 $9.25 $8.75 $8.75 $2.15 $1.25 $8.75 $1.25 $8.75 $5.90 $5.90 $9.25 $8.75 $9.25 $4.45 $9.25 $11.75 $2.50 $2.50 $9.25 $2.15 $9.25 $1.50 $1.25 $11.25 $2.95 $8.75 $8.75 $8.75 $10.98 $8.75 $8.75 $8.75 $2.15 $1.25 $10.98 $8.75 $2.15 $1.50 $8.75 $2.95 $1.25 $9.25 $9.25 $8.49 $2.39 $8.75 $4.45 $9.25 $8.75 $8.75 $8.75 $9.25 $8.75 $9.25 $8.75 $8.75 $8.75 $8.75 $9.25 $8.75 $9.25 $8.75 $9.25 $8.75 $8.75 $8.75 $9.25 $8.75 $9.25 $8.75 $8.99 $8.99 $8.75 $2.95 $1.25 $11.75 $1.50 $11.25 $11.25 $8.75 $1.50 $2.15 $16.98 $16.98 $11.75 $1.50 $8.75 $4.30 $4.30 $1.50 $8.75 $2.95 $1.25 $1.25 $9.25 $4.45 $11.25 $8.75 $4.45 $8.75 $2.15 $1.25 $10.98 $1.69 $8.75 $1.25 $8.75 $1.25 $11.25 $8.75 $8.75 $8.49 $1.69 $9.25 $11.75 $8.49 $2.39 $9.25 $2.95 $6.49 $8.75 $8.75 $9.25 $8.75 $6.78 $6.78 $17.98 $17.98 $3.39 $11.75 $11.25 $8.75 $4.45 $11.75 $9.25 $8.75 $6.49 $8.99 $2.39 $8.75 $11.25 $11.75 $4.45 $8.75 $2.15 $9.25 $9.25 $9.25 $11.89 $11.75 $11.25 $9.25 $9.25 $8.75 $8.75 $8.49 $1.69 $1.09 $11.25 $1.50 $11.25 $11.25 $11.75 $1.50 $8.49 $8.99 $22.50 $22.50 $8.75 $4.30 $4.30 $8.75 $11.25 $2.15 $11.25 $2.95 $4.45 $11.25 $8.49 $3.39 $2.39 $11.75 $2.15 $11.75 $8.99 $2.39 $8.75 $11.75 $11.89 $1.25 $7.50 $7.50 $7.50 $7.50 $7.50 $11.89 $1.09 $8.49 $2.39 $8.75 $8.75 $8.75 $8.75 $9.25 $11.25 $8.75 $8.90 $8.90 $9.25 $8.75 $8.75 $11.75 $3.00 $3.00 $1.50 $11.25 $11.75 $8.99 $10.98 $4.45 $8.75 $2.15 $9.25 $11.25 $4.45 $1.69 $10.98 $9.25 $11.75 $9.25 $4.45 $10.98 $3.99 $8.49 $1.25 $9.25 $4.45 $10.98 $8.75 $8.75 $11.75 $11.25 $8.49 $11.48 $4.45 $1.25 $11.25 $8.99 $1.09 $2.39 $11.25 $2.15 $8.75 $4.45 $8.49 $1.69 $10.98 $1.69 $9.25 $4.45 $11.25 $8.75 $11.25 $11.75 $11.25 $22.50 $22.50 $8.49 $2.39 $2.50 $2.50 $8.75 $8.75 $9.25 $9.25 $11.25 $8.99 $1.09 $8.99 $1.69 $11.75 $1.25 $21.96 $21.96 $8.75 $2.15 $1.25 $8.75 $11.25 $9.25 $11.25 $8.75 $8.75 $11.25 $2.15 $8.99 $1.09 $1.69 $8.75 $2.15 $1.25 $8.49 $1.09 $1.09 $1.69 $11.48 $8.49 $8.49 $4.78 $4.78 $9.25 $1.25 $1.25 $1.25 $11.25 $11.25 $11.75 $4.45 $11.25 $4.45 $8.99 $1.09 $11.25 $2.15 $11.25 $9.25 $11.75 $11.25 $11.25 $9.25 $2.95 $11.25 $4.45 $8.75 $2.95 $2.95 $11.25 $1.50 $10.98 $16.98 $16.98 $18.50 $18.50 $10.98 $3.99 $1.09 $9.25 $9.25 $8.75 $4.45 $17.50 $17.50 $8.75 $4.45 $8.75 $1.25 $4.45 $9.25 $8.75 $8.75 $17.50 $17.50 $4.45 $9.39 $1.25 $2.95 $11.25 $8.75 $8.75 $11.25 $2.15 $8.90 $8.90 $11.25 $11.89 $10.98 $11.25 $4.45 $11.25 $11.25 $8.49 $10.98 $8.49 $3.39 $9.25 $8.75 $2.95 $3.00 $3.00 $9.39 $11.75 $2.95 $1.50 $11.25 $11.75 $8.75 $2.15 $1.50 $8.49 $3.39 $11.75 $1.25 $17.50 $17.50 $11.25 $1.25 $8.75 $2.95 $1.25 $11.25 $11.75 $13.35 $13.35 $13.35 $11.25 $11.75 $11.25 $11.25 $4.45 $11.25 $8.49 $3.39 $9.25 $2.95 $4.78 $4.78 $2.39 $3.99 $8.99 $8.99 $11.25 $11.25 $8.75 $11.25 $2.95 $4.45 $9.25 $8.75 $4.45 $8.49 $8.49 $10.98 $10.98 $3.99 $11.75 $8.75 $11.75 $4.45 $1.50 $1.25 $8.49 $8.49 $8.75 $8.75 $8.75 $9.25 $8.75 $2.95 $1.25 $11.25 $1.50 $11.25 $4.45 $9.25 $8.75 $8.75 $9.25 $8.75 $4.45 $1.50 $8.75 $8.75 $8.49 $1.69 $8.75 $2.15 $9.25 $2.15 $1.50 $11.25 $11.75 $2.15 $6.49 $9.25 $9.25 $11.25 $11.25 $11.75 $11.75 $11.75 $11.25 $8.75 $2.15 $1.25 $11.75 $9.25 $11.25 $8.75 $5.90 $5.90 $8.75 $4.45 $9.25 $9.25 $4.45 $11.25 $4.45 $11.25 $8.75 $2.15 $11.89 $11.25 $8.75 $2.95 $1.50 $8.75 $4.30 $4.30 $8.75 $11.25 $11.75 $11.75 $2.15 $11.25 $8.99 $1.09 $8.49 $8.49 $8.49 $3.39 $8.99 $10.98 $3.99 $11.75 $2.15 $8.75 $4.45 $2.50 $2.50 $11.48 $1.09 $8.49 $8.49 $16.98 $16.98 $3.99 $10.98 $1.09 $8.75 $2.95 $8.75 $8.75 $2.95 $9.25 $11.25 $2.15 $9.25 $4.45 $4.45 $9.25 $11.75 $11.75 $2.15 $9.25 $8.75 $11.25 $6.49 $8.75 $11.25 $2.95 $10.98 $3.99 $1.50 $9.25 $2.15 $8.75 $11.25 $11.89 $4.45 $1.50 $1.25 $8.75 $8.75 $4.45 $11.25 $11.75 $8.49 $1.09 $1.09 $1.69 $8.99 $3.39 $8.99 $1.69 $8.49 $8.99 $3.27 $3.27 $3.27 $8.99 $8.99 $1.09 $10.98 $1.69 $3.99 $8.49 $1.09 $8.75 $8.75 $11.75 $8.75 $9.25 $8.75 $3.39 $8.99 $8.99 $2.39 $9.25 $8.75 $9.25 $9.25 $8.99 $3.99 $2.39 $8.49 $1.09 $8.49 $8.99 $3.39 $11.25 $1.25 $8.99 $3.99 $8.75 $8.90 $8.90 $6.49 $8.75 $9.25 $11.25 $11.25 $11.25 $1.25 $8.75 $9.25 $4.45 $1.25 $8.75 $1.25 $2.15 $17.98 $17.98 $8.99 $8.75 $2.95 $1.25 $11.75 $1.50 $1.50 $8.75 $8.75 $11.08 $8.99 $1.69 $8.99 $1.69 $10.98 $3.99 $3.39 $11.75 $2.15 $11.75 $2.95 $8.75 $8.75 $11.75 $11.25 $11.75 $11.25 $4.45 $11.25 $1.25 $2.18 $2.18 $2.18 $2.18 $2.39 $8.49 $8.99 $2.39 $11.25 $8.75 $11.75 $11.75 $11.25 $4.45 $2.15 $8.19 $10.58 $4.45 $9.25 $1.09 $8.99 $11.25 $1.50 $8.99 $3.99 $4.45 $11.75 $2.15 $11.25 $8.75 $4.45 $8.75 $9.25 $6.45 $6.45 $6.45 $8.75 $11.25 $11.25 $8.75 $11.75 $21.96 $21.96 $8.99 $5.07 $5.07 $5.07 $8.49 $9.25 $11.25 $4.45 $3.39 $8.49 $8.99 $8.49 $17.50 $17.50 $22.96 $22.96 $8.75 $11.25 $11.89 $11.25 $8.49 $1.69 $1.09 $8.99 $8.99 $9.25 $8.75 $9.25 $2.95 $8.49 $3.99 $8.99 $8.49 $7.17 $7.17 $7.17 $8.49 $8.99 $17.50 $17.50 $9.25 $9.25 $11.25 $1.25 $8.99 $1.09 $8.75 $4.45 $11.25 $2.15 $11.75 $11.25 $11.25 $8.75 $8.75 $4.45 $1.25 $11.75 $11.75 $2.50 $2.50 $8.49 $8.99 $2.18 $2.18 $11.25 $4.45 $11.25 $11.75 $8.49 $8.99 $1.69 $1.09 $8.99 $8.99 $11.25 $6.49 $11.25 $8.75 $4.45 $8.99 $1.69 $11.48 $11.75 $2.50 $2.50 $8.49 $1.09 $1.09 $1.69 $8.49 $2.39 $11.75 $1.25 $8.49 $1.69 $8.49 $1.69 $11.75 $4.45 $8.75 $8.75 $4.45 $8.75 $11.25 $11.25 $8.75 $7.98 $7.98 $8.49 $1.09 $8.49 $3.99 $8.49 $3.99 $8.99 $3.99 $11.25 $4.45 $8.49 $2.39 $8.49 $2.39 $3.99 $8.49 $1.25 $11.25 $4.45 $9.25 $4.45 $1.09 $8.99 $3.99 $11.25 $8.90 $8.90 $9.25 $11.25 $8.75 $11.25 $11.25 $11.25 $11.25 $11.25 $8.99 $8.49 $8.75 $8.75 $4.45 $16.98 $16.98 $11.75 $11.25 $9.25 $4.45 $9.25 $2.95 $8.49 $1.69 $3.75 $3.75 $3.75 $4.45 $9.25 $1.50 $11.25 $11.48 $11.25 $2.15 $8.75 $9.39 $8.49 $3.99 $8.19 $2.29 $11.48 $1.69 $11.48 $3.99 $8.49 $1.69 $9.25 $2.95 $8.49 $1.69 $11.25 $4.45 $9.39 $9.25 $8.75 $8.75 $4.45 $11.89 $4.45 $4.45 $8.75 $8.75 $8.75 $2.15 $8.75 $3.75 $3.75 $3.75 $9.25 $11.25 $4.45 $6.49 $16.98 $16.98 $18.50 $18.50 $2.50 $2.50 $2.95 $3.99 $8.49 $8.19 $11.08 $6.49 $11.75 $2.39 $8.99 $1.09 $11.25 $4.45 $11.25 $8.99 $1.69 $21.96 $21.96 $2.18 $2.18 $8.99 $8.99 $2.39 $8.69 $1.69 $8.90 $8.90 $2.50 $2.50 $8.75 $8.99 $1.09 $8.49 $8.49 $8.75 $4.45 $17.50 $17.50 $8.75 $9.25 $8.49 $2.39 $8.75 $4.45 $11.25 $11.25 $11.75 $8.75 $8.49 $8.49 $8.49 $8.99 $8.75 $4.45 $11.48 $8.75 $1.25 $2.15 $9.25 $4.45 $11.75 $2.15 $11.25 $8.99 $2.39 $8.69 $8.69 $11.75 $2.95 $11.75 $1.50 $9.25 $4.45 $1.50 $11.48 $8.99 $2.39 $11.25 $11.89 $2.15 $1.25 $11.75 $4.45 $8.75 $8.75 $11.25 $4.45 $11.25 $2.15 $4.45 $8.49 $1.09 $3.99 $11.25 $11.25 $8.49 $2.39 $8.99 $2.39 $11.25 $2.15 $8.75 $2.95 $1.25 $8.75 $11.25 $17.50 $17.50 $11.75 $11.75 $11.25 $11.25 $4.45 $2.50 $2.50 $8.75 $8.99 $8.99 $1.69 $8.99 $1.69 $11.25 $1.25 $11.08 $8.69 $8.99 $1.09 $11.25 $11.25 $2.95 $1.25 $8.75 $1.25 $8.75 $8.75 $2.15 $1.25 $8.49 $3.99 $8.49 $2.39 $8.49 $7.17 $7.17 $7.17 $8.75 $4.45 $11.48 $8.75 $8.75 $11.48 $8.75 $9.25 $8.49 $3.99 $1.50 $11.25 $11.25 $8.75 $8.75 $4.45 $9.25 $4.45 $8.75 $8.75 $4.30 $4.30 $2.95 $8.75 $4.50 $4.50 $4.50 $9.25 $11.25 $4.45 $11.25 $11.25 $8.75 $9.25 $8.75 $2.15 $1.25 $8.75 $2.15 $1.25 $8.99 $8.49 $8.75 $8.75 $1.25 $11.75 $4.50 $4.50 $4.50 $8.75 $8.75 $3.99 $3.39 $8.49 $2.39 $8.99 $1.50 $11.25 $11.25 $8.75 $8.75 $2.15 $8.75 $2.15 $1.25 $21.96 $21.96 $8.49 $1.69 $26.07 $26.07 $26.07 $11.75 $1.50 $8.99 $8.99 $11.48 $9.25 $9.25 $8.75 $8.75 $8.75 $9.25 $8.75 $8.75 $2.15 $1.25 $11.89 $8.75 $11.75 $4.45 $18.50 $18.50 $9.25 $9.39 $8.49 $2.39 $8.49 $1.69 $1.09 $8.99 $8.49 $2.18 $2.18 $11.25 $1.25 $8.49 $3.39 $8.49 $3.99 $11.25 $8.75 $8.49 $1.69 $16.98 $16.98 $9.25 $9.25 $11.75 $1.25 $11.25 $8.75 $8.49 $8.49 $8.75 $1.25 $1.25 $1.25 $11.25 $12.98 $12.98 $11.75 $11.75 $4.45 $11.25 $11.75 $10.98 $8.49 $8.49 $2.39 $9.25 $11.25 $8.75 $2.95 $1.50 $11.25 $2.95 $9.25 $2.95 $9.25 $8.75 $11.25 $8.75 $8.75 $4.45 $11.25 $1.25 $8.75 $2.95 $2.50 $2.50 $9.25 $9.25 $9.25 $6.49 $17.50 $17.50 $8.49 $1.69 $8.49 $3.99 $8.75 $2.95 $2.95 $8.49 $8.99 $8.99 $1.09 $8.75 $4.45 $1.25 $11.25 $11.75 $11.25 $9.25 $11.25 $1.50 $11.25 $2.15 $10.98 $8.75 $11.75 $2.95 $11.25 $11.25 $9.25 $8.75 $9.25 $8.75 $8.75 $8.75 $1.25 $11.25 $1.50 $2.15 $8.75 $8.75 $11.25 $8.75 $8.75 $11.25 $4.45 $8.49 $8.49 $8.49 $8.49 $8.99 $1.69 $2.39 $1.09 $1.09 $11.25 $2.95 $35.25 $35.25 $35.25 $8.75 $2.95 $1.25 $11.25 $2.15 $9.25 $4.45 $8.75 $8.75 $8.75 $4.45 $1.25 $11.89 $8.75 $2.15 $1.25 $8.49 $1.09 $1.09 $1.69 $8.69 $8.69 $9.25 $2.95 $10.98 $2.39 $22.50 $22.50 $21.96 $21.96 $10.98 $8.49 $1.69 $11.75 $2.95 $8.75 $11.25 $8.75 $9.25 $8.75 $8.19 $10.58 $8.75 $2.95 $1.50 $2.50 $2.50 $9.25 $4.45 $9.25 $11.25 $8.69 $8.69 $3.89 $8.69 $1.69 $4.45 $9.25 $11.25 $4.45 $2.15 $8.19 $8.69 $4.45 $11.25 $1.25 $11.25 $8.75 $11.89 $11.75 $11.75 $9.25 $8.75 $2.15 $1.50 $11.75 $4.45 $3.99 $8.99 $10.98 $2.39 $1.25 $2.95 $8.75 $2.95 $9.25 $9.25 $9.25 $8.75 $2.15 $9.25 $9.25 $3.39 $8.49 $8.49 $2.39 $10.98 $1.09 $1.09 $8.49 $11.25 $1.25 $8.99 $1.09 $8.75 $2.15 $1.50 $3.99 $8.49 $8.75 $2.15 $1.50 $8.49 $10.98 $2.18 $2.18 $8.75 $2.15 $1.50 $4.45 $9.25 $44.25 $44.25 $44.25 $44.25 $44.25 $44.25 $44.25 $44.25 $44.25 $44.25 $44.25 $44.25 $44.25 $44.25 $44.25 $10.50 $10.50 $10.50 $10.50 $10.50 $10.50 $10.50 $6.49 $33.75 $33.75 $33.75 $35.00 $35.00 $35.00 $35.00 $27.75 $27.75 $27.75 $3.00 $3.00 $11.25 $11.75 $10.98 $2.39 $2.50 $2.50 $8.75 $4.45 $16.98 $16.98 $8.75 $6.49 $16.98 $16.98 $17.98 $17.98 $16.98 $16.98 $16.98 $16.98 $8.99 $8.99 $8.49 $9.25 $8.75 $2.95 $11.48 $2.39 $8.99 $2.39 $11.25 $4.45 $8.75 $9.25 $6.49 $26.25 $26.25 $26.25 $8.75 $26.25 $26.25 $26.25 $8.75 $8.75 $11.25 $11.25 $2.15 $1.25 $11.75 $8.75 $2.15 $1.50 $11.25 $2.15 $8.99 $2.39 $11.25 $11.25 $2.15 $11.25 $11.25 $8.75 $4.78 $4.78 $21.96 $21.96 $8.49 $2.39 $9.25 $2.95 $16.98 $16.98 $8.19 $3.89 $8.99 $1.09 $8.99 $3.39 $9.25 $4.45 $10.98 $10.98 $17.50 $17.50 $11.25 $1.25 $8.75 $11.75 $4.45 $11.25 $11.25 $8.99 $1.09 $10.98 $8.49 $1.69 $11.25 $9.25 $16.98 $16.98 $8.75 $4.45 $11.25 $6.49 $11.75 $9.25 $9.25 $8.75 $4.45 $2.50 $2.50 $8.75 $11.75 $8.75 $9.25 $11.75 $9.25 $8.75 $9.25 $8.75 $11.25 $11.75 $9.25 $8.75 $11.75 $8.49 $1.09 $1.09 $8.49 $1.09 $1.69 $11.25 $1.25 $8.75 $2.15 $1.50 $8.49 $1.69 $1.25 $8.75 $2.95 $8.49 $3.99 $8.49 $8.49 $8.75 $11.25 $2.15 $1.50 $11.75 $8.99 $1.09 $10.98 $10.98 $11.25 $1.25 $8.75 $4.45 $4.45 $1.25 $11.89 $8.99 $8.99 $11.25 $4.45 $23.50 $23.50 $8.49 $3.99 $9.25 $4.45 $4.45 $9.25 $8.75 $4.45 $8.75 $8.75 $11.75 $6.49 $17.50 $17.50 $4.45 $8.75 $2.95 $1.50 $8.75 $8.75 $8.75 $4.45 $11.25 $11.25 $11.75 $11.25 $2.95 $11.25 $4.45 $3.00 $3.00 $1.25 $2.95 $9.25 $8.99 $2.39 $6.49 $8.75 $8.90 $8.90 $11.48 $1.09 $10.98 $9.25 $9.25 $11.25 $8.75 $11.75 $11.25 $11.25 $1.25 $9.25 $4.45 $9.25 $6.49 $11.75 $11.75 $8.99 $2.39 $8.49 $8.49 $9.25 $9.25 $1.25 $8.75 $2.95 $11.75 $2.15 $8.49 $8.49 $8.69 $16.38 $16.38 $8.19 $3.89 $2.29 $11.75 $8.75 $8.75 $8.75 $4.45 $8.49 $8.49 $9.25 $8.75 $6.49 $2.95 $11.25 $11.25 $2.15 $9.25 $11.75 $21.96 $21.96 $8.49 $3.39 $1.69 $8.49 $8.75 $4.45 $8.49 $3.99 $11.25 $8.75 $11.25 $2.15 $11.75 $4.45 $11.25 $9.25 $8.75 $18.50 $18.50 $1.50 $8.75 $2.15 $11.48 $2.18 $2.18 $3.99 $11.25 $1.50 $8.99 $2.39 $11.75 $1.50 $11.25 $6.49 $4.45 $11.25 $8.49 $3.99 $2.50 $2.50 $8.75 $9.25 $3.99 $8.99 $8.75 $6.49 $13.52 $13.52 $13.52 $13.52 $13.52 $13.52 $13.52 $13.52 $16.98 $16.98 $16.98 $16.98 $17.98 $17.98 $16.98 $16.98 $8.75 $8.75 $11.25 $11.25 $8.49 $1.09 $1.69 $1.25 $9.25 $2.95 $8.69 $8.19 $8.49 $2.39 $8.49 $2.39 $10.98 $8.99 $8.99 $1.69 $8.49 $8.75 $8.75 $11.25 $4.45 $4.45 $17.50 $17.50 $8.75 $4.45 $8.75 $2.15 $1.50 $1.50 $8.99 $1.09 $8.75 $4.45 $8.75 $8.75 $11.25 $4.30 $4.30 $8.49 $1.69 $1.09 $1.09 $8.75 $2.15 $1.50 $8.99 $8.49 $3.99 $8.75 $2.15 $1.25 $9.25 $2.95 $11.25 $4.45 $9.25 $2.95 $3.99 $8.99 $8.49 $8.75 $8.75 $11.25 $9.25 $8.75 $4.45 $11.25 $1.25 $9.25 $11.25 $4.45 $2.95 $10.98 $8.75 $8.75 $18.50 $18.50 $9.25 $9.25 $5.00 $5.00 $5.00 $5.00 $8.75 $2.95 $16.98 $16.98 $11.25 $2.95 $8.75 $2.15 $1.50 $8.49 $2.39 $9.25 $2.15 $1.25 $8.19 $8.69 $8.19 $8.19 $8.75 $2.95 $1.25 $9.25 $2.95 $11.25 $8.75 $11.25 $11.25 $8.99 $1.09 $9.25 $9.25 $4.45 $8.49 $3.99 $2.39 $1.09 $8.99 $8.49 $8.75 $8.75 $11.25 $11.75 $4.45 $2.50 $2.50 $8.75 $8.49 $3.39 $8.75 $9.25 $4.45 $1.25 $11.25 $2.15 $4.45 $2.50 $2.50 $8.99 $3.99 $8.75 $2.15 $11.75 $11.75 $1.25 $8.75 $9.39 $11.25 $9.25 $9.25 $2.95 $9.25 $4.45 $1.25 $9.25 $8.75 $11.75 $1.50 $8.75 $4.45 $8.99 $1.09 $9.25 $2.95 $8.99 $1.69 $8.69 $1.69 $11.25 $4.45 $8.75 $8.75 $4.45 $11.25 $8.75 $2.95 $1.50 $8.19 $8.69 $1.09 $1.69 $8.49 $8.75 $2.95 $1.25 $8.49 $3.99 $10.98 $3.39 $11.25 $11.25 $2.15 $18.50 $18.50 $8.49 $8.49 $11.25 $1.50 $8.49 $2.39 $8.99 $2.39 $11.75 $4.45 $17.50 $17.50 $9.25 $9.25 $8.75 $4.45 $3.75 $3.75 $3.75 $8.75 $4.45 $11.75 $2.95 $1.25 $4.45 $8.75 $1.25 $1.50 $9.25 $11.25 $11.25 $11.25 $11.25 $9.25 $11.25 $4.45 $8.75 $9.25 $8.75 $8.75 $4.45 $8.75 $1.25 $2.15 $8.75 $8.75 $4.30 $4.30 $8.75 $1.25 $2.95 $9.25 $2.95 $4.45 $11.25 $11.25 $9.25 $9.25 $4.50 $4.50 $4.50 $11.75 $1.25 $11.75 $11.75 $1.25 $1.25 $9.25 $4.45 $11.25 $11.75 $17.50 $17.50 $2.15 $1.25 $11.25 $15.00 $15.00 $15.00 $15.00 $15.00 $15.00 $15.00 $15.00 $15.00 $15.00 $11.25 $4.45 $4.45 $2.95 $11.25 $2.15 $1.25 $1.50 $8.75 $11.25 $2.95 $11.25 $1.25 $2.15 $11.25 $9.25 $6.49 $1.25 $8.75 $2.15 $8.75 $6.49 $11.25 $1.50 $8.75 $4.45 $8.75 $4.45 $9.25 $9.25 $1.25 $1.25 $8.75 $4.50 $4.50 $4.50 $11.25 $1.25 $1.50 $9.25 $2.15 $11.25 $4.45 $11.25 $4.45 $8.75 $4.45 $9.25 $4.45 $1.25 $11.25 $4.45 $8.75 $4.45 $8.75 $2.15 $8.75 $4.45 $8.75 $11.75 $1.50 $11.25 $4.45 $8.75 $2.15 $1.50 $8.75 $4.45 $8.75 $11.75 $8.75 $8.75 $11.25 $11.25 $1.50 $8.75 $2.15 $11.75 $2.15 $9.25 $2.95 $18.50 $18.50 $1.25 $4.45 $8.50 $8.50 $8.50 $8.50 $11.25 $11.89 $1.25 $9.39 $4.45 $8.75 $2.15 $1.50 $11.75 $8.75 $9.25 $9.25 $4.45 $1.25 $11.25 $9.25 $2.95 $8.75 $8.75 $2.15 $8.75 $11.25 $11.25 $11.25 $11.75 $11.25 $2.15 $11.25 $2.15 $8.99 $8.99 $8.75 $9.25 $9.25 $11.25 $8.75 $4.45 $8.75 $1.25 $4.45 $11.25 $1.25 $8.75 $8.75 $11.25 $8.75 $1.25 $1.25 $1.25 $9.25 $11.75 $2.15 $8.75 $4.45 $8.75 $4.45 $11.25 $9.25 $8.75 $9.25 $4.45 $11.75 $4.45 $1.25 $4.45 $11.75 $9.25 $11.25 $2.15 $23.50 $23.50 $9.25 $2.15 $18.50 $18.50 $8.75 $5.90 $5.90 $11.89 $4.45 $8.75 $4.45 $9.25 $2.95 $11.25 $2.95 $11.25 $11.25 $11.25 $2.95 $11.75 $9.25 $9.25 $2.95 $11.25 $2.15 $9.25 $8.90 $8.90 $8.75 $11.25 $11.25 $11.25 $8.75 $2.15 $1.25 $11.25 $1.25 $8.75 $4.45 $1.25 $11.25 $11.25 $11.75 $1.25 $11.25 $11.25 $11.25 $8.75 $8.75 $18.50 $18.50 $11.75 $1.25 $4.45 $9.25 $6.49 $4.45 $8.75 $11.25 $6.49 $11.75 $8.75 $9.25 $11.25 $2.15 $8.75 $4.45 $11.25 $4.45 $8.75 $9.25 $4.45 $1.25 $1.25 $8.75 $11.25 $11.75 $2.15 $11.75 $4.45 $11.75 $1.25 $11.75 $11.75 $11.25 $4.30 $4.30 $9.39 $9.39 $8.75 $1.25 $9.25 $4.45 $11.25 $1.25 $8.75 $1.25 $2.95 $11.25 $4.45 $8.75 $1.50 $4.45 $4.45 $9.25 $8.75 $2.95 $1.25 $11.25 $2.95 $8.75 $8.75 $8.75 $8.75 $4.30 $4.30 $9.25 $9.39 $4.45 $9.25 $1.25 $22.50 $22.50 $4.45 $2.95 $2.15 $23.50 $23.50 $11.75 $2.15 $1.25 $9.25 $4.45 $11.25 $11.75 $17.50 $17.50 $8.75 $11.75 $11.25 $8.75 $4.45 $11.75 $1.50 $8.75 $8.75 $11.75 $9.25 $11.25 $4.45 $11.75 $9.25 $4.45 $11.25 $8.75 $8.75 $2.15 $1.50 $8.75 $4.45 $9.25 $8.75 $1.50 $1.25 $1.25 $1.25 $8.75 $2.95 $11.25 $11.25 $1.50 $11.75 $11.25 $2.15 $9.25 $8.75 $11.75 $2.95 $1.50 $8.75 $1.50 $1.25 $8.75 $11.75 $11.25 $11.25 $11.75 $11.25 $11.75 $8.75 $17.80 $17.80 $17.80 $17.80 $5.00 $5.00 $5.00 $5.00 $5.00 $5.00 $5.00 $5.00 $8.75 $2.95 $1.25 $11.25 $1.25 $2.15 $11.25 $2.50 $2.50 $9.25 $1.25 $11.25 $2.95 $11.75 $2.15 $11.25 $1.50 $8.99 $1.99 $11.49 $8.75 $4.45 $1.25 $8.75 $4.45 $1.25 $1.50 $11.75 $8.75 $8.75 $11.25 $6.49 $11.75 $8.75 $2.15 $1.25 $6.49 $8.75 $4.45 $8.75 $4.45 $8.75 $11.25 $4.45 $6.49 $9.25 $8.75 $1.25 $4.45 $11.25 $8.75 $1.50 $8.75 $1.50 $1.25 $9.25 $9.39 $4.45 $9.25 $8.75 $4.45 $1.25 $11.25 $11.75 $8.75 $11.25 $9.25 $8.75 $11.25 $2.50 $2.50 $17.50 $17.50 $9.25 $4.45 $11.25 $1.25 $8.75 $4.45 $1.50 $8.75 $1.50 $1.25 $9.39 $8.75 $8.75 $4.45 $11.25 $1.25 $9.25 $4.45 $11.25 $8.75 $3.00 $3.00 $8.75 $2.15 $1.25 $11.25 $11.25 $4.45 $11.25 $11.25 $8.75 $11.75 $11.75 $11.75 $8.75 $4.45 $1.25 $1.50 $8.75 $4.45 $1.25 $9.25 $9.25 $8.75 $4.45 $1.25 $11.75 $11.25 $1.25 $11.75 $11.25 $9.25 $2.15 $1.50 $8.75 $4.45 $11.75 $11.75 $11.25 $8.75 $8.75 \n"
     ]
    }
   ],
   "source": [
    "chipo[\"ingresos\"] = chipo[\"quantity\"] * chipo[\"item_price\"]\n",
    "ingresos_totales = chipo[\"ingresos\"].sum()\n",
    "\n",
    "print(ingresos_totales)"
   ]
  },
  {
   "cell_type": "code",
   "execution_count": null,
   "metadata": {},
   "outputs": [],
   "source": [
    "# no se, no puedo convertir esta cadena en un float para poder sumarlo "
   ]
  },
  {
   "cell_type": "markdown",
   "metadata": {},
   "source": [
    "### Step 15. How many orders were made in the period?"
   ]
  },
  {
   "cell_type": "code",
   "execution_count": 82,
   "metadata": {
    "collapsed": false,
    "jupyter": {
     "outputs_hidden": false
    },
    "tags": []
   },
   "outputs": [
    {
     "name": "stdout",
     "output_type": "stream",
     "text": [
      "1834\n"
     ]
    }
   ],
   "source": [
    "num_orders = chipo['order_id'].nunique()\n",
    "print(num_orders)"
   ]
  },
  {
   "cell_type": "markdown",
   "metadata": {},
   "source": [
    "### Step 16. What is the average revenue amount per order?"
   ]
  },
  {
   "cell_type": "code",
   "execution_count": 84,
   "metadata": {
    "collapsed": false,
    "jupyter": {
     "outputs_hidden": false
    },
    "tags": []
   },
   "outputs": [
    {
     "data": {
      "text/plain": [
       "927.2548680225011"
      ]
     },
     "execution_count": 84,
     "metadata": {},
     "output_type": "execute_result"
    }
   ],
   "source": [
    "chipo[\"order_id\"].mean()\n"
   ]
  },
  {
   "cell_type": "code",
   "execution_count": 4,
   "metadata": {
    "collapsed": false,
    "jupyter": {
     "outputs_hidden": false
    }
   },
   "outputs": [],
   "source": [
    "# Solution 2\n",
    "\n"
   ]
  },
  {
   "cell_type": "markdown",
   "metadata": {},
   "source": [
    "### Step 17. How many different items are sold?"
   ]
  },
  {
   "cell_type": "code",
   "execution_count": 86,
   "metadata": {
    "tags": []
   },
   "outputs": [
    {
     "name": "stdout",
     "output_type": "stream",
     "text": [
      "50\n"
     ]
    }
   ],
   "source": [
    "diff_items = chipo[\"item_name\"].nunique()\n",
    "print(diff_items)"
   ]
  },
  {
   "cell_type": "markdown",
   "metadata": {},
   "source": [
    "# Part 2 - Filtering and Sorting Data"
   ]
  },
  {
   "cell_type": "markdown",
   "metadata": {},
   "source": [
    "This time we are going to pull data directly from the internet.\n",
    "Special thanks to: https://github.com/justmarkham for sharing the dataset and materials.\n",
    "\n",
    "### Step 1. Import the necessary libraries"
   ]
  },
  {
   "cell_type": "code",
   "execution_count": 87,
   "metadata": {
    "collapsed": false,
    "jupyter": {
     "outputs_hidden": false
    },
    "tags": []
   },
   "outputs": [],
   "source": [
    "import numpy as np\n",
    "import pandas as pd"
   ]
  },
  {
   "cell_type": "markdown",
   "metadata": {},
   "source": [
    "### Step 2. Import the dataset from this [address](https://raw.githubusercontent.com/justmarkham/DAT8/master/data/chipotle.tsv). "
   ]
  },
  {
   "cell_type": "code",
   "execution_count": 88,
   "metadata": {
    "tags": []
   },
   "outputs": [
    {
     "name": "stdout",
     "output_type": "stream",
     "text": [
      "<bound method DataFrame.info of       order_id  quantity                              item_name  \\\n",
      "0            1         1           Chips and Fresh Tomato Salsa   \n",
      "1            1         1                                   Izze   \n",
      "2            1         1                       Nantucket Nectar   \n",
      "3            1         1  Chips and Tomatillo-Green Chili Salsa   \n",
      "4            2         2                           Chicken Bowl   \n",
      "...        ...       ...                                    ...   \n",
      "4617      1833         1                          Steak Burrito   \n",
      "4618      1833         1                          Steak Burrito   \n",
      "4619      1834         1                     Chicken Salad Bowl   \n",
      "4620      1834         1                     Chicken Salad Bowl   \n",
      "4621      1834         1                     Chicken Salad Bowl   \n",
      "\n",
      "                                     choice_description item_price  \n",
      "0                                                   NaN     $2.39   \n",
      "1                                          [Clementine]     $3.39   \n",
      "2                                               [Apple]     $3.39   \n",
      "3                                                   NaN     $2.39   \n",
      "4     [Tomatillo-Red Chili Salsa (Hot), [Black Beans...    $16.98   \n",
      "...                                                 ...        ...  \n",
      "4617  [Fresh Tomato Salsa, [Rice, Black Beans, Sour ...    $11.75   \n",
      "4618  [Fresh Tomato Salsa, [Rice, Sour Cream, Cheese...    $11.75   \n",
      "4619  [Fresh Tomato Salsa, [Fajita Vegetables, Pinto...    $11.25   \n",
      "4620  [Fresh Tomato Salsa, [Fajita Vegetables, Lettu...     $8.75   \n",
      "4621  [Fresh Tomato Salsa, [Fajita Vegetables, Pinto...     $8.75   \n",
      "\n",
      "[4622 rows x 5 columns]>\n"
     ]
    }
   ],
   "source": [
    "import pandas as pd\n",
    "\n",
    "# URL of the dataset\n",
    "url = \"https://raw.githubusercontent.com/justmarkham/DAT8/master/data/chipotle.tsv\"\n",
    "\n",
    "# Import the dataset\n",
    "df = pd.read_csv(url, sep='\\t')\n",
    "\n",
    "# Display the first few rows of the DataFrame\n",
    "print(df.info)\n"
   ]
  },
  {
   "cell_type": "markdown",
   "metadata": {},
   "source": [
    "### Step 3. Assign it to a variable called chipo."
   ]
  },
  {
   "cell_type": "code",
   "execution_count": 89,
   "metadata": {
    "collapsed": false,
    "jupyter": {
     "outputs_hidden": false
    },
    "tags": []
   },
   "outputs": [
    {
     "name": "stdout",
     "output_type": "stream",
     "text": [
      "      order_id  quantity                              item_name  \\\n",
      "0            1         1           Chips and Fresh Tomato Salsa   \n",
      "1            1         1                                   Izze   \n",
      "2            1         1                       Nantucket Nectar   \n",
      "3            1         1  Chips and Tomatillo-Green Chili Salsa   \n",
      "4            2         2                           Chicken Bowl   \n",
      "...        ...       ...                                    ...   \n",
      "4617      1833         1                          Steak Burrito   \n",
      "4618      1833         1                          Steak Burrito   \n",
      "4619      1834         1                     Chicken Salad Bowl   \n",
      "4620      1834         1                     Chicken Salad Bowl   \n",
      "4621      1834         1                     Chicken Salad Bowl   \n",
      "\n",
      "                                     choice_description item_price  \n",
      "0                                                   NaN     $2.39   \n",
      "1                                          [Clementine]     $3.39   \n",
      "2                                               [Apple]     $3.39   \n",
      "3                                                   NaN     $2.39   \n",
      "4     [Tomatillo-Red Chili Salsa (Hot), [Black Beans...    $16.98   \n",
      "...                                                 ...        ...  \n",
      "4617  [Fresh Tomato Salsa, [Rice, Black Beans, Sour ...    $11.75   \n",
      "4618  [Fresh Tomato Salsa, [Rice, Sour Cream, Cheese...    $11.75   \n",
      "4619  [Fresh Tomato Salsa, [Fajita Vegetables, Pinto...    $11.25   \n",
      "4620  [Fresh Tomato Salsa, [Fajita Vegetables, Lettu...     $8.75   \n",
      "4621  [Fresh Tomato Salsa, [Fajita Vegetables, Pinto...     $8.75   \n",
      "\n",
      "[4622 rows x 5 columns]\n"
     ]
    }
   ],
   "source": [
    "chipo = pd.read_csv(url, sep='\\t')\n",
    "print(chipo)"
   ]
  },
  {
   "cell_type": "markdown",
   "metadata": {},
   "source": [
    "### Step 4. How many products cost more than $10.00?"
   ]
  },
  {
   "cell_type": "code",
   "execution_count": 91,
   "metadata": {
    "collapsed": false,
    "jupyter": {
     "outputs_hidden": false
    },
    "tags": []
   },
   "outputs": [
    {
     "ename": "TypeError",
     "evalue": "'>' not supported between instances of 'str' and 'float'",
     "output_type": "error",
     "traceback": [
      "\u001b[1;31m---------------------------------------------------------------------------\u001b[0m",
      "\u001b[1;31mTypeError\u001b[0m                                 Traceback (most recent call last)",
      "Cell \u001b[1;32mIn[91], line 1\u001b[0m\n\u001b[1;32m----> 1\u001b[0m products \u001b[38;5;241m=\u001b[39m chipo[chipo[\u001b[38;5;124m'\u001b[39m\u001b[38;5;124mitem_price\u001b[39m\u001b[38;5;124m'\u001b[39m] \u001b[38;5;241m>\u001b[39m \u001b[38;5;241m10.00\u001b[39m]\n\u001b[0;32m      2\u001b[0m products \u001b[38;5;241m=\u001b[39m \u001b[38;5;28mlen\u001b[39m(products)\n\u001b[0;32m      4\u001b[0m \u001b[38;5;28mprint\u001b[39m(\u001b[38;5;124m\"\u001b[39m\u001b[38;5;124mlos productos que cuestan mas de 10.00$ son:\u001b[39m\u001b[38;5;124m\"\u001b[39m, products)\n",
      "File \u001b[1;32m~\\anaconda3\\Lib\\site-packages\\pandas\\core\\ops\\common.py:81\u001b[0m, in \u001b[0;36m_unpack_zerodim_and_defer.<locals>.new_method\u001b[1;34m(self, other)\u001b[0m\n\u001b[0;32m     77\u001b[0m             \u001b[38;5;28;01mreturn\u001b[39;00m \u001b[38;5;28mNotImplemented\u001b[39m\n\u001b[0;32m     79\u001b[0m other \u001b[38;5;241m=\u001b[39m item_from_zerodim(other)\n\u001b[1;32m---> 81\u001b[0m \u001b[38;5;28;01mreturn\u001b[39;00m method(\u001b[38;5;28mself\u001b[39m, other)\n",
      "File \u001b[1;32m~\\anaconda3\\Lib\\site-packages\\pandas\\core\\arraylike.py:56\u001b[0m, in \u001b[0;36mOpsMixin.__gt__\u001b[1;34m(self, other)\u001b[0m\n\u001b[0;32m     54\u001b[0m \u001b[38;5;129m@unpack_zerodim_and_defer\u001b[39m(\u001b[38;5;124m\"\u001b[39m\u001b[38;5;124m__gt__\u001b[39m\u001b[38;5;124m\"\u001b[39m)\n\u001b[0;32m     55\u001b[0m \u001b[38;5;28;01mdef\u001b[39;00m \u001b[38;5;21m__gt__\u001b[39m(\u001b[38;5;28mself\u001b[39m, other):\n\u001b[1;32m---> 56\u001b[0m     \u001b[38;5;28;01mreturn\u001b[39;00m \u001b[38;5;28mself\u001b[39m\u001b[38;5;241m.\u001b[39m_cmp_method(other, operator\u001b[38;5;241m.\u001b[39mgt)\n",
      "File \u001b[1;32m~\\anaconda3\\Lib\\site-packages\\pandas\\core\\series.py:6096\u001b[0m, in \u001b[0;36mSeries._cmp_method\u001b[1;34m(self, other, op)\u001b[0m\n\u001b[0;32m   6093\u001b[0m rvalues \u001b[38;5;241m=\u001b[39m extract_array(other, extract_numpy\u001b[38;5;241m=\u001b[39m\u001b[38;5;28;01mTrue\u001b[39;00m, extract_range\u001b[38;5;241m=\u001b[39m\u001b[38;5;28;01mTrue\u001b[39;00m)\n\u001b[0;32m   6095\u001b[0m \u001b[38;5;28;01mwith\u001b[39;00m np\u001b[38;5;241m.\u001b[39merrstate(\u001b[38;5;28mall\u001b[39m\u001b[38;5;241m=\u001b[39m\u001b[38;5;124m\"\u001b[39m\u001b[38;5;124mignore\u001b[39m\u001b[38;5;124m\"\u001b[39m):\n\u001b[1;32m-> 6096\u001b[0m     res_values \u001b[38;5;241m=\u001b[39m ops\u001b[38;5;241m.\u001b[39mcomparison_op(lvalues, rvalues, op)\n\u001b[0;32m   6098\u001b[0m \u001b[38;5;28;01mreturn\u001b[39;00m \u001b[38;5;28mself\u001b[39m\u001b[38;5;241m.\u001b[39m_construct_result(res_values, name\u001b[38;5;241m=\u001b[39mres_name)\n",
      "File \u001b[1;32m~\\anaconda3\\Lib\\site-packages\\pandas\\core\\ops\\array_ops.py:293\u001b[0m, in \u001b[0;36mcomparison_op\u001b[1;34m(left, right, op)\u001b[0m\n\u001b[0;32m    290\u001b[0m     \u001b[38;5;28;01mreturn\u001b[39;00m invalid_comparison(lvalues, rvalues, op)\n\u001b[0;32m    292\u001b[0m \u001b[38;5;28;01melif\u001b[39;00m is_object_dtype(lvalues\u001b[38;5;241m.\u001b[39mdtype) \u001b[38;5;129;01mor\u001b[39;00m \u001b[38;5;28misinstance\u001b[39m(rvalues, \u001b[38;5;28mstr\u001b[39m):\n\u001b[1;32m--> 293\u001b[0m     res_values \u001b[38;5;241m=\u001b[39m comp_method_OBJECT_ARRAY(op, lvalues, rvalues)\n\u001b[0;32m    295\u001b[0m \u001b[38;5;28;01melse\u001b[39;00m:\n\u001b[0;32m    296\u001b[0m     res_values \u001b[38;5;241m=\u001b[39m _na_arithmetic_op(lvalues, rvalues, op, is_cmp\u001b[38;5;241m=\u001b[39m\u001b[38;5;28;01mTrue\u001b[39;00m)\n",
      "File \u001b[1;32m~\\anaconda3\\Lib\\site-packages\\pandas\\core\\ops\\array_ops.py:82\u001b[0m, in \u001b[0;36mcomp_method_OBJECT_ARRAY\u001b[1;34m(op, x, y)\u001b[0m\n\u001b[0;32m     80\u001b[0m     result \u001b[38;5;241m=\u001b[39m libops\u001b[38;5;241m.\u001b[39mvec_compare(x\u001b[38;5;241m.\u001b[39mravel(), y\u001b[38;5;241m.\u001b[39mravel(), op)\n\u001b[0;32m     81\u001b[0m \u001b[38;5;28;01melse\u001b[39;00m:\n\u001b[1;32m---> 82\u001b[0m     result \u001b[38;5;241m=\u001b[39m libops\u001b[38;5;241m.\u001b[39mscalar_compare(x\u001b[38;5;241m.\u001b[39mravel(), y, op)\n\u001b[0;32m     83\u001b[0m \u001b[38;5;28;01mreturn\u001b[39;00m result\u001b[38;5;241m.\u001b[39mreshape(x\u001b[38;5;241m.\u001b[39mshape)\n",
      "File \u001b[1;32m~\\anaconda3\\Lib\\site-packages\\pandas\\_libs\\ops.pyx:107\u001b[0m, in \u001b[0;36mpandas._libs.ops.scalar_compare\u001b[1;34m()\u001b[0m\n",
      "\u001b[1;31mTypeError\u001b[0m: '>' not supported between instances of 'str' and 'float'"
     ]
    }
   ],
   "source": [
    "products = chipo[chipo['item_price'] > 10.00]\n",
    "products = len(products)\n",
    "\n",
    "print(\"los productos que cuestan mas de 10.00$ son:\", products)"
   ]
  },
  {
   "cell_type": "markdown",
   "metadata": {},
   "source": [
    "### Step 5. What is the price of each item? \n",
    "###### print a data frame with only two columns item_name and item_price"
   ]
  },
  {
   "cell_type": "code",
   "execution_count": 103,
   "metadata": {
    "tags": []
   },
   "outputs": [
    {
     "data": {
      "text/html": [
       "<div>\n",
       "<style scoped>\n",
       "    .dataframe tbody tr th:only-of-type {\n",
       "        vertical-align: middle;\n",
       "    }\n",
       "\n",
       "    .dataframe tbody tr th {\n",
       "        vertical-align: top;\n",
       "    }\n",
       "\n",
       "    .dataframe thead th {\n",
       "        text-align: right;\n",
       "    }\n",
       "</style>\n",
       "<table border=\"1\" class=\"dataframe\">\n",
       "  <thead>\n",
       "    <tr style=\"text-align: right;\">\n",
       "      <th></th>\n",
       "      <th>order_id</th>\n",
       "      <th>quantity</th>\n",
       "      <th>item_name</th>\n",
       "      <th>choice_description</th>\n",
       "      <th>item_price</th>\n",
       "    </tr>\n",
       "  </thead>\n",
       "  <tbody>\n",
       "    <tr>\n",
       "      <th>0</th>\n",
       "      <td>1</td>\n",
       "      <td>1</td>\n",
       "      <td>Chips and Fresh Tomato Salsa</td>\n",
       "      <td>NaN</td>\n",
       "      <td>$2.39</td>\n",
       "    </tr>\n",
       "    <tr>\n",
       "      <th>1</th>\n",
       "      <td>1</td>\n",
       "      <td>1</td>\n",
       "      <td>Izze</td>\n",
       "      <td>[Clementine]</td>\n",
       "      <td>$3.39</td>\n",
       "    </tr>\n",
       "    <tr>\n",
       "      <th>2</th>\n",
       "      <td>1</td>\n",
       "      <td>1</td>\n",
       "      <td>Nantucket Nectar</td>\n",
       "      <td>[Apple]</td>\n",
       "      <td>$3.39</td>\n",
       "    </tr>\n",
       "    <tr>\n",
       "      <th>3</th>\n",
       "      <td>1</td>\n",
       "      <td>1</td>\n",
       "      <td>Chips and Tomatillo-Green Chili Salsa</td>\n",
       "      <td>NaN</td>\n",
       "      <td>$2.39</td>\n",
       "    </tr>\n",
       "    <tr>\n",
       "      <th>4</th>\n",
       "      <td>2</td>\n",
       "      <td>2</td>\n",
       "      <td>Chicken Bowl</td>\n",
       "      <td>[Tomatillo-Red Chili Salsa (Hot), [Black Beans...</td>\n",
       "      <td>$16.98</td>\n",
       "    </tr>\n",
       "    <tr>\n",
       "      <th>...</th>\n",
       "      <td>...</td>\n",
       "      <td>...</td>\n",
       "      <td>...</td>\n",
       "      <td>...</td>\n",
       "      <td>...</td>\n",
       "    </tr>\n",
       "    <tr>\n",
       "      <th>4617</th>\n",
       "      <td>1833</td>\n",
       "      <td>1</td>\n",
       "      <td>Steak Burrito</td>\n",
       "      <td>[Fresh Tomato Salsa, [Rice, Black Beans, Sour ...</td>\n",
       "      <td>$11.75</td>\n",
       "    </tr>\n",
       "    <tr>\n",
       "      <th>4618</th>\n",
       "      <td>1833</td>\n",
       "      <td>1</td>\n",
       "      <td>Steak Burrito</td>\n",
       "      <td>[Fresh Tomato Salsa, [Rice, Sour Cream, Cheese...</td>\n",
       "      <td>$11.75</td>\n",
       "    </tr>\n",
       "    <tr>\n",
       "      <th>4619</th>\n",
       "      <td>1834</td>\n",
       "      <td>1</td>\n",
       "      <td>Chicken Salad Bowl</td>\n",
       "      <td>[Fresh Tomato Salsa, [Fajita Vegetables, Pinto...</td>\n",
       "      <td>$11.25</td>\n",
       "    </tr>\n",
       "    <tr>\n",
       "      <th>4620</th>\n",
       "      <td>1834</td>\n",
       "      <td>1</td>\n",
       "      <td>Chicken Salad Bowl</td>\n",
       "      <td>[Fresh Tomato Salsa, [Fajita Vegetables, Lettu...</td>\n",
       "      <td>$8.75</td>\n",
       "    </tr>\n",
       "    <tr>\n",
       "      <th>4621</th>\n",
       "      <td>1834</td>\n",
       "      <td>1</td>\n",
       "      <td>Chicken Salad Bowl</td>\n",
       "      <td>[Fresh Tomato Salsa, [Fajita Vegetables, Pinto...</td>\n",
       "      <td>$8.75</td>\n",
       "    </tr>\n",
       "  </tbody>\n",
       "</table>\n",
       "<p>4622 rows × 5 columns</p>\n",
       "</div>"
      ],
      "text/plain": [
       "      order_id  quantity                              item_name  \\\n",
       "0            1         1           Chips and Fresh Tomato Salsa   \n",
       "1            1         1                                   Izze   \n",
       "2            1         1                       Nantucket Nectar   \n",
       "3            1         1  Chips and Tomatillo-Green Chili Salsa   \n",
       "4            2         2                           Chicken Bowl   \n",
       "...        ...       ...                                    ...   \n",
       "4617      1833         1                          Steak Burrito   \n",
       "4618      1833         1                          Steak Burrito   \n",
       "4619      1834         1                     Chicken Salad Bowl   \n",
       "4620      1834         1                     Chicken Salad Bowl   \n",
       "4621      1834         1                     Chicken Salad Bowl   \n",
       "\n",
       "                                     choice_description item_price  \n",
       "0                                                   NaN     $2.39   \n",
       "1                                          [Clementine]     $3.39   \n",
       "2                                               [Apple]     $3.39   \n",
       "3                                                   NaN     $2.39   \n",
       "4     [Tomatillo-Red Chili Salsa (Hot), [Black Beans...    $16.98   \n",
       "...                                                 ...        ...  \n",
       "4617  [Fresh Tomato Salsa, [Rice, Black Beans, Sour ...    $11.75   \n",
       "4618  [Fresh Tomato Salsa, [Rice, Sour Cream, Cheese...    $11.75   \n",
       "4619  [Fresh Tomato Salsa, [Fajita Vegetables, Pinto...    $11.25   \n",
       "4620  [Fresh Tomato Salsa, [Fajita Vegetables, Lettu...     $8.75   \n",
       "4621  [Fresh Tomato Salsa, [Fajita Vegetables, Pinto...     $8.75   \n",
       "\n",
       "[4622 rows x 5 columns]"
      ]
     },
     "execution_count": 103,
     "metadata": {},
     "output_type": "execute_result"
    }
   ],
   "source": [
    "chipo"
   ]
  },
  {
   "cell_type": "code",
   "execution_count": 104,
   "metadata": {
    "tags": []
   },
   "outputs": [
    {
     "data": {
      "text/html": [
       "<div>\n",
       "<style scoped>\n",
       "    .dataframe tbody tr th:only-of-type {\n",
       "        vertical-align: middle;\n",
       "    }\n",
       "\n",
       "    .dataframe tbody tr th {\n",
       "        vertical-align: top;\n",
       "    }\n",
       "\n",
       "    .dataframe thead th {\n",
       "        text-align: right;\n",
       "    }\n",
       "</style>\n",
       "<table border=\"1\" class=\"dataframe\">\n",
       "  <thead>\n",
       "    <tr style=\"text-align: right;\">\n",
       "      <th></th>\n",
       "      <th>item_name</th>\n",
       "      <th>item_price</th>\n",
       "    </tr>\n",
       "  </thead>\n",
       "  <tbody>\n",
       "    <tr>\n",
       "      <th>3889</th>\n",
       "      <td>Veggie Soft Tacos</td>\n",
       "      <td>$16.98</td>\n",
       "    </tr>\n",
       "    <tr>\n",
       "      <th>2851</th>\n",
       "      <td>Veggie Soft Tacos</td>\n",
       "      <td>$8.49</td>\n",
       "    </tr>\n",
       "    <tr>\n",
       "      <th>738</th>\n",
       "      <td>Veggie Soft Tacos</td>\n",
       "      <td>$11.25</td>\n",
       "    </tr>\n",
       "    <tr>\n",
       "      <th>1395</th>\n",
       "      <td>Veggie Soft Tacos</td>\n",
       "      <td>$8.49</td>\n",
       "    </tr>\n",
       "    <tr>\n",
       "      <th>2384</th>\n",
       "      <td>Veggie Soft Tacos</td>\n",
       "      <td>$8.75</td>\n",
       "    </tr>\n",
       "    <tr>\n",
       "      <th>...</th>\n",
       "      <td>...</td>\n",
       "      <td>...</td>\n",
       "    </tr>\n",
       "    <tr>\n",
       "      <th>1916</th>\n",
       "      <td>6 Pack Soft Drink</td>\n",
       "      <td>$6.49</td>\n",
       "    </tr>\n",
       "    <tr>\n",
       "      <th>1124</th>\n",
       "      <td>6 Pack Soft Drink</td>\n",
       "      <td>$6.49</td>\n",
       "    </tr>\n",
       "    <tr>\n",
       "      <th>3789</th>\n",
       "      <td>6 Pack Soft Drink</td>\n",
       "      <td>$6.49</td>\n",
       "    </tr>\n",
       "    <tr>\n",
       "      <th>1392</th>\n",
       "      <td>6 Pack Soft Drink</td>\n",
       "      <td>$6.49</td>\n",
       "    </tr>\n",
       "    <tr>\n",
       "      <th>3614</th>\n",
       "      <td>6 Pack Soft Drink</td>\n",
       "      <td>$6.49</td>\n",
       "    </tr>\n",
       "  </tbody>\n",
       "</table>\n",
       "<p>4622 rows × 2 columns</p>\n",
       "</div>"
      ],
      "text/plain": [
       "              item_name item_price\n",
       "3889  Veggie Soft Tacos    $16.98 \n",
       "2851  Veggie Soft Tacos     $8.49 \n",
       "738   Veggie Soft Tacos    $11.25 \n",
       "1395  Veggie Soft Tacos     $8.49 \n",
       "2384  Veggie Soft Tacos     $8.75 \n",
       "...                 ...        ...\n",
       "1916  6 Pack Soft Drink     $6.49 \n",
       "1124  6 Pack Soft Drink     $6.49 \n",
       "3789  6 Pack Soft Drink     $6.49 \n",
       "1392  6 Pack Soft Drink     $6.49 \n",
       "3614  6 Pack Soft Drink     $6.49 \n",
       "\n",
       "[4622 rows x 2 columns]"
      ]
     },
     "execution_count": 104,
     "metadata": {},
     "output_type": "execute_result"
    }
   ],
   "source": [
    "df.sort_values(by=\"item_name\", ascending=False)[[\"item_name\", \"item_price\"]]"
   ]
  },
  {
   "cell_type": "code",
   "execution_count": 105,
   "metadata": {
    "tags": []
   },
   "outputs": [
    {
     "data": {
      "text/plain": [
       "order_id              1834\n",
       "quantity                 9\n",
       "item_name               50\n",
       "choice_description    1043\n",
       "item_price              78\n",
       "dtype: int64"
      ]
     },
     "execution_count": 105,
     "metadata": {},
     "output_type": "execute_result"
    }
   ],
   "source": [
    "chipo.nunique()"
   ]
  },
  {
   "cell_type": "code",
   "execution_count": 106,
   "metadata": {
    "tags": []
   },
   "outputs": [
    {
     "data": {
      "text/plain": [
       "item_name\n",
       "Chicken Bowl                             726\n",
       "Chicken Burrito                          553\n",
       "Chips and Guacamole                      479\n",
       "Steak Burrito                            368\n",
       "Canned Soft Drink                        301\n",
       "Steak Bowl                               211\n",
       "Chips                                    211\n",
       "Bottled Water                            162\n",
       "Chicken Soft Tacos                       115\n",
       "Chips and Fresh Tomato Salsa             110\n",
       "Chicken Salad Bowl                       110\n",
       "Canned Soda                              104\n",
       "Side of Chips                            101\n",
       "Veggie Burrito                            95\n",
       "Barbacoa Burrito                          91\n",
       "Veggie Bowl                               85\n",
       "Carnitas Bowl                             68\n",
       "Barbacoa Bowl                             66\n",
       "Carnitas Burrito                          59\n",
       "Steak Soft Tacos                          55\n",
       "6 Pack Soft Drink                         54\n",
       "Chips and Tomatillo Red Chili Salsa       48\n",
       "Chicken Crispy Tacos                      47\n",
       "Chips and Tomatillo Green Chili Salsa     43\n",
       "Carnitas Soft Tacos                       40\n",
       "Steak Crispy Tacos                        35\n",
       "Chips and Tomatillo-Green Chili Salsa     31\n",
       "Steak Salad Bowl                          29\n",
       "Nantucket Nectar                          27\n",
       "Barbacoa Soft Tacos                       25\n",
       "Chips and Roasted Chili Corn Salsa        22\n",
       "Izze                                      20\n",
       "Chips and Tomatillo-Red Chili Salsa       20\n",
       "Veggie Salad Bowl                         18\n",
       "Chips and Roasted Chili-Corn Salsa        18\n",
       "Barbacoa Crispy Tacos                     11\n",
       "Barbacoa Salad Bowl                       10\n",
       "Chicken Salad                              9\n",
       "Veggie Soft Tacos                          7\n",
       "Carnitas Crispy Tacos                      7\n",
       "Veggie Salad                               6\n",
       "Carnitas Salad Bowl                        6\n",
       "Burrito                                    6\n",
       "Steak Salad                                4\n",
       "Crispy Tacos                               2\n",
       "Salad                                      2\n",
       "Bowl                                       2\n",
       "Chips and Mild Fresh Tomato Salsa          1\n",
       "Veggie Crispy Tacos                        1\n",
       "Carnitas Salad                             1\n",
       "Name: count, dtype: int64"
      ]
     },
     "execution_count": 106,
     "metadata": {},
     "output_type": "execute_result"
    }
   ],
   "source": [
    "chipo.item_name.value_counts()"
   ]
  },
  {
   "cell_type": "code",
   "execution_count": 107,
   "metadata": {
    "collapsed": true,
    "jupyter": {
     "outputs_hidden": true
    },
    "tags": []
   },
   "outputs": [
    {
     "data": {
      "text/plain": [
       "item_price\n",
       "$8.75      730\n",
       "$11.25     521\n",
       "$9.25      398\n",
       "$4.45      349\n",
       "$8.49      311\n",
       "          ... \n",
       "$13.35       1\n",
       "$7.50        1\n",
       "$4.36        1\n",
       "$11.80       1\n",
       "$11.49       1\n",
       "Name: count, Length: 78, dtype: int64"
      ]
     },
     "execution_count": 107,
     "metadata": {},
     "output_type": "execute_result"
    }
   ],
   "source": [
    "chipo.item_price.value_counts()"
   ]
  },
  {
   "cell_type": "raw",
   "metadata": {},
   "source": [
    "### Step 6. Sort by the name of the item"
   ]
  },
  {
   "cell_type": "code",
   "execution_count": 109,
   "metadata": {
    "tags": []
   },
   "outputs": [
    {
     "name": "stdout",
     "output_type": "stream",
     "text": [
      "      order_id  quantity          item_name  \\\n",
      "3389      1360         2  6 Pack Soft Drink   \n",
      "341        148         1  6 Pack Soft Drink   \n",
      "1849       749         1  6 Pack Soft Drink   \n",
      "1860       754         1  6 Pack Soft Drink   \n",
      "2713      1076         1  6 Pack Soft Drink   \n",
      "...        ...       ...                ...   \n",
      "2384       948         1  Veggie Soft Tacos   \n",
      "781        322         1  Veggie Soft Tacos   \n",
      "2851      1132         1  Veggie Soft Tacos   \n",
      "1699       688         1  Veggie Soft Tacos   \n",
      "1395       567         1  Veggie Soft Tacos   \n",
      "\n",
      "                                     choice_description item_price  \n",
      "3389                                        [Diet Coke]    $12.98   \n",
      "341                                         [Diet Coke]     $6.49   \n",
      "1849                                             [Coke]     $6.49   \n",
      "1860                                        [Diet Coke]     $6.49   \n",
      "2713                                             [Coke]     $6.49   \n",
      "...                                                 ...        ...  \n",
      "2384  [Roasted Chili Corn Salsa, [Fajita Vegetables,...     $8.75   \n",
      "781   [Fresh Tomato Salsa, [Black Beans, Cheese, Sou...     $8.75   \n",
      "2851  [Roasted Chili Corn Salsa (Medium), [Black Bea...     $8.49   \n",
      "1699  [Fresh Tomato Salsa, [Fajita Vegetables, Rice,...    $11.25   \n",
      "1395  [Fresh Tomato Salsa (Mild), [Pinto Beans, Rice...     $8.49   \n",
      "\n",
      "[4622 rows x 5 columns]\n"
     ]
    }
   ],
   "source": [
    "sorted_chipo = df.sort_values(by=\"item_name\")\n",
    "print(sorted_chipo)"
   ]
  },
  {
   "cell_type": "code",
   "execution_count": 110,
   "metadata": {
    "tags": []
   },
   "outputs": [
    {
     "name": "stdout",
     "output_type": "stream",
     "text": [
      "      order_id  quantity            item_name  \\\n",
      "261        113         1          Canned Soda   \n",
      "1805       730         1          Canned Soda   \n",
      "1030       424         1          Canned Soda   \n",
      "3020      1201         1          Canned Soda   \n",
      "3021      1201         1        Bottled Water   \n",
      "...        ...       ...                  ...   \n",
      "4547      1807         1     Steak Salad Bowl   \n",
      "4391      1752         1     Steak Salad Bowl   \n",
      "2600      1032         1     Steak Salad Bowl   \n",
      "4241      1693         1     Steak Salad Bowl   \n",
      "4390      1751         1  Barbacoa Salad Bowl   \n",
      "\n",
      "                                     choice_description item_price  \n",
      "261                                      [Mountain Dew]     $1.09   \n",
      "1805                                           [Sprite]     $1.09   \n",
      "1030                                  [Diet Dr. Pepper]     $1.09   \n",
      "3020                                  [Diet Dr. Pepper]     $1.09   \n",
      "3021                                                NaN     $1.09   \n",
      "...                                                 ...        ...  \n",
      "4547  [Roasted Chili Corn Salsa, [Fajita Vegetables,...     $9.39   \n",
      "4391  [Fresh Tomato Salsa, [Black Beans, Pinto Beans...     $9.39   \n",
      "2600  [Fresh Tomato Salsa, [Fajita Vegetables, Lettu...     $9.39   \n",
      "4241  [Roasted Chili Corn Salsa, [Fajita Vegetables,...     $9.39   \n",
      "4390  [Tomatillo Green Chili Salsa, [Fajita Vegetabl...     $9.39   \n",
      "\n",
      "[4622 rows x 5 columns]\n"
     ]
    }
   ],
   "source": [
    "sorted_chipo1 = df.sort_values(by=\"item_price\")\n",
    "print(sorted_chipo1)"
   ]
  },
  {
   "cell_type": "markdown",
   "metadata": {},
   "source": [
    "### Step 7. What was the quantity of the most expensive item ordered?"
   ]
  },
  {
   "cell_type": "code",
   "execution_count": null,
   "metadata": {},
   "outputs": [],
   "source": []
  },
  {
   "cell_type": "markdown",
   "metadata": {},
   "source": [
    "### Step 8. How many times was a Veggie Salad Bowl ordered?"
   ]
  },
  {
   "cell_type": "code",
   "execution_count": 93,
   "metadata": {
    "collapsed": false,
    "jupyter": {
     "outputs_hidden": false
    },
    "tags": []
   },
   "outputs": [
    {
     "name": "stdout",
     "output_type": "stream",
     "text": [
      "18\n"
     ]
    }
   ],
   "source": [
    "veggie_salad = chipo[chipo[\"item_name\"] == \"Veggie Salad Bowl\"]   \n",
    "veggie_salad_orders = len(veggie_salad)\n",
    "\n",
    "print(veggie_salad_orders)"
   ]
  },
  {
   "cell_type": "markdown",
   "metadata": {},
   "source": [
    "### Step 9. How many times did someone order more than one Canned Soda?"
   ]
  },
  {
   "cell_type": "code",
   "execution_count": null,
   "metadata": {},
   "outputs": [],
   "source": []
  }
 ],
 "metadata": {
  "anaconda-cloud": {},
  "kernelspec": {
   "display_name": "Python 3 (ipykernel)",
   "language": "python",
   "name": "python3"
  },
  "language_info": {
   "codemirror_mode": {
    "name": "ipython",
    "version": 3
   },
   "file_extension": ".py",
   "mimetype": "text/x-python",
   "name": "python",
   "nbconvert_exporter": "python",
   "pygments_lexer": "ipython3",
   "version": "3.11.5"
  }
 },
 "nbformat": 4,
 "nbformat_minor": 4
}
